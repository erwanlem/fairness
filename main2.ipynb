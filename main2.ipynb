{
 "cells": [
  {
   "cell_type": "code",
   "execution_count": null,
   "metadata": {},
   "outputs": [],
   "source": [
    "import pandas as pd\n",
    "import numpy as np\n",
    "import plotly.express as px\n",
    "import matplotlib.pyplot as plt\n",
    "import imblearn"
   ]
  },
  {
   "cell_type": "markdown",
   "metadata": {},
   "source": [
    "L'objectif est de prédire si un accident donné est mortel ou non."
   ]
  },
  {
   "cell_type": "code",
   "execution_count": null,
   "metadata": {},
   "outputs": [],
   "source": [
    "label = \"mortal\"\n",
    "\n",
    "# Lecture datasets\n",
    "df1 = pd.read_csv(\"dataset/usagers-2022.csv\", sep=';')\n",
    "df2 = pd.read_csv(\"dataset/lieux-2022.csv\", sep=';')\n",
    "df3 = pd.read_csv(\"dataset/carcteristiques-2022.csv\", sep=';')\n",
    "df4 = pd.read_csv(\"dataset/vehicules-2022.csv\", sep=';')\n",
    "\n",
    "df4 = df4.drop(columns=['id_vehicule', 'num_veh'])\n",
    "\n",
    "\n",
    "df = df1.join(df2.set_index('Num_Acc'), on='Num_Acc')\n",
    "df = df.join(df3.set_index('Accident_Id'), on='Num_Acc')\n",
    "df = df.join(df4.set_index('Num_Acc'), on='Num_Acc', lsuffix='_')"
   ]
  },
  {
   "cell_type": "code",
   "execution_count": null,
   "metadata": {},
   "outputs": [],
   "source": [
    "# Suppression colonnes inutiles\n",
    "df = df.drop(columns=['v1', 'v2', 'pr', 'pr1', 'lartpc', 'larrout'\n",
    "                      , 'num_veh', 'occutc', 'adr', 'senc','etatp','actp', \n",
    "                      'manv', 'jour', 'com', 'hrmn', 'motor', 'place', 'vosp', 'locp'])\n",
    "\n",
    "df = df.drop_duplicates(subset=['id_usager']) # retire les doublons dans les usagers\n",
    "\n",
    "# Remplacement des valeurs NaN\n",
    "df['an_nais'] = df['an_nais'].fillna(df['an_nais'].mode()[0])\n",
    "\n",
    "# Convertir en entier\n",
    "df['id_vehicule'] = df['id_vehicule'].apply(lambda l: l[0:3] + l[4:7])\n",
    "df['id_vehicule'] = df['id_vehicule'].astype(int)\n",
    "df['sexe'] = df['sexe'].astype(int)\n",
    "df"
   ]
  },
  {
   "cell_type": "code",
   "execution_count": null,
   "metadata": {},
   "outputs": [],
   "source": [
    "for column in df.columns:\n",
    "  if df[column].isnull().values.any() == True:\n",
    "    print(column, df[column].isnull().values.any()) # afficher s'il y a des valeurs nulles"
   ]
  },
  {
   "cell_type": "markdown",
   "metadata": {},
   "source": [
    "On peut déjà remarquer qu'il y a des valeurs nulles pour l'attribut *an_nais*."
   ]
  },
  {
   "cell_type": "code",
   "execution_count": null,
   "metadata": {},
   "outputs": [],
   "source": [
    "# valeurs numériques\n",
    "numerical_features = list(df.select_dtypes(include=np.number).columns)\n",
    "\n",
    "# valeurs catégorielles\n",
    "categorical_features = list(set(df.columns)-set(numerical_features))\n",
    "print(\"numerical : \", numerical_features)\n",
    "print(\"categorical : \", categorical_features)"
   ]
  },
  {
   "cell_type": "code",
   "execution_count": null,
   "metadata": {},
   "outputs": [],
   "source": [
    "# Passage d'une caractéristique à un attribut\n",
    "def to_attribute(id_valid, cat_a, cat_b):\n",
    "    m = []\n",
    "    for i in df['id_vehicule']:\n",
    "        if i in id_valid['id_vehicule'].to_numpy():\n",
    "            m.append(cat_a)\n",
    "        else:\n",
    "            m.append(cat_b)\n",
    "    return m"
   ]
  },
  {
   "cell_type": "code",
   "execution_count": null,
   "metadata": {},
   "outputs": [],
   "source": [
    "df_2 = df.copy()\n",
    "# On crée un attribut pour les accidents mortels\n",
    "\n",
    "# Véhicule impliqué dans un accident mortel\n",
    "with_death = df[df['grav'] == 2]\n",
    "acc_with_death = with_death['Num_Acc']\n",
    "\n",
    "d = []\n",
    "for i in df['Num_Acc']:\n",
    "    if i in acc_with_death.to_numpy():\n",
    "        d.append(1)\n",
    "    else:\n",
    "        d.append(0)\n",
    "df_2['mortal'] = d\n",
    "\n",
    "\n",
    "# Accident impliquant un piéton\n",
    "has_pedestrian = df[df['catu'] == 3]\n",
    "# Sexe du conducteur\n",
    "driver = df[(df['catu'] == 1) & (df['sexe'] == 1)]\n",
    "\n",
    "p = to_attribute(has_pedestrian, 1, 0)\n",
    "dr = to_attribute(driver, 1, 0)\n",
    "\n",
    "df_2['pieton'] = p\n",
    "df_2['sexe_conducteur'] = dr\n",
    "df_2 = df_2.drop_duplicates(subset=['id_vehicule'])"
   ]
  },
  {
   "cell_type": "code",
   "execution_count": null,
   "metadata": {},
   "outputs": [],
   "source": [
    "# 1 : Bicyclette\n",
    "# 2 : cyclomoteur\n",
    "# 3 : VL (voiture)\n",
    "# 4 : Utilitaire\n",
    "# 5 : Motocyclette\n",
    "# 0 : autre\n",
    "\n",
    "# On réduit les carégories de véhicules\n",
    "cat = [1, 2, 7, 33, 10]\n",
    "corresp = {1:1, 2:2, 7:3, 10:4, 33:5}\n",
    "\n",
    "r = []\n",
    "for i in df_2['catv']:\n",
    "    if i in cat:\n",
    "        r.append(corresp[i])\n",
    "    else:\n",
    "        r.append(0)\n",
    "df_2['catv'] = r\n"
   ]
  },
  {
   "cell_type": "code",
   "execution_count": null,
   "metadata": {},
   "outputs": [],
   "source": [
    "# On enlève la catégorie peu repésentées qu'on ajoute dans une catégorie autre (identifiant 5)\n",
    "\n",
    "r = []\n",
    "for i in df_2['catr']:\n",
    "    if i > 4:\n",
    "        r.append(5)\n",
    "    else:\n",
    "        r.append(i)\n",
    "df_2['catr'] = r"
   ]
  },
  {
   "cell_type": "code",
   "execution_count": null,
   "metadata": {},
   "outputs": [],
   "source": [
    "# Découpage en 3 catégories de vitesse\n",
    "# Identifiants:\n",
    "#   1 -> <50\n",
    "#   2 -> >=50 && < 100\n",
    "#   3 -> >=100\n",
    "\n",
    "v = df_2['vma']\n",
    "cat = []\n",
    "for i in v:\n",
    "    if i < 50:\n",
    "        cat.append(1)\n",
    "    elif i >= 100:\n",
    "        cat.append(3)\n",
    "    else:\n",
    "        cat.append(2)\n",
    "df_2['vma'] = cat "
   ]
  },
  {
   "cell_type": "markdown",
   "metadata": {},
   "source": [
    "Il faut transformer les types de 'nbv', 'hrmn', 'dep', 'com', 'lat', 'long' de objets à respectivement : int, int, int, int, float, float\n",
    "\n",
    "Pour dep et com : transformer les dpt corses pour leur donner un nom en chiffre et non en lettre (2A/2B)"
   ]
  },
  {
   "cell_type": "code",
   "execution_count": null,
   "metadata": {},
   "outputs": [],
   "source": [
    "# On ne garde que l'heure dans hrmn, on le concvertit en type datetime \n",
    "\"\"\"\n",
    "df_2['hrmn'] = pd.to_datetime(df_2['hrmn'], format='%H:%M')\n",
    "\n",
    "df_2['hr'] = df_2['hrmn'].dt.hour\n",
    "df_2['hr'] = pd.to_numeric(df_2['hr'], errors='coerce', downcast='integer')\n",
    "\"\"\""
   ]
  },
  {
   "cell_type": "code",
   "execution_count": null,
   "metadata": {},
   "outputs": [],
   "source": [
    "#le cas de nbv en int \n",
    "df_2['nbv'] = pd.to_numeric(df_2['nbv'], errors='coerce', downcast='integer')\n",
    "df_2['nbv'].fillna(2, inplace=True) # only one entry \n",
    "\n",
    "# invalid_entries = df_2[df_2['nbv2'].isna()]\n",
    "# print(\"Entrées invalides : \")\n",
    "# print(invalid_entries)"
   ]
  },
  {
   "cell_type": "code",
   "execution_count": null,
   "metadata": {},
   "outputs": [],
   "source": [
    "# les cas des dep\n",
    "\n",
    "def transforme_dpt(n):\n",
    "    if n[-1] == 'D': # Rhone\n",
    "        return '69'\n",
    "    elif n[-1] == 'M': # Lyon métropole\n",
    "        return '96'\n",
    "    elif n[-1] == 'A': # Corse du sud\n",
    "        return '97'\n",
    "    elif n[-1] == 'B': # Haute Corse\n",
    "        return '98'\n",
    "    else:\n",
    "        return str(n)\n",
    "\n",
    "\n",
    "\n",
    "df_2['dep'] = df_2['dep'].apply(transforme_dpt)\n",
    "df_2['dep'] = pd.to_numeric(df_2['dep'], errors='coerce', downcast='integer')\n",
    "\"\"\"\n",
    "invalid_entries = df_2[df_2['dep2'].isna()]\n",
    "print(\"Entrées invalides : \")\n",
    "print(invalid_entries[['dep', 'dep2']])\n",
    "\"\"\""
   ]
  },
  {
   "cell_type": "code",
   "execution_count": null,
   "metadata": {},
   "outputs": [],
   "source": [
    "# Lat et long en float :\n",
    "\n",
    "df_2['lat'] = pd.to_numeric(df_2['lat'], errors='coerce')\n",
    "df_2['long'] = pd.to_numeric(df_2['long'], errors='coerce')"
   ]
  },
  {
   "cell_type": "code",
   "execution_count": null,
   "metadata": {},
   "outputs": [],
   "source": [
    "# Age du conducteur du véhicule\n",
    "driver_age = df_2[(df_2['catu'] == 1)][['an_nais', 'id_vehicule', 'an']]\n",
    "driver_age['an_nais'] = driver_age['an'] - driver_age['an_nais']\n",
    "\n",
    "df_2 = df_2.join(driver_age.set_index('id_vehicule'), on='id_vehicule', lsuffix='_')\n",
    "df_2 = df_2.rename(columns={'an_nais':'age'})\n",
    "df_2['age'] = df_2['age'].fillna(df_2['age'].mode()[0])\n",
    "\n",
    "# On enlève les attributs qui ne sont plus utiles\n",
    "df_2 = df_2.drop(columns=['an_nais_','grav', 'sexe','catu', 'Num_Acc', 'id_usager', 'id_vehicule',\n",
    "                          'secu1','secu2','secu3','an_', 'an', 'lat', 'long'])"
   ]
  },
  {
   "cell_type": "code",
   "execution_count": null,
   "metadata": {},
   "outputs": [],
   "source": [
    "for column in df_2.columns:\n",
    "  if df_2[column].isnull().values.any() == True:\n",
    "    print(column, df_2[column].isnull().values.any()) # afficher s'il y a des valeurs nulles\n"
   ]
  },
  {
   "cell_type": "code",
   "execution_count": null,
   "metadata": {},
   "outputs": [],
   "source": [
    "df_2.columns"
   ]
  },
  {
   "cell_type": "code",
   "execution_count": null,
   "metadata": {},
   "outputs": [],
   "source": [
    "print(\"numerical : \", numerical_features)\n",
    "print(\"categorical : \", categorical_features)\n",
    "# valeurs catégorielles\n",
    "categorical_features = ['trajet', 'catr', 'circ', 'nbv', 'prof',\n",
    "                        'plan', 'surf', 'infra', 'situ', 'vma', 'mois', 'lum', 'dep', 'agg', \n",
    "                        'int', 'atm', 'col', 'catv', 'obs', 'obsm', 'choc', 'mortal', 'pieton',\n",
    "                        'sexe_conducteur']\n",
    "# valeurs numériques\n",
    "numerical_features = ['age']"
   ]
  },
  {
   "cell_type": "code",
   "execution_count": null,
   "metadata": {},
   "outputs": [],
   "source": [
    "val = [len(df_2[df_2.mortal == 1]), len(df_2[df_2.mortal == 0])]\n",
    "labels = ['Accident mortel', 'Accident non mortel']\n",
    "\n",
    "px.pie(values=val, names=labels)"
   ]
  },
  {
   "cell_type": "code",
   "execution_count": null,
   "metadata": {},
   "outputs": [],
   "source": [
    "val = [len(df_2[df_2.pieton == 1]), len(df_2[df_2.pieton == 0])]\n",
    "labels = ['Implique piéton', 'N\\'implique pas de piéton']\n",
    "\n",
    "px.pie(values=val, names=labels)"
   ]
  },
  {
   "cell_type": "code",
   "execution_count": null,
   "metadata": {},
   "outputs": [],
   "source": [
    "fig = px.histogram(df_2, x=\"catv\")\n",
    "fig.show()"
   ]
  },
  {
   "cell_type": "code",
   "execution_count": null,
   "metadata": {},
   "outputs": [],
   "source": [
    "fig = px.box(df_2, x=\"age\")\n",
    "fig.show()"
   ]
  },
  {
   "cell_type": "code",
   "execution_count": null,
   "metadata": {},
   "outputs": [],
   "source": [
    "fig = px.histogram(df_2, x=\"sexe_conducteur\")\n",
    "fig.show()"
   ]
  },
  {
   "cell_type": "code",
   "execution_count": null,
   "metadata": {},
   "outputs": [],
   "source": [
    "fig = px.histogram(df_2, x=\"catr\")\n",
    "fig.show()"
   ]
  },
  {
   "cell_type": "code",
   "execution_count": null,
   "metadata": {},
   "outputs": [],
   "source": [
    "fig = px.histogram(df_2, x=\"col\")\n",
    "fig.show()"
   ]
  },
  {
   "cell_type": "code",
   "execution_count": null,
   "metadata": {},
   "outputs": [],
   "source": [
    "def rapport_corr(x, y):\n",
    "  '''\n",
    "  Calcule le rapport de correlation entre une variable\n",
    "  qualitative (x) et une variable quantitative (y)\n",
    "  x : list of the qualitative variable observations\n",
    "  y : list of the quantitative variable obesvations\n",
    "  x and y must be of the same  length\n",
    "  '''\n",
    "  if len(x)!=len(y):\n",
    "    print(\"The two list doesn't have the same length {len(x)}!={len(y)}\")\n",
    "    return -1\n",
    "  mean_y = np.mean(y)\n",
    "  se2 = 0\n",
    "  sr2 = 0\n",
    "  for cat in set(x):\n",
    "    y_cat = [y[i] for i in range(len(x)) if x[i]==cat]\n",
    "    se2 += len(y_cat)*(np.mean(y_cat)-mean_y)**2\n",
    "    sr2 += len(y_cat)*np.var(y_cat)\n",
    "  se2/=len(y)\n",
    "  sr2/=len(y)\n",
    "  return se2/(se2 + sr2)"
   ]
  },
  {
   "cell_type": "code",
   "execution_count": null,
   "metadata": {},
   "outputs": [],
   "source": [
    "def analyse_bi_quali_quanti(quali, quanti, df):\n",
    "  # Rapport de correlation\n",
    "  rapp = rapport_corr(df[quali].values, df[quanti].values)\n",
    "  print(f\"Rapport de corr {quali} X {quanti}: {rapp} \")\n",
    "  # boite a moustaches\n",
    "  bam = px.box(df, x=quali, y=quanti)\n",
    "  bam.show()\n",
    "  # histogramme\n",
    "  hist = px.histogram(df, x=quanti, color=quali, barmode='overlay', opacity=0.75)\n",
    "  hist.show()\n",
    "\n",
    "  hist_prop = px.histogram(df, x=quanti, color=quali, barmode='overlay', opacity=0.75, histnorm=\"probability\")\n",
    "  hist_prop.show()"
   ]
  },
  {
   "cell_type": "code",
   "execution_count": null,
   "metadata": {},
   "outputs": [],
   "source": [
    "features = ['age', 'mois', 'catr', 'mortal', 'sexe_conducteur']\n",
    "\n",
    "for exp in features:\n",
    "    print(exp)\n",
    "    analyse_bi_quali_quanti(\"catv\", exp, df_2)"
   ]
  },
  {
   "cell_type": "code",
   "execution_count": null,
   "metadata": {},
   "outputs": [],
   "source": [
    "features = ['age', 'mois', 'catr', 'mortal']\n",
    "\n",
    "for exp in features:\n",
    "    print(exp)\n",
    "    analyse_bi_quali_quanti(\"vma\", exp, df_2)"
   ]
  },
  {
   "cell_type": "code",
   "execution_count": null,
   "metadata": {},
   "outputs": [],
   "source": [
    "features = ['age', 'vma', 'mois', 'catr', 'mortal']\n",
    "\n",
    "for exp in features:\n",
    "    print(exp)\n",
    "    analyse_bi_quali_quanti(\"col\", exp, df_2)"
   ]
  },
  {
   "cell_type": "code",
   "execution_count": null,
   "metadata": {},
   "outputs": [],
   "source": [
    "df_3 = df_2.drop(columns=['mortal'])\n",
    "from sklearn.model_selection import train_test_split\n",
    "X_train, X_test, y_train, y_test = train_test_split(df_3, df_2[label], test_size=0.33, random_state=42)"
   ]
  },
  {
   "cell_type": "code",
   "execution_count": null,
   "metadata": {},
   "outputs": [],
   "source": [
    "from sklearn import tree\n",
    "\n",
    "clf = tree.DecisionTreeClassifier(random_state=42)\n",
    "clf = clf.fit(X_train, y_train)\n",
    "\n",
    "preds = clf.predict(X_test)\n",
    "\n",
    "clf.score(X_test, y_test)"
   ]
  },
  {
   "cell_type": "code",
   "execution_count": null,
   "metadata": {},
   "outputs": [],
   "source": [
    "from sklearn.metrics import confusion_matrix\n",
    "tn, fp, fn, tp = confusion_matrix(y_test, preds).ravel()\n",
    "tn, fp, fn, tp"
   ]
  },
  {
   "cell_type": "code",
   "execution_count": null,
   "metadata": {},
   "outputs": [],
   "source": [
    "import plotly.express as px\n",
    "\n",
    "\n",
    "fig = px.imshow([[tn, fp], [fn, tp]], text_auto=True, labels=dict(y=\"Truth\", x=\"Pred\"),\n",
    "                x=[\"False\", \"True\"],\n",
    "                y=[\"False\", \"True\"]\n",
    "               )\n",
    "fig.show()"
   ]
  },
  {
   "cell_type": "markdown",
   "metadata": {},
   "source": [
    "## Générer des contrefactuels"
   ]
  },
  {
   "cell_type": "code",
   "execution_count": null,
   "metadata": {},
   "outputs": [],
   "source": [
    "import dice_ml\n",
    "from dice_ml.utils import helpers"
   ]
  },
  {
   "cell_type": "code",
   "execution_count": null,
   "metadata": {},
   "outputs": [],
   "source": [
    "train_dataset = df_2.copy()\n",
    "train_dataset[label] = y_train\n",
    "d = dice_ml.Data(dataframe=train_dataset, continuous_features=numerical_features, outcome_name=label)\n",
    "\n",
    "m = dice_ml.Model(model=clf, backend=\"sklearn\")\n",
    "\n",
    "exp = dice_ml.Dice(d, m)"
   ]
  },
  {
   "cell_type": "code",
   "execution_count": null,
   "metadata": {},
   "outputs": [],
   "source": [
    "# Generate counterfactual examples\n",
    "query_instance = train_dataset.drop(columns=label)[0:4]\n",
    "dice_exp = exp.generate_counterfactuals(query_instance, total_CFs=4, desired_class=\"opposite\")\n",
    "# Visualize counterfactual explanation\n",
    "dice_exp.visualize_as_dataframe()"
   ]
  },
  {
   "cell_type": "code",
   "execution_count": null,
   "metadata": {},
   "outputs": [],
   "source": []
  },
  {
   "cell_type": "code",
   "execution_count": null,
   "metadata": {},
   "outputs": [],
   "source": []
  }
 ],
 "metadata": {
  "kernelspec": {
   "display_name": "Python 3",
   "language": "python",
   "name": "python3"
  },
  "language_info": {
   "codemirror_mode": {
    "name": "ipython",
    "version": 3
   },
   "file_extension": ".py",
   "mimetype": "text/x-python",
   "name": "python",
   "nbconvert_exporter": "python",
   "pygments_lexer": "ipython3",
   "version": "3.10.12"
  }
 },
 "nbformat": 4,
 "nbformat_minor": 2
}
