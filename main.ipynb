{
 "cells": [
  {
   "cell_type": "markdown",
   "metadata": {},
   "source": [
    "# Fichier principal"
   ]
  },
  {
   "cell_type": "markdown",
   "metadata": {},
   "source": [
    "Dans ce notebook, nous utilisons le jeu de donnée des accidents de la route. <br>\n",
    "Tout d'abord en ananlysant les données brutes.<br>\n",
    "Puis en les transformant en un modèle à l'aide d'un **arbre de décision**.<br>\n",
    "Pour finir, nous analysons ce modèle."
   ]
  },
  {
   "cell_type": "markdown",
   "metadata": {},
   "source": [
    "On souhaite prédire si un véhicule donné est impliqué dans un accident **mortel** ou non."
   ]
  },
  {
   "cell_type": "code",
   "execution_count": 161,
   "metadata": {},
   "outputs": [
    {
     "name": "stdout",
     "output_type": "stream",
     "text": [
      "The autoreload extension is already loaded. To reload it, use:\n",
      "  %reload_ext autoreload\n"
     ]
    }
   ],
   "source": [
    "%load_ext autoreload\n",
    "%autoreload 2\n",
    "import pandas as pd\n",
    "import numpy as np\n",
    "import plotly.express as px\n",
    "import matplotlib.pyplot as plt\n",
    "from utils import *\n",
    "\n",
    "from sklearn.pipeline import Pipeline\n",
    "from sklearn.preprocessing import StandardScaler, OneHotEncoder\n",
    "from sklearn.compose import ColumnTransformer\n",
    "from sklearn import preprocessing\n",
    "\n",
    "import imblearn"
   ]
  },
  {
   "cell_type": "code",
   "execution_count": 162,
   "metadata": {},
   "outputs": [],
   "source": [
    "#pip install -U imbalanced-learn"
   ]
  },
  {
   "cell_type": "markdown",
   "metadata": {},
   "source": [
    "## Préparation du dataframe\n",
    "Les attributs présents dans la base de données ne sont pas tous utiles et certains doivent être transformer avant d'être utilisé."
   ]
  },
  {
   "cell_type": "code",
   "execution_count": 163,
   "metadata": {},
   "outputs": [
    {
     "name": "stderr",
     "output_type": "stream",
     "text": [
      "C:\\Users\\Yannis\\AppData\\Local\\Temp\\ipykernel_46956\\1377824327.py:5: DtypeWarning:\n",
      "\n",
      "Columns (6) have mixed types. Specify dtype option on import or set low_memory=False.\n",
      "\n"
     ]
    }
   ],
   "source": [
    "label = \"mortal\"\n",
    "\n",
    "# Lecture datasets\n",
    "df1 = pd.read_csv(\"dataset/usagers-2022.csv\", sep=';')\n",
    "df2 = pd.read_csv(\"dataset/lieux-2022.csv\", sep=';')\n",
    "df3 = pd.read_csv(\"dataset/carcteristiques-2022.csv\", sep=';')\n",
    "df4 = pd.read_csv(\"dataset/vehicules-2022.csv\", sep=';')\n",
    "\n",
    "df4 = df4.drop(columns=['id_vehicule', 'num_veh'])\n",
    "\n",
    "\n",
    "df = df1.join(df2.set_index('Num_Acc'), on='Num_Acc')\n",
    "df = df.join(df3.set_index('Accident_Id'), on='Num_Acc')\n",
    "df = df.join(df4.set_index('Num_Acc'), on='Num_Acc', lsuffix='_')"
   ]
  },
  {
   "cell_type": "code",
   "execution_count": 164,
   "metadata": {},
   "outputs": [
    {
     "data": {
      "text/html": [
       "<div>\n",
       "<style scoped>\n",
       "    .dataframe tbody tr th:only-of-type {\n",
       "        vertical-align: middle;\n",
       "    }\n",
       "\n",
       "    .dataframe tbody tr th {\n",
       "        vertical-align: top;\n",
       "    }\n",
       "\n",
       "    .dataframe thead th {\n",
       "        text-align: right;\n",
       "    }\n",
       "</style>\n",
       "<table border=\"1\" class=\"dataframe\">\n",
       "  <thead>\n",
       "    <tr style=\"text-align: right;\">\n",
       "      <th></th>\n",
       "      <th>Num_Acc</th>\n",
       "      <th>id_usager</th>\n",
       "      <th>id_vehicule</th>\n",
       "      <th>catu</th>\n",
       "      <th>grav</th>\n",
       "      <th>sexe</th>\n",
       "      <th>an_nais</th>\n",
       "      <th>trajet</th>\n",
       "      <th>secu1</th>\n",
       "      <th>secu2</th>\n",
       "      <th>...</th>\n",
       "      <th>agg</th>\n",
       "      <th>int</th>\n",
       "      <th>atm</th>\n",
       "      <th>col</th>\n",
       "      <th>lat</th>\n",
       "      <th>long</th>\n",
       "      <th>catv</th>\n",
       "      <th>obs</th>\n",
       "      <th>obsm</th>\n",
       "      <th>choc</th>\n",
       "    </tr>\n",
       "  </thead>\n",
       "  <tbody>\n",
       "    <tr>\n",
       "      <th>0</th>\n",
       "      <td>202200000001</td>\n",
       "      <td>1 099 700</td>\n",
       "      <td>813952</td>\n",
       "      <td>1</td>\n",
       "      <td>3</td>\n",
       "      <td>1</td>\n",
       "      <td>2008.0</td>\n",
       "      <td>5</td>\n",
       "      <td>2</td>\n",
       "      <td>8</td>\n",
       "      <td>...</td>\n",
       "      <td>2</td>\n",
       "      <td>3</td>\n",
       "      <td>1</td>\n",
       "      <td>3</td>\n",
       "      <td>44,5594200000</td>\n",
       "      <td>4,7257200000</td>\n",
       "      <td>2</td>\n",
       "      <td>0</td>\n",
       "      <td>2</td>\n",
       "      <td>1</td>\n",
       "    </tr>\n",
       "    <tr>\n",
       "      <th>1</th>\n",
       "      <td>202200000001</td>\n",
       "      <td>1 099 701</td>\n",
       "      <td>813953</td>\n",
       "      <td>1</td>\n",
       "      <td>1</td>\n",
       "      <td>1</td>\n",
       "      <td>1948.0</td>\n",
       "      <td>5</td>\n",
       "      <td>1</td>\n",
       "      <td>8</td>\n",
       "      <td>...</td>\n",
       "      <td>2</td>\n",
       "      <td>3</td>\n",
       "      <td>1</td>\n",
       "      <td>3</td>\n",
       "      <td>44,5594200000</td>\n",
       "      <td>4,7257200000</td>\n",
       "      <td>2</td>\n",
       "      <td>0</td>\n",
       "      <td>2</td>\n",
       "      <td>1</td>\n",
       "    </tr>\n",
       "    <tr>\n",
       "      <th>2</th>\n",
       "      <td>202200000002</td>\n",
       "      <td>1 099 698</td>\n",
       "      <td>813950</td>\n",
       "      <td>1</td>\n",
       "      <td>4</td>\n",
       "      <td>1</td>\n",
       "      <td>1988.0</td>\n",
       "      <td>9</td>\n",
       "      <td>1</td>\n",
       "      <td>0</td>\n",
       "      <td>...</td>\n",
       "      <td>2</td>\n",
       "      <td>3</td>\n",
       "      <td>1</td>\n",
       "      <td>3</td>\n",
       "      <td>46,9258100000</td>\n",
       "      <td>6,3462000000</td>\n",
       "      <td>7</td>\n",
       "      <td>0</td>\n",
       "      <td>2</td>\n",
       "      <td>8</td>\n",
       "    </tr>\n",
       "    <tr>\n",
       "      <th>3</th>\n",
       "      <td>202200000002</td>\n",
       "      <td>1 099 699</td>\n",
       "      <td>813951</td>\n",
       "      <td>1</td>\n",
       "      <td>1</td>\n",
       "      <td>1</td>\n",
       "      <td>1970.0</td>\n",
       "      <td>4</td>\n",
       "      <td>1</td>\n",
       "      <td>0</td>\n",
       "      <td>...</td>\n",
       "      <td>2</td>\n",
       "      <td>3</td>\n",
       "      <td>1</td>\n",
       "      <td>3</td>\n",
       "      <td>46,9258100000</td>\n",
       "      <td>6,3462000000</td>\n",
       "      <td>7</td>\n",
       "      <td>0</td>\n",
       "      <td>2</td>\n",
       "      <td>8</td>\n",
       "    </tr>\n",
       "    <tr>\n",
       "      <th>4</th>\n",
       "      <td>202200000003</td>\n",
       "      <td>1 099 696</td>\n",
       "      <td>813948</td>\n",
       "      <td>1</td>\n",
       "      <td>1</td>\n",
       "      <td>1</td>\n",
       "      <td>2002.0</td>\n",
       "      <td>0</td>\n",
       "      <td>1</td>\n",
       "      <td>0</td>\n",
       "      <td>...</td>\n",
       "      <td>2</td>\n",
       "      <td>6</td>\n",
       "      <td>1</td>\n",
       "      <td>2</td>\n",
       "      <td>48,4931620000</td>\n",
       "      <td>-2,7604390000</td>\n",
       "      <td>7</td>\n",
       "      <td>0</td>\n",
       "      <td>2</td>\n",
       "      <td>1</td>\n",
       "    </tr>\n",
       "    <tr>\n",
       "      <th>...</th>\n",
       "      <td>...</td>\n",
       "      <td>...</td>\n",
       "      <td>...</td>\n",
       "      <td>...</td>\n",
       "      <td>...</td>\n",
       "      <td>...</td>\n",
       "      <td>...</td>\n",
       "      <td>...</td>\n",
       "      <td>...</td>\n",
       "      <td>...</td>\n",
       "      <td>...</td>\n",
       "      <td>...</td>\n",
       "      <td>...</td>\n",
       "      <td>...</td>\n",
       "      <td>...</td>\n",
       "      <td>...</td>\n",
       "      <td>...</td>\n",
       "      <td>...</td>\n",
       "      <td>...</td>\n",
       "      <td>...</td>\n",
       "      <td>...</td>\n",
       "    </tr>\n",
       "    <tr>\n",
       "      <th>126657</th>\n",
       "      <td>202200055301</td>\n",
       "      <td>968 230</td>\n",
       "      <td>715631</td>\n",
       "      <td>1</td>\n",
       "      <td>1</td>\n",
       "      <td>2</td>\n",
       "      <td>2002.0</td>\n",
       "      <td>5</td>\n",
       "      <td>1</td>\n",
       "      <td>-1</td>\n",
       "      <td>...</td>\n",
       "      <td>1</td>\n",
       "      <td>3</td>\n",
       "      <td>1</td>\n",
       "      <td>3</td>\n",
       "      <td>43,9272650000</td>\n",
       "      <td>1,9156370000</td>\n",
       "      <td>7</td>\n",
       "      <td>0</td>\n",
       "      <td>0</td>\n",
       "      <td>8</td>\n",
       "    </tr>\n",
       "    <tr>\n",
       "      <th>126658</th>\n",
       "      <td>202200055301</td>\n",
       "      <td>968 231</td>\n",
       "      <td>715631</td>\n",
       "      <td>2</td>\n",
       "      <td>3</td>\n",
       "      <td>2</td>\n",
       "      <td>2004.0</td>\n",
       "      <td>5</td>\n",
       "      <td>1</td>\n",
       "      <td>-1</td>\n",
       "      <td>...</td>\n",
       "      <td>1</td>\n",
       "      <td>3</td>\n",
       "      <td>1</td>\n",
       "      <td>3</td>\n",
       "      <td>43,9272650000</td>\n",
       "      <td>1,9156370000</td>\n",
       "      <td>7</td>\n",
       "      <td>0</td>\n",
       "      <td>0</td>\n",
       "      <td>8</td>\n",
       "    </tr>\n",
       "    <tr>\n",
       "      <th>126659</th>\n",
       "      <td>202200055301</td>\n",
       "      <td>968 232</td>\n",
       "      <td>715632</td>\n",
       "      <td>1</td>\n",
       "      <td>4</td>\n",
       "      <td>2</td>\n",
       "      <td>1953.0</td>\n",
       "      <td>5</td>\n",
       "      <td>1</td>\n",
       "      <td>-1</td>\n",
       "      <td>...</td>\n",
       "      <td>1</td>\n",
       "      <td>3</td>\n",
       "      <td>1</td>\n",
       "      <td>3</td>\n",
       "      <td>43,9272650000</td>\n",
       "      <td>1,9156370000</td>\n",
       "      <td>7</td>\n",
       "      <td>0</td>\n",
       "      <td>0</td>\n",
       "      <td>8</td>\n",
       "    </tr>\n",
       "    <tr>\n",
       "      <th>126660</th>\n",
       "      <td>202200055302</td>\n",
       "      <td>968 228</td>\n",
       "      <td>715629</td>\n",
       "      <td>1</td>\n",
       "      <td>3</td>\n",
       "      <td>1</td>\n",
       "      <td>1992.0</td>\n",
       "      <td>1</td>\n",
       "      <td>2</td>\n",
       "      <td>6</td>\n",
       "      <td>...</td>\n",
       "      <td>2</td>\n",
       "      <td>1</td>\n",
       "      <td>1</td>\n",
       "      <td>2</td>\n",
       "      <td>47,5944040000</td>\n",
       "      <td>1,3533290000</td>\n",
       "      <td>33</td>\n",
       "      <td>0</td>\n",
       "      <td>2</td>\n",
       "      <td>1</td>\n",
       "    </tr>\n",
       "    <tr>\n",
       "      <th>126661</th>\n",
       "      <td>202200055302</td>\n",
       "      <td>968 229</td>\n",
       "      <td>715630</td>\n",
       "      <td>1</td>\n",
       "      <td>1</td>\n",
       "      <td>1</td>\n",
       "      <td>2000.0</td>\n",
       "      <td>-1</td>\n",
       "      <td>1</td>\n",
       "      <td>-1</td>\n",
       "      <td>...</td>\n",
       "      <td>2</td>\n",
       "      <td>1</td>\n",
       "      <td>1</td>\n",
       "      <td>2</td>\n",
       "      <td>47,5944040000</td>\n",
       "      <td>1,3533290000</td>\n",
       "      <td>33</td>\n",
       "      <td>0</td>\n",
       "      <td>2</td>\n",
       "      <td>1</td>\n",
       "    </tr>\n",
       "  </tbody>\n",
       "</table>\n",
       "<p>123788 rows × 34 columns</p>\n",
       "</div>"
      ],
      "text/plain": [
       "             Num_Acc  id_usager  id_vehicule  catu  grav  sexe  an_nais  \\\n",
       "0       202200000001  1 099 700       813952     1     3     1   2008.0   \n",
       "1       202200000001  1 099 701       813953     1     1     1   1948.0   \n",
       "2       202200000002  1 099 698       813950     1     4     1   1988.0   \n",
       "3       202200000002  1 099 699       813951     1     1     1   1970.0   \n",
       "4       202200000003  1 099 696       813948     1     1     1   2002.0   \n",
       "...              ...        ...          ...   ...   ...   ...      ...   \n",
       "126657  202200055301    968 230       715631     1     1     2   2002.0   \n",
       "126658  202200055301    968 231       715631     2     3     2   2004.0   \n",
       "126659  202200055301    968 232       715632     1     4     2   1953.0   \n",
       "126660  202200055302    968 228       715629     1     3     1   1992.0   \n",
       "126661  202200055302    968 229       715630     1     1     1   2000.0   \n",
       "\n",
       "        trajet  secu1  secu2  ...  agg  int  atm col            lat  \\\n",
       "0            5      2      8  ...    2    3    1   3  44,5594200000   \n",
       "1            5      1      8  ...    2    3    1   3  44,5594200000   \n",
       "2            9      1      0  ...    2    3    1   3  46,9258100000   \n",
       "3            4      1      0  ...    2    3    1   3  46,9258100000   \n",
       "4            0      1      0  ...    2    6    1   2  48,4931620000   \n",
       "...        ...    ...    ...  ...  ...  ...  ...  ..            ...   \n",
       "126657       5      1     -1  ...    1    3    1   3  43,9272650000   \n",
       "126658       5      1     -1  ...    1    3    1   3  43,9272650000   \n",
       "126659       5      1     -1  ...    1    3    1   3  43,9272650000   \n",
       "126660       1      2      6  ...    2    1    1   2  47,5944040000   \n",
       "126661      -1      1     -1  ...    2    1    1   2  47,5944040000   \n",
       "\n",
       "                  long  catv  obs  obsm  choc  \n",
       "0         4,7257200000     2    0     2     1  \n",
       "1         4,7257200000     2    0     2     1  \n",
       "2         6,3462000000     7    0     2     8  \n",
       "3         6,3462000000     7    0     2     8  \n",
       "4        -2,7604390000     7    0     2     1  \n",
       "...                ...   ...  ...   ...   ...  \n",
       "126657    1,9156370000     7    0     0     8  \n",
       "126658    1,9156370000     7    0     0     8  \n",
       "126659    1,9156370000     7    0     0     8  \n",
       "126660    1,3533290000    33    0     2     1  \n",
       "126661    1,3533290000    33    0     2     1  \n",
       "\n",
       "[123788 rows x 34 columns]"
      ]
     },
     "execution_count": 164,
     "metadata": {},
     "output_type": "execute_result"
    }
   ],
   "source": [
    "# Suppression colonnes inutiles\n",
    "df = df.drop(columns=['voie', 'v1', 'v2', 'pr', 'pr1', 'lartpc', 'larrout'\n",
    "                      , 'num_veh', 'occutc', 'adr', 'senc','etatp','actp', \n",
    "                      'manv', 'jour', 'com', 'hrmn', 'motor', 'place', 'vosp', 'locp'])\n",
    "\n",
    "df = df.drop_duplicates(subset=['id_usager']) # retire les doublons dans les usagers\n",
    "\n",
    "# Remplacement des valeurs NaN\n",
    "#df['an_nais'] = df['an_nais'].fillna(df['an_nais'].mode()[0])\n",
    "df = df.dropna()\n",
    "\n",
    "# Convertir en entier\n",
    "df['id_vehicule'] = df['id_vehicule'].apply(lambda l: l[0:3] + l[4:7])\n",
    "df['id_vehicule'] = df['id_vehicule'].astype(int)\n",
    "df['sexe'] = df['sexe'].astype(int)\n",
    "df"
   ]
  },
  {
   "cell_type": "code",
   "execution_count": 165,
   "metadata": {},
   "outputs": [],
   "source": [
    "for column in df.columns:\n",
    "  if df[column].isnull().values.any() == True:\n",
    "    print(column, df[column].isnull().values.any()) # afficher s'il y a des valeurs nulles"
   ]
  },
  {
   "cell_type": "code",
   "execution_count": 166,
   "metadata": {},
   "outputs": [],
   "source": [
    "df_2 = df.copy()\n",
    "\n",
    "# On crée un attribut pour les accidents mortels\n",
    "df_2['mortal'] = extract_mortal(df)\n",
    "\n",
    "# Accident impliquant un piéton\n",
    "has_pedestrian = df[df['catu'] == 3]\n",
    "p = to_attribute(df, has_pedestrian, 1, 0)\n",
    "df_2['pieton'] = p\n",
    "\n",
    "# Sexe du conducteur\n",
    "driver = df[(df['catu'] == 1) & (df['sexe'] == 1)]\n",
    "dr = to_attribute(df, driver, 1, 0)\n",
    "df_2['sexe_conducteur'] = dr\n",
    "\n",
    "\n",
    "df_2 = df_2.drop_duplicates(subset=['id_vehicule'])"
   ]
  },
  {
   "cell_type": "markdown",
   "metadata": {},
   "source": [
    "Pour simplifier le code, les fonction qui uniformisent les types vers ceux souhaités ont été plcées dans **utils.py**"
   ]
  },
  {
   "cell_type": "code",
   "execution_count": 167,
   "metadata": {},
   "outputs": [],
   "source": [
    "# On réduit les carégories de véhicules\n",
    "df_2 = simplify_catv(df_2)\n",
    "\n",
    "# On enlève la catégorie peu repésentées qu'on ajoute dans une catégorie autre (identifiant 5)\n",
    "df_2 = simplify_catr(df_2)\n",
    "\n",
    "# Découpage en 4 catégories de vitesse\n",
    "df_2 = split_vma(df_2)\n",
    "\n",
    "        \n",
    "# Département en entiers\n",
    "df_2['dep'] = df_2['dep'].apply(transforme_dpt)\n",
    "df_2['dep'] = pd.to_numeric(df_2['dep'], errors='coerce', downcast='integer')\n",
    "\n",
    "# nbv en entier\n",
    "df_2['nbv'] = pd.to_numeric(df_2['nbv'], errors='coerce', downcast='integer')\n",
    "df_2['nbv'].fillna(2, inplace=True) # only one entry \n",
    "df_2['nbv'] = pd.to_numeric(df_2['nbv'], errors='coerce', downcast='integer')\n",
    "\n",
    "# Lat et long en float :\n",
    "df_2['lat'] = pd.to_numeric(df_2['lat'], errors='coerce')\n",
    "df_2['long'] = pd.to_numeric(df_2['long'], errors='coerce')\n",
    "\n",
    "# Age du conducteur du véhicule\n",
    "df_2['age'] = get_driver_age(df_2)\n",
    "#df_2['age'] = df_2['age'].fillna(df_2['age'].mode()[0])\n",
    "df_2['age'] = pd.to_numeric(df_2['age'], errors='coerce', downcast='integer')\n",
    "\n",
    "# Réduire les valeurs de trajet\n",
    "df_2['trajet'] = reduce_trajet_values(df_2)\n",
    "\n",
    "# Réduire les valeurs de surf\n",
    "df_2['surf'] = reduce_surf_values(df_2)\n",
    "\n",
    "# obs prend pour valeur 0 si obstacle 1 si pas d'obstacle\n",
    "df_2['obs'] = reduce_obs_values(df_2)\n",
    "\n",
    "# On enlève les attributs qui ne sont plus utiles\n",
    "#df_2 = df_2.drop(columns=['grav', 'sexe','catu', 'id_usager', 'id_vehicule',\n",
    "#                          'secu1','secu2','secu3', 'an', 'lat', 'long'])"
   ]
  },
  {
   "cell_type": "code",
   "execution_count": 168,
   "metadata": {},
   "outputs": [],
   "source": [
    "df3 = pd.DataFrame()\n",
    "df3['bidule'] = df_2[(df_2['age'].isna())][['an_nais']]\n",
    "df3['bidule2'] = df_2[(df_2['age'].isna())][['an']]\n",
    "\n",
    "df_2.loc[df_2['age'].isna(), 'age'] = (df3['bidule2'] - df3['bidule'])"
   ]
  },
  {
   "cell_type": "code",
   "execution_count": 169,
   "metadata": {},
   "outputs": [
    {
     "data": {
      "text/plain": [
       "Series([], Name: age, dtype: float64)"
      ]
     },
     "execution_count": 169,
     "metadata": {},
     "output_type": "execute_result"
    }
   ],
   "source": [
    "df_2[(df_2['age'].isna())]['age'] "
   ]
  },
  {
   "cell_type": "markdown",
   "metadata": {},
   "source": [
    "Tri manuel des valeurs catégorielles/numériques"
   ]
  },
  {
   "cell_type": "code",
   "execution_count": 170,
   "metadata": {},
   "outputs": [
    {
     "name": "stdout",
     "output_type": "stream",
     "text": [
      "numerical :  ['dep', 'mois', 'age']\n",
      "categorical :  ['trajet', 'catr', 'circ', 'nbv', 'prof', 'plan', 'surf', 'vma', 'lum', 'agg', 'int', 'atm', 'col', 'catv', 'obs', 'obsm', 'choc', 'pieton', 'sexe_conducteur', 'infra', 'situ']\n"
     ]
    }
   ],
   "source": [
    "# valeurs catégorielles\n",
    "categorical_features = ['trajet', 'catr', 'circ', 'nbv', 'prof',\n",
    "                        'plan', 'surf', 'vma', 'lum', 'agg', \n",
    "                        'int', 'atm', 'col', 'catv', 'obs', 'obsm', 'choc', 'pieton',\n",
    "                        'sexe_conducteur', 'infra', 'situ']\n",
    "# valeurs numériques\n",
    "numerical_features = ['dep', 'mois', 'age']\n",
    "\n",
    "print(\"numerical : \", numerical_features)\n",
    "print(\"categorical : \", categorical_features)"
   ]
  },
  {
   "cell_type": "markdown",
   "metadata": {},
   "source": [
    "## Analyse de données\n",
    "**Attention** conserver les sorties alourdit grandement le notebook, **clear all outputs** avant d'enregistrer est à privilégier."
   ]
  },
  {
   "cell_type": "markdown",
   "metadata": {},
   "source": [
    "### Analyse univariée"
   ]
  },
  {
   "cell_type": "code",
   "execution_count": 171,
   "metadata": {},
   "outputs": [
    {
     "data": {
      "application/vnd.plotly.v1+json": {
       "config": {
        "plotlyServerURL": "https://plot.ly"
       },
       "data": [
        {
         "domain": {
          "x": [
           0,
           1
          ],
          "y": [
           0,
           1
          ]
         },
         "hovertemplate": "label=%{label}<br>value=%{value}<extra></extra>",
         "labels": [
          "Accident mortel",
          "Accident non mortel"
         ],
         "legendgroup": "",
         "name": "",
         "showlegend": true,
         "type": "pie",
         "values": [
          5058,
          87556
         ]
        }
       ],
       "layout": {
        "legend": {
         "tracegroupgap": 0
        },
        "margin": {
         "t": 60
        },
        "template": {
         "data": {
          "bar": [
           {
            "error_x": {
             "color": "#2a3f5f"
            },
            "error_y": {
             "color": "#2a3f5f"
            },
            "marker": {
             "line": {
              "color": "#E5ECF6",
              "width": 0.5
             },
             "pattern": {
              "fillmode": "overlay",
              "size": 10,
              "solidity": 0.2
             }
            },
            "type": "bar"
           }
          ],
          "barpolar": [
           {
            "marker": {
             "line": {
              "color": "#E5ECF6",
              "width": 0.5
             },
             "pattern": {
              "fillmode": "overlay",
              "size": 10,
              "solidity": 0.2
             }
            },
            "type": "barpolar"
           }
          ],
          "carpet": [
           {
            "aaxis": {
             "endlinecolor": "#2a3f5f",
             "gridcolor": "white",
             "linecolor": "white",
             "minorgridcolor": "white",
             "startlinecolor": "#2a3f5f"
            },
            "baxis": {
             "endlinecolor": "#2a3f5f",
             "gridcolor": "white",
             "linecolor": "white",
             "minorgridcolor": "white",
             "startlinecolor": "#2a3f5f"
            },
            "type": "carpet"
           }
          ],
          "choropleth": [
           {
            "colorbar": {
             "outlinewidth": 0,
             "ticks": ""
            },
            "type": "choropleth"
           }
          ],
          "contour": [
           {
            "colorbar": {
             "outlinewidth": 0,
             "ticks": ""
            },
            "colorscale": [
             [
              0,
              "#0d0887"
             ],
             [
              0.1111111111111111,
              "#46039f"
             ],
             [
              0.2222222222222222,
              "#7201a8"
             ],
             [
              0.3333333333333333,
              "#9c179e"
             ],
             [
              0.4444444444444444,
              "#bd3786"
             ],
             [
              0.5555555555555556,
              "#d8576b"
             ],
             [
              0.6666666666666666,
              "#ed7953"
             ],
             [
              0.7777777777777778,
              "#fb9f3a"
             ],
             [
              0.8888888888888888,
              "#fdca26"
             ],
             [
              1,
              "#f0f921"
             ]
            ],
            "type": "contour"
           }
          ],
          "contourcarpet": [
           {
            "colorbar": {
             "outlinewidth": 0,
             "ticks": ""
            },
            "type": "contourcarpet"
           }
          ],
          "heatmap": [
           {
            "colorbar": {
             "outlinewidth": 0,
             "ticks": ""
            },
            "colorscale": [
             [
              0,
              "#0d0887"
             ],
             [
              0.1111111111111111,
              "#46039f"
             ],
             [
              0.2222222222222222,
              "#7201a8"
             ],
             [
              0.3333333333333333,
              "#9c179e"
             ],
             [
              0.4444444444444444,
              "#bd3786"
             ],
             [
              0.5555555555555556,
              "#d8576b"
             ],
             [
              0.6666666666666666,
              "#ed7953"
             ],
             [
              0.7777777777777778,
              "#fb9f3a"
             ],
             [
              0.8888888888888888,
              "#fdca26"
             ],
             [
              1,
              "#f0f921"
             ]
            ],
            "type": "heatmap"
           }
          ],
          "heatmapgl": [
           {
            "colorbar": {
             "outlinewidth": 0,
             "ticks": ""
            },
            "colorscale": [
             [
              0,
              "#0d0887"
             ],
             [
              0.1111111111111111,
              "#46039f"
             ],
             [
              0.2222222222222222,
              "#7201a8"
             ],
             [
              0.3333333333333333,
              "#9c179e"
             ],
             [
              0.4444444444444444,
              "#bd3786"
             ],
             [
              0.5555555555555556,
              "#d8576b"
             ],
             [
              0.6666666666666666,
              "#ed7953"
             ],
             [
              0.7777777777777778,
              "#fb9f3a"
             ],
             [
              0.8888888888888888,
              "#fdca26"
             ],
             [
              1,
              "#f0f921"
             ]
            ],
            "type": "heatmapgl"
           }
          ],
          "histogram": [
           {
            "marker": {
             "pattern": {
              "fillmode": "overlay",
              "size": 10,
              "solidity": 0.2
             }
            },
            "type": "histogram"
           }
          ],
          "histogram2d": [
           {
            "colorbar": {
             "outlinewidth": 0,
             "ticks": ""
            },
            "colorscale": [
             [
              0,
              "#0d0887"
             ],
             [
              0.1111111111111111,
              "#46039f"
             ],
             [
              0.2222222222222222,
              "#7201a8"
             ],
             [
              0.3333333333333333,
              "#9c179e"
             ],
             [
              0.4444444444444444,
              "#bd3786"
             ],
             [
              0.5555555555555556,
              "#d8576b"
             ],
             [
              0.6666666666666666,
              "#ed7953"
             ],
             [
              0.7777777777777778,
              "#fb9f3a"
             ],
             [
              0.8888888888888888,
              "#fdca26"
             ],
             [
              1,
              "#f0f921"
             ]
            ],
            "type": "histogram2d"
           }
          ],
          "histogram2dcontour": [
           {
            "colorbar": {
             "outlinewidth": 0,
             "ticks": ""
            },
            "colorscale": [
             [
              0,
              "#0d0887"
             ],
             [
              0.1111111111111111,
              "#46039f"
             ],
             [
              0.2222222222222222,
              "#7201a8"
             ],
             [
              0.3333333333333333,
              "#9c179e"
             ],
             [
              0.4444444444444444,
              "#bd3786"
             ],
             [
              0.5555555555555556,
              "#d8576b"
             ],
             [
              0.6666666666666666,
              "#ed7953"
             ],
             [
              0.7777777777777778,
              "#fb9f3a"
             ],
             [
              0.8888888888888888,
              "#fdca26"
             ],
             [
              1,
              "#f0f921"
             ]
            ],
            "type": "histogram2dcontour"
           }
          ],
          "mesh3d": [
           {
            "colorbar": {
             "outlinewidth": 0,
             "ticks": ""
            },
            "type": "mesh3d"
           }
          ],
          "parcoords": [
           {
            "line": {
             "colorbar": {
              "outlinewidth": 0,
              "ticks": ""
             }
            },
            "type": "parcoords"
           }
          ],
          "pie": [
           {
            "automargin": true,
            "type": "pie"
           }
          ],
          "scatter": [
           {
            "fillpattern": {
             "fillmode": "overlay",
             "size": 10,
             "solidity": 0.2
            },
            "type": "scatter"
           }
          ],
          "scatter3d": [
           {
            "line": {
             "colorbar": {
              "outlinewidth": 0,
              "ticks": ""
             }
            },
            "marker": {
             "colorbar": {
              "outlinewidth": 0,
              "ticks": ""
             }
            },
            "type": "scatter3d"
           }
          ],
          "scattercarpet": [
           {
            "marker": {
             "colorbar": {
              "outlinewidth": 0,
              "ticks": ""
             }
            },
            "type": "scattercarpet"
           }
          ],
          "scattergeo": [
           {
            "marker": {
             "colorbar": {
              "outlinewidth": 0,
              "ticks": ""
             }
            },
            "type": "scattergeo"
           }
          ],
          "scattergl": [
           {
            "marker": {
             "colorbar": {
              "outlinewidth": 0,
              "ticks": ""
             }
            },
            "type": "scattergl"
           }
          ],
          "scattermapbox": [
           {
            "marker": {
             "colorbar": {
              "outlinewidth": 0,
              "ticks": ""
             }
            },
            "type": "scattermapbox"
           }
          ],
          "scatterpolar": [
           {
            "marker": {
             "colorbar": {
              "outlinewidth": 0,
              "ticks": ""
             }
            },
            "type": "scatterpolar"
           }
          ],
          "scatterpolargl": [
           {
            "marker": {
             "colorbar": {
              "outlinewidth": 0,
              "ticks": ""
             }
            },
            "type": "scatterpolargl"
           }
          ],
          "scatterternary": [
           {
            "marker": {
             "colorbar": {
              "outlinewidth": 0,
              "ticks": ""
             }
            },
            "type": "scatterternary"
           }
          ],
          "surface": [
           {
            "colorbar": {
             "outlinewidth": 0,
             "ticks": ""
            },
            "colorscale": [
             [
              0,
              "#0d0887"
             ],
             [
              0.1111111111111111,
              "#46039f"
             ],
             [
              0.2222222222222222,
              "#7201a8"
             ],
             [
              0.3333333333333333,
              "#9c179e"
             ],
             [
              0.4444444444444444,
              "#bd3786"
             ],
             [
              0.5555555555555556,
              "#d8576b"
             ],
             [
              0.6666666666666666,
              "#ed7953"
             ],
             [
              0.7777777777777778,
              "#fb9f3a"
             ],
             [
              0.8888888888888888,
              "#fdca26"
             ],
             [
              1,
              "#f0f921"
             ]
            ],
            "type": "surface"
           }
          ],
          "table": [
           {
            "cells": {
             "fill": {
              "color": "#EBF0F8"
             },
             "line": {
              "color": "white"
             }
            },
            "header": {
             "fill": {
              "color": "#C8D4E3"
             },
             "line": {
              "color": "white"
             }
            },
            "type": "table"
           }
          ]
         },
         "layout": {
          "annotationdefaults": {
           "arrowcolor": "#2a3f5f",
           "arrowhead": 0,
           "arrowwidth": 1
          },
          "autotypenumbers": "strict",
          "coloraxis": {
           "colorbar": {
            "outlinewidth": 0,
            "ticks": ""
           }
          },
          "colorscale": {
           "diverging": [
            [
             0,
             "#8e0152"
            ],
            [
             0.1,
             "#c51b7d"
            ],
            [
             0.2,
             "#de77ae"
            ],
            [
             0.3,
             "#f1b6da"
            ],
            [
             0.4,
             "#fde0ef"
            ],
            [
             0.5,
             "#f7f7f7"
            ],
            [
             0.6,
             "#e6f5d0"
            ],
            [
             0.7,
             "#b8e186"
            ],
            [
             0.8,
             "#7fbc41"
            ],
            [
             0.9,
             "#4d9221"
            ],
            [
             1,
             "#276419"
            ]
           ],
           "sequential": [
            [
             0,
             "#0d0887"
            ],
            [
             0.1111111111111111,
             "#46039f"
            ],
            [
             0.2222222222222222,
             "#7201a8"
            ],
            [
             0.3333333333333333,
             "#9c179e"
            ],
            [
             0.4444444444444444,
             "#bd3786"
            ],
            [
             0.5555555555555556,
             "#d8576b"
            ],
            [
             0.6666666666666666,
             "#ed7953"
            ],
            [
             0.7777777777777778,
             "#fb9f3a"
            ],
            [
             0.8888888888888888,
             "#fdca26"
            ],
            [
             1,
             "#f0f921"
            ]
           ],
           "sequentialminus": [
            [
             0,
             "#0d0887"
            ],
            [
             0.1111111111111111,
             "#46039f"
            ],
            [
             0.2222222222222222,
             "#7201a8"
            ],
            [
             0.3333333333333333,
             "#9c179e"
            ],
            [
             0.4444444444444444,
             "#bd3786"
            ],
            [
             0.5555555555555556,
             "#d8576b"
            ],
            [
             0.6666666666666666,
             "#ed7953"
            ],
            [
             0.7777777777777778,
             "#fb9f3a"
            ],
            [
             0.8888888888888888,
             "#fdca26"
            ],
            [
             1,
             "#f0f921"
            ]
           ]
          },
          "colorway": [
           "#636efa",
           "#EF553B",
           "#00cc96",
           "#ab63fa",
           "#FFA15A",
           "#19d3f3",
           "#FF6692",
           "#B6E880",
           "#FF97FF",
           "#FECB52"
          ],
          "font": {
           "color": "#2a3f5f"
          },
          "geo": {
           "bgcolor": "white",
           "lakecolor": "white",
           "landcolor": "#E5ECF6",
           "showlakes": true,
           "showland": true,
           "subunitcolor": "white"
          },
          "hoverlabel": {
           "align": "left"
          },
          "hovermode": "closest",
          "mapbox": {
           "style": "light"
          },
          "paper_bgcolor": "white",
          "plot_bgcolor": "#E5ECF6",
          "polar": {
           "angularaxis": {
            "gridcolor": "white",
            "linecolor": "white",
            "ticks": ""
           },
           "bgcolor": "#E5ECF6",
           "radialaxis": {
            "gridcolor": "white",
            "linecolor": "white",
            "ticks": ""
           }
          },
          "scene": {
           "xaxis": {
            "backgroundcolor": "#E5ECF6",
            "gridcolor": "white",
            "gridwidth": 2,
            "linecolor": "white",
            "showbackground": true,
            "ticks": "",
            "zerolinecolor": "white"
           },
           "yaxis": {
            "backgroundcolor": "#E5ECF6",
            "gridcolor": "white",
            "gridwidth": 2,
            "linecolor": "white",
            "showbackground": true,
            "ticks": "",
            "zerolinecolor": "white"
           },
           "zaxis": {
            "backgroundcolor": "#E5ECF6",
            "gridcolor": "white",
            "gridwidth": 2,
            "linecolor": "white",
            "showbackground": true,
            "ticks": "",
            "zerolinecolor": "white"
           }
          },
          "shapedefaults": {
           "line": {
            "color": "#2a3f5f"
           }
          },
          "ternary": {
           "aaxis": {
            "gridcolor": "white",
            "linecolor": "white",
            "ticks": ""
           },
           "baxis": {
            "gridcolor": "white",
            "linecolor": "white",
            "ticks": ""
           },
           "bgcolor": "#E5ECF6",
           "caxis": {
            "gridcolor": "white",
            "linecolor": "white",
            "ticks": ""
           }
          },
          "title": {
           "x": 0.05
          },
          "xaxis": {
           "automargin": true,
           "gridcolor": "white",
           "linecolor": "white",
           "ticks": "",
           "title": {
            "standoff": 15
           },
           "zerolinecolor": "white",
           "zerolinewidth": 2
          },
          "yaxis": {
           "automargin": true,
           "gridcolor": "white",
           "linecolor": "white",
           "ticks": "",
           "title": {
            "standoff": 15
           },
           "zerolinecolor": "white",
           "zerolinewidth": 2
          }
         }
        }
       }
      }
     },
     "metadata": {},
     "output_type": "display_data"
    }
   ],
   "source": [
    "val = [len(df_2[df_2.mortal == 1]), len(df_2[df_2.mortal == 0])]\n",
    "labels = ['Accident mortel', 'Accident non mortel']\n",
    "px.pie(values=val, names=labels)"
   ]
  },
  {
   "cell_type": "code",
   "execution_count": null,
   "metadata": {},
   "outputs": [],
   "source": [
    "val = [len(df_2[df_2.pieton == 1]), len(df_2[df_2.pieton == 0])]\n",
    "labels = ['Implique piéton', 'N\\'implique pas de piéton']\n",
    "px.pie(values=val, names=labels)"
   ]
  },
  {
   "cell_type": "code",
   "execution_count": null,
   "metadata": {},
   "outputs": [],
   "source": [
    "fig = px.histogram(df_2['catv'].replace({0:\"Autre\", 1:\"Bicyclette\", 2:\"Cyclomoteur\", 3:\"Voiture\", 4:\"Utilitaire\", 5:\"Moto\"}), x=\"catv\")\n",
    "fig.show()\n",
    "\n",
    "fig = px.box(df_2, x=\"age\")\n",
    "fig.show()\n",
    "\n",
    "fig = px.histogram(df_2, x=\"age\")\n",
    "fig.show()\n",
    "\n",
    "fig = px.histogram(df_2['sexe_conducteur'].replace({1:\"Homme\", 0:\"Femme\"}), x=\"sexe_conducteur\")\n",
    "fig.show()\n",
    "\n",
    "fig = px.histogram(df_2['catr'].replace({1:\"Autoroute\", 2:\"Route nationale\", 3:\"Route départementale\", 4:\"Voie communale\", 5: \"Autre\"}) , x=\"catr\")\n",
    "fig.show()\n",
    "\n",
    "fig = px.histogram(df_2['col'].replace(\n",
    "    {-1:\"Non renseigné\", \n",
    "     1:\"Deux véhicules - Fontale\", \n",
    "     2:\"Deux véhicules - par l'arrière\", \n",
    "     3:\"Deux véhicules - par le côté\", \n",
    "     4:\"Trois véhicules et plus en chaine\", \n",
    "     5:\"Trois véhicules et plus collisions multiples\",\n",
    "     6:\"Autre collision\", \n",
    "     7: \"Pas de collision\"}), x=\"col\")\n",
    "fig.show()\n",
    "\n",
    "fig = px.histogram(df_2['obs'].replace({0:\"Pas d'obstacle\", 1:\"Obstacle\"}), x='obs')\n",
    "fig.show()"
   ]
  },
  {
   "cell_type": "markdown",
   "metadata": {},
   "source": [
    "### Analyse bivariée"
   ]
  },
  {
   "cell_type": "code",
   "execution_count": null,
   "metadata": {},
   "outputs": [],
   "source": [
    "features = ['age', 'mois', 'catr', 'mortal', 'sexe_conducteur', 'col']\n",
    "\n",
    "for exp in features:\n",
    "    print(exp)\n",
    "    analyse_bi_quali_quanti(\"catv\", exp, df_2)"
   ]
  },
  {
   "cell_type": "code",
   "execution_count": null,
   "metadata": {},
   "outputs": [],
   "source": [
    "features = ['age', 'mois', 'catr', 'mortal', 'col']\n",
    "\n",
    "for exp in features:\n",
    "    print(exp)\n",
    "    analyse_bi_quali_quanti(\"vma\", exp, df_2)"
   ]
  },
  {
   "cell_type": "code",
   "execution_count": null,
   "metadata": {},
   "outputs": [],
   "source": [
    "features = ['age', 'vma', 'mois', 'catr', 'mortal']\n",
    "\n",
    "for exp in features:\n",
    "    print(exp)\n",
    "    analyse_bi_quali_quanti(\"col\", exp, df_2)"
   ]
  },
  {
   "cell_type": "code",
   "execution_count": null,
   "metadata": {},
   "outputs": [],
   "source": [
    "features = ['age', 'vma', 'mois', 'catr', 'mortal']\n",
    "\n",
    "interet = \"pieton\"\n",
    "\n",
    "for exp in categorical_features:\n",
    "    if exp==interet:\n",
    "        continue\n",
    "    print(exp)\n",
    "    analyse_bi_quali_quali(interet, exp, df_2, numerical_features)"
   ]
  },
  {
   "cell_type": "code",
   "execution_count": null,
   "metadata": {},
   "outputs": [],
   "source": [
    "interet = \"agg\"\n",
    "\n",
    "for exp in categorical_features:\n",
    "    if exp==interet:\n",
    "        continue\n",
    "    print(exp)\n",
    "    analyse_bi_quali_quali(interet, exp, df_2, numerical_features)"
   ]
  },
  {
   "cell_type": "code",
   "execution_count": null,
   "metadata": {},
   "outputs": [],
   "source": [
    "interet = \"sexe_conducteur\"\n",
    "\n",
    "for exp in categorical_features:\n",
    "    if exp==interet:\n",
    "        continue\n",
    "    print(exp)\n",
    "    analyse_bi_quali_quali(interet, exp, df_2, numerical_features)"
   ]
  },
  {
   "cell_type": "markdown",
   "metadata": {},
   "source": [
    "## One hot encoding"
   ]
  },
  {
   "cell_type": "code",
   "execution_count": 172,
   "metadata": {},
   "outputs": [],
   "source": [
    "numeric_transformer = Pipeline(steps=[\n",
    "    ('scaler', StandardScaler())])\n",
    "\n",
    "categorical_transformer = Pipeline(steps=[\n",
    "    ('onehot', OneHotEncoder(handle_unknown='ignore'))])\n",
    "\n",
    "transformations = ColumnTransformer(\n",
    "    transformers=[\n",
    "        ('num', numeric_transformer, numerical_features),\n",
    "        ('cat', categorical_transformer, categorical_features)])"
   ]
  },
  {
   "cell_type": "markdown",
   "metadata": {},
   "source": [
    "## Apprentissage avec un arbre de décision"
   ]
  },
  {
   "cell_type": "code",
   "execution_count": 173,
   "metadata": {},
   "outputs": [],
   "source": [
    "from sklearn.model_selection import train_test_split\n",
    "\n",
    "# On découpe le jeu de données tout en conservant ensemble les véhicules impliqué dans un même accident\n",
    "# Les données d'entrainement et de test n'ont donc pas de rapport direct\n",
    "\n",
    "unique_accidents = df_2['Num_Acc'].unique() # Num_Acc uniques\n",
    "\n",
    "df_3 = df_2.drop(columns=['mortal'])\n",
    "# Création des train et test set à partir des numéros d'accident\n",
    "X_train, X_test = train_test_split(unique_accidents, test_size=0.33, random_state=42)\n",
    "\n",
    "# On peut ensuite récupérer les véhicules correspondants aux accidents\n",
    "train_df = df_2[df_2['Num_Acc'].isin(X_train)]\n",
    "test_df = df_2[df_2['Num_Acc'].isin(X_test)]\n",
    "y_train = train_df['mortal']\n",
    "y_test = test_df['mortal']\n",
    "X_train = train_df.drop(columns=['mortal', 'Num_Acc'])\n",
    "X_test = test_df.drop(columns=['mortal', 'Num_Acc'])\n",
    "df_2 = df_2.drop(columns='Num_Acc')"
   ]
  },
  {
   "cell_type": "code",
   "execution_count": 174,
   "metadata": {},
   "outputs": [
    {
     "data": {
      "text/plain": [
       "(1.0, 0.8999671160802367)"
      ]
     },
     "execution_count": 174,
     "metadata": {},
     "output_type": "execute_result"
    }
   ],
   "source": [
    "from sklearn import tree, ensemble, naive_bayes\n",
    "\n",
    "dt = tree.DecisionTreeClassifier(random_state=42)\n",
    "clf = Pipeline(steps=[('preprocessor', transformations),\n",
    "                      ('classifier', dt)])\n",
    "clf = clf.fit(X_train, y_train)\n",
    "\n",
    "preds = clf.predict(X_test)\n",
    "\n",
    "clf.score(X_train, y_train), clf.score(X_test, y_test)"
   ]
  },
  {
   "cell_type": "code",
   "execution_count": 175,
   "metadata": {},
   "outputs": [
    {
     "data": {
      "text/plain": [
       "(1.0, 0.8911871095034528)"
      ]
     },
     "execution_count": 175,
     "metadata": {},
     "output_type": "execute_result"
    }
   ],
   "source": [
    "from sklearn import tree, ensemble, naive_bayes\n",
    "\n",
    "dt = tree.DecisionTreeClassifier(random_state=42)\n",
    "clf = imblearn.pipeline.Pipeline(\n",
    "    [\n",
    "        ('preprocessor', transformations),\n",
    "        (\"resample\", imblearn.over_sampling.SMOTE()),\n",
    "        ('classifier', dt)\n",
    "    ])\n",
    "clf = clf.fit(X_train, y_train)\n",
    "\n",
    "preds = clf.predict(X_test)\n",
    "\n",
    "clf.score(X_train, y_train), clf.score(X_test, y_test)"
   ]
  },
  {
   "cell_type": "markdown",
   "metadata": {},
   "source": [
    "### Afficher la matrice de confusion"
   ]
  },
  {
   "cell_type": "code",
   "execution_count": 176,
   "metadata": {},
   "outputs": [
    {
     "data": {
      "text/plain": [
       "(26768, 1949, 1360, 333)"
      ]
     },
     "execution_count": 176,
     "metadata": {},
     "output_type": "execute_result"
    }
   ],
   "source": [
    "from sklearn.metrics import confusion_matrix\n",
    "tn, fp, fn, tp = confusion_matrix(y_test, preds).ravel()\n",
    "tn, fp, fn, tp"
   ]
  },
  {
   "cell_type": "code",
   "execution_count": 177,
   "metadata": {},
   "outputs": [
    {
     "data": {
      "application/vnd.plotly.v1+json": {
       "config": {
        "plotlyServerURL": "https://plot.ly"
       },
       "data": [
        {
         "coloraxis": "coloraxis",
         "hovertemplate": "Pred: %{x}<br>Truth: %{y}<br>color: %{z}<extra></extra>",
         "name": "0",
         "texttemplate": "%{z}",
         "type": "heatmap",
         "x": [
          "False",
          "True"
         ],
         "xaxis": "x",
         "y": [
          "False",
          "True"
         ],
         "yaxis": "y",
         "z": [
          [
           26768,
           1949
          ],
          [
           1360,
           333
          ]
         ]
        }
       ],
       "layout": {
        "coloraxis": {
         "colorscale": [
          [
           0,
           "#0d0887"
          ],
          [
           0.1111111111111111,
           "#46039f"
          ],
          [
           0.2222222222222222,
           "#7201a8"
          ],
          [
           0.3333333333333333,
           "#9c179e"
          ],
          [
           0.4444444444444444,
           "#bd3786"
          ],
          [
           0.5555555555555556,
           "#d8576b"
          ],
          [
           0.6666666666666666,
           "#ed7953"
          ],
          [
           0.7777777777777778,
           "#fb9f3a"
          ],
          [
           0.8888888888888888,
           "#fdca26"
          ],
          [
           1,
           "#f0f921"
          ]
         ]
        },
        "margin": {
         "t": 60
        },
        "template": {
         "data": {
          "bar": [
           {
            "error_x": {
             "color": "#2a3f5f"
            },
            "error_y": {
             "color": "#2a3f5f"
            },
            "marker": {
             "line": {
              "color": "#E5ECF6",
              "width": 0.5
             },
             "pattern": {
              "fillmode": "overlay",
              "size": 10,
              "solidity": 0.2
             }
            },
            "type": "bar"
           }
          ],
          "barpolar": [
           {
            "marker": {
             "line": {
              "color": "#E5ECF6",
              "width": 0.5
             },
             "pattern": {
              "fillmode": "overlay",
              "size": 10,
              "solidity": 0.2
             }
            },
            "type": "barpolar"
           }
          ],
          "carpet": [
           {
            "aaxis": {
             "endlinecolor": "#2a3f5f",
             "gridcolor": "white",
             "linecolor": "white",
             "minorgridcolor": "white",
             "startlinecolor": "#2a3f5f"
            },
            "baxis": {
             "endlinecolor": "#2a3f5f",
             "gridcolor": "white",
             "linecolor": "white",
             "minorgridcolor": "white",
             "startlinecolor": "#2a3f5f"
            },
            "type": "carpet"
           }
          ],
          "choropleth": [
           {
            "colorbar": {
             "outlinewidth": 0,
             "ticks": ""
            },
            "type": "choropleth"
           }
          ],
          "contour": [
           {
            "colorbar": {
             "outlinewidth": 0,
             "ticks": ""
            },
            "colorscale": [
             [
              0,
              "#0d0887"
             ],
             [
              0.1111111111111111,
              "#46039f"
             ],
             [
              0.2222222222222222,
              "#7201a8"
             ],
             [
              0.3333333333333333,
              "#9c179e"
             ],
             [
              0.4444444444444444,
              "#bd3786"
             ],
             [
              0.5555555555555556,
              "#d8576b"
             ],
             [
              0.6666666666666666,
              "#ed7953"
             ],
             [
              0.7777777777777778,
              "#fb9f3a"
             ],
             [
              0.8888888888888888,
              "#fdca26"
             ],
             [
              1,
              "#f0f921"
             ]
            ],
            "type": "contour"
           }
          ],
          "contourcarpet": [
           {
            "colorbar": {
             "outlinewidth": 0,
             "ticks": ""
            },
            "type": "contourcarpet"
           }
          ],
          "heatmap": [
           {
            "colorbar": {
             "outlinewidth": 0,
             "ticks": ""
            },
            "colorscale": [
             [
              0,
              "#0d0887"
             ],
             [
              0.1111111111111111,
              "#46039f"
             ],
             [
              0.2222222222222222,
              "#7201a8"
             ],
             [
              0.3333333333333333,
              "#9c179e"
             ],
             [
              0.4444444444444444,
              "#bd3786"
             ],
             [
              0.5555555555555556,
              "#d8576b"
             ],
             [
              0.6666666666666666,
              "#ed7953"
             ],
             [
              0.7777777777777778,
              "#fb9f3a"
             ],
             [
              0.8888888888888888,
              "#fdca26"
             ],
             [
              1,
              "#f0f921"
             ]
            ],
            "type": "heatmap"
           }
          ],
          "heatmapgl": [
           {
            "colorbar": {
             "outlinewidth": 0,
             "ticks": ""
            },
            "colorscale": [
             [
              0,
              "#0d0887"
             ],
             [
              0.1111111111111111,
              "#46039f"
             ],
             [
              0.2222222222222222,
              "#7201a8"
             ],
             [
              0.3333333333333333,
              "#9c179e"
             ],
             [
              0.4444444444444444,
              "#bd3786"
             ],
             [
              0.5555555555555556,
              "#d8576b"
             ],
             [
              0.6666666666666666,
              "#ed7953"
             ],
             [
              0.7777777777777778,
              "#fb9f3a"
             ],
             [
              0.8888888888888888,
              "#fdca26"
             ],
             [
              1,
              "#f0f921"
             ]
            ],
            "type": "heatmapgl"
           }
          ],
          "histogram": [
           {
            "marker": {
             "pattern": {
              "fillmode": "overlay",
              "size": 10,
              "solidity": 0.2
             }
            },
            "type": "histogram"
           }
          ],
          "histogram2d": [
           {
            "colorbar": {
             "outlinewidth": 0,
             "ticks": ""
            },
            "colorscale": [
             [
              0,
              "#0d0887"
             ],
             [
              0.1111111111111111,
              "#46039f"
             ],
             [
              0.2222222222222222,
              "#7201a8"
             ],
             [
              0.3333333333333333,
              "#9c179e"
             ],
             [
              0.4444444444444444,
              "#bd3786"
             ],
             [
              0.5555555555555556,
              "#d8576b"
             ],
             [
              0.6666666666666666,
              "#ed7953"
             ],
             [
              0.7777777777777778,
              "#fb9f3a"
             ],
             [
              0.8888888888888888,
              "#fdca26"
             ],
             [
              1,
              "#f0f921"
             ]
            ],
            "type": "histogram2d"
           }
          ],
          "histogram2dcontour": [
           {
            "colorbar": {
             "outlinewidth": 0,
             "ticks": ""
            },
            "colorscale": [
             [
              0,
              "#0d0887"
             ],
             [
              0.1111111111111111,
              "#46039f"
             ],
             [
              0.2222222222222222,
              "#7201a8"
             ],
             [
              0.3333333333333333,
              "#9c179e"
             ],
             [
              0.4444444444444444,
              "#bd3786"
             ],
             [
              0.5555555555555556,
              "#d8576b"
             ],
             [
              0.6666666666666666,
              "#ed7953"
             ],
             [
              0.7777777777777778,
              "#fb9f3a"
             ],
             [
              0.8888888888888888,
              "#fdca26"
             ],
             [
              1,
              "#f0f921"
             ]
            ],
            "type": "histogram2dcontour"
           }
          ],
          "mesh3d": [
           {
            "colorbar": {
             "outlinewidth": 0,
             "ticks": ""
            },
            "type": "mesh3d"
           }
          ],
          "parcoords": [
           {
            "line": {
             "colorbar": {
              "outlinewidth": 0,
              "ticks": ""
             }
            },
            "type": "parcoords"
           }
          ],
          "pie": [
           {
            "automargin": true,
            "type": "pie"
           }
          ],
          "scatter": [
           {
            "fillpattern": {
             "fillmode": "overlay",
             "size": 10,
             "solidity": 0.2
            },
            "type": "scatter"
           }
          ],
          "scatter3d": [
           {
            "line": {
             "colorbar": {
              "outlinewidth": 0,
              "ticks": ""
             }
            },
            "marker": {
             "colorbar": {
              "outlinewidth": 0,
              "ticks": ""
             }
            },
            "type": "scatter3d"
           }
          ],
          "scattercarpet": [
           {
            "marker": {
             "colorbar": {
              "outlinewidth": 0,
              "ticks": ""
             }
            },
            "type": "scattercarpet"
           }
          ],
          "scattergeo": [
           {
            "marker": {
             "colorbar": {
              "outlinewidth": 0,
              "ticks": ""
             }
            },
            "type": "scattergeo"
           }
          ],
          "scattergl": [
           {
            "marker": {
             "colorbar": {
              "outlinewidth": 0,
              "ticks": ""
             }
            },
            "type": "scattergl"
           }
          ],
          "scattermapbox": [
           {
            "marker": {
             "colorbar": {
              "outlinewidth": 0,
              "ticks": ""
             }
            },
            "type": "scattermapbox"
           }
          ],
          "scatterpolar": [
           {
            "marker": {
             "colorbar": {
              "outlinewidth": 0,
              "ticks": ""
             }
            },
            "type": "scatterpolar"
           }
          ],
          "scatterpolargl": [
           {
            "marker": {
             "colorbar": {
              "outlinewidth": 0,
              "ticks": ""
             }
            },
            "type": "scatterpolargl"
           }
          ],
          "scatterternary": [
           {
            "marker": {
             "colorbar": {
              "outlinewidth": 0,
              "ticks": ""
             }
            },
            "type": "scatterternary"
           }
          ],
          "surface": [
           {
            "colorbar": {
             "outlinewidth": 0,
             "ticks": ""
            },
            "colorscale": [
             [
              0,
              "#0d0887"
             ],
             [
              0.1111111111111111,
              "#46039f"
             ],
             [
              0.2222222222222222,
              "#7201a8"
             ],
             [
              0.3333333333333333,
              "#9c179e"
             ],
             [
              0.4444444444444444,
              "#bd3786"
             ],
             [
              0.5555555555555556,
              "#d8576b"
             ],
             [
              0.6666666666666666,
              "#ed7953"
             ],
             [
              0.7777777777777778,
              "#fb9f3a"
             ],
             [
              0.8888888888888888,
              "#fdca26"
             ],
             [
              1,
              "#f0f921"
             ]
            ],
            "type": "surface"
           }
          ],
          "table": [
           {
            "cells": {
             "fill": {
              "color": "#EBF0F8"
             },
             "line": {
              "color": "white"
             }
            },
            "header": {
             "fill": {
              "color": "#C8D4E3"
             },
             "line": {
              "color": "white"
             }
            },
            "type": "table"
           }
          ]
         },
         "layout": {
          "annotationdefaults": {
           "arrowcolor": "#2a3f5f",
           "arrowhead": 0,
           "arrowwidth": 1
          },
          "autotypenumbers": "strict",
          "coloraxis": {
           "colorbar": {
            "outlinewidth": 0,
            "ticks": ""
           }
          },
          "colorscale": {
           "diverging": [
            [
             0,
             "#8e0152"
            ],
            [
             0.1,
             "#c51b7d"
            ],
            [
             0.2,
             "#de77ae"
            ],
            [
             0.3,
             "#f1b6da"
            ],
            [
             0.4,
             "#fde0ef"
            ],
            [
             0.5,
             "#f7f7f7"
            ],
            [
             0.6,
             "#e6f5d0"
            ],
            [
             0.7,
             "#b8e186"
            ],
            [
             0.8,
             "#7fbc41"
            ],
            [
             0.9,
             "#4d9221"
            ],
            [
             1,
             "#276419"
            ]
           ],
           "sequential": [
            [
             0,
             "#0d0887"
            ],
            [
             0.1111111111111111,
             "#46039f"
            ],
            [
             0.2222222222222222,
             "#7201a8"
            ],
            [
             0.3333333333333333,
             "#9c179e"
            ],
            [
             0.4444444444444444,
             "#bd3786"
            ],
            [
             0.5555555555555556,
             "#d8576b"
            ],
            [
             0.6666666666666666,
             "#ed7953"
            ],
            [
             0.7777777777777778,
             "#fb9f3a"
            ],
            [
             0.8888888888888888,
             "#fdca26"
            ],
            [
             1,
             "#f0f921"
            ]
           ],
           "sequentialminus": [
            [
             0,
             "#0d0887"
            ],
            [
             0.1111111111111111,
             "#46039f"
            ],
            [
             0.2222222222222222,
             "#7201a8"
            ],
            [
             0.3333333333333333,
             "#9c179e"
            ],
            [
             0.4444444444444444,
             "#bd3786"
            ],
            [
             0.5555555555555556,
             "#d8576b"
            ],
            [
             0.6666666666666666,
             "#ed7953"
            ],
            [
             0.7777777777777778,
             "#fb9f3a"
            ],
            [
             0.8888888888888888,
             "#fdca26"
            ],
            [
             1,
             "#f0f921"
            ]
           ]
          },
          "colorway": [
           "#636efa",
           "#EF553B",
           "#00cc96",
           "#ab63fa",
           "#FFA15A",
           "#19d3f3",
           "#FF6692",
           "#B6E880",
           "#FF97FF",
           "#FECB52"
          ],
          "font": {
           "color": "#2a3f5f"
          },
          "geo": {
           "bgcolor": "white",
           "lakecolor": "white",
           "landcolor": "#E5ECF6",
           "showlakes": true,
           "showland": true,
           "subunitcolor": "white"
          },
          "hoverlabel": {
           "align": "left"
          },
          "hovermode": "closest",
          "mapbox": {
           "style": "light"
          },
          "paper_bgcolor": "white",
          "plot_bgcolor": "#E5ECF6",
          "polar": {
           "angularaxis": {
            "gridcolor": "white",
            "linecolor": "white",
            "ticks": ""
           },
           "bgcolor": "#E5ECF6",
           "radialaxis": {
            "gridcolor": "white",
            "linecolor": "white",
            "ticks": ""
           }
          },
          "scene": {
           "xaxis": {
            "backgroundcolor": "#E5ECF6",
            "gridcolor": "white",
            "gridwidth": 2,
            "linecolor": "white",
            "showbackground": true,
            "ticks": "",
            "zerolinecolor": "white"
           },
           "yaxis": {
            "backgroundcolor": "#E5ECF6",
            "gridcolor": "white",
            "gridwidth": 2,
            "linecolor": "white",
            "showbackground": true,
            "ticks": "",
            "zerolinecolor": "white"
           },
           "zaxis": {
            "backgroundcolor": "#E5ECF6",
            "gridcolor": "white",
            "gridwidth": 2,
            "linecolor": "white",
            "showbackground": true,
            "ticks": "",
            "zerolinecolor": "white"
           }
          },
          "shapedefaults": {
           "line": {
            "color": "#2a3f5f"
           }
          },
          "ternary": {
           "aaxis": {
            "gridcolor": "white",
            "linecolor": "white",
            "ticks": ""
           },
           "baxis": {
            "gridcolor": "white",
            "linecolor": "white",
            "ticks": ""
           },
           "bgcolor": "#E5ECF6",
           "caxis": {
            "gridcolor": "white",
            "linecolor": "white",
            "ticks": ""
           }
          },
          "title": {
           "x": 0.05
          },
          "xaxis": {
           "automargin": true,
           "gridcolor": "white",
           "linecolor": "white",
           "ticks": "",
           "title": {
            "standoff": 15
           },
           "zerolinecolor": "white",
           "zerolinewidth": 2
          },
          "yaxis": {
           "automargin": true,
           "gridcolor": "white",
           "linecolor": "white",
           "ticks": "",
           "title": {
            "standoff": 15
           },
           "zerolinecolor": "white",
           "zerolinewidth": 2
          }
         }
        },
        "xaxis": {
         "anchor": "y",
         "constrain": "domain",
         "domain": [
          0,
          1
         ],
         "scaleanchor": "y",
         "title": {
          "text": "Pred"
         }
        },
        "yaxis": {
         "anchor": "x",
         "autorange": "reversed",
         "constrain": "domain",
         "domain": [
          0,
          1
         ],
         "title": {
          "text": "Truth"
         }
        }
       }
      }
     },
     "metadata": {},
     "output_type": "display_data"
    }
   ],
   "source": [
    "import plotly.express as px\n",
    "\n",
    "fig = px.imshow([[tn, fp], [fn, tp]], text_auto=True, labels=dict(y=\"Truth\", x=\"Pred\"),\n",
    "                x=[\"False\", \"True\"],\n",
    "                y=[\"False\", \"True\"]\n",
    "               )\n",
    "fig.show()"
   ]
  },
  {
   "cell_type": "markdown",
   "metadata": {},
   "source": [
    "### Les métriques \"Base rate\""
   ]
  },
  {
   "cell_type": "code",
   "execution_count": 178,
   "metadata": {},
   "outputs": [
    {
     "name": "stdout",
     "output_type": "stream",
     "text": [
      "trajet\n",
      "0 [0]\n",
      "1 [1]\n",
      "2 [2]\n",
      "3 [3]\n",
      "4 [4]\n",
      "5 [5]\n",
      "catr\n",
      "0 [1]\n",
      "1 [2]\n",
      "2 [3]\n",
      "3 [4]\n",
      "4 [5]\n",
      "circ\n",
      "0 [-1]\n",
      "1 [1]\n",
      "2 [2]\n",
      "3 [3]\n",
      "4 [4]\n",
      "nbv\n",
      "0 [-1]\n",
      "1 [0]\n",
      "2 [1]\n",
      "3 [2]\n",
      "4 [3]\n",
      "5 [4]\n",
      "6 [5]\n",
      "7 [6]\n",
      "8 [7]\n",
      "9 [8]\n",
      "10 [9]\n",
      "11 [10]\n",
      "12 [11]\n",
      "13 [12]\n",
      "prof\n",
      "0 [-1]\n",
      "1 [1]\n",
      "2 [2]\n",
      "3 [3]\n",
      "4 [4]\n",
      "plan\n",
      "0 [-1]\n",
      "1 [1]\n",
      "2 [2]\n",
      "3 [3]\n",
      "4 [4]\n",
      "surf\n",
      "0 [0]\n",
      "1 [1]\n",
      "2 [2]\n",
      "3 [3]\n",
      "4 [4]\n",
      "5 [5]\n",
      "6 [6]\n",
      "7 [7]\n",
      "8 [8]\n",
      "vma\n",
      "0 [1]\n",
      "1 [2]\n",
      "2 [3]\n",
      "3 [4]\n",
      "lum\n",
      "0 [-1]\n",
      "1 [1]\n",
      "2 [2]\n",
      "3 [3]\n",
      "4 [4]\n",
      "5 [5]\n",
      "agg\n",
      "0 [1]\n",
      "1 [2]\n",
      "int\n",
      "0 [-1]\n",
      "1 [1]\n",
      "2 [2]\n",
      "3 [3]\n",
      "4 [4]\n",
      "5 [5]\n",
      "6 [6]\n",
      "7 [7]\n",
      "8 [8]\n",
      "9 [9]\n",
      "atm\n",
      "0 [-1]\n",
      "1 [1]\n",
      "2 [2]\n",
      "3 [3]\n",
      "4 [4]\n",
      "5 [5]\n",
      "6 [6]\n",
      "7 [7]\n",
      "8 [8]\n",
      "9 [9]\n",
      "col\n",
      "0 [-1]\n",
      "1 [1]\n",
      "2 [2]\n",
      "3 [3]\n",
      "4 [4]\n",
      "5 [5]\n",
      "6 [6]\n",
      "7 [7]\n",
      "catv\n",
      "0 [0]\n",
      "1 [1]\n",
      "2 [2]\n",
      "3 [3]\n",
      "4 [4]\n",
      "5 [5]\n",
      "obs\n",
      "0 [0]\n",
      "1 [1]\n",
      "obsm\n",
      "0 [-1]\n",
      "1 [0]\n",
      "2 [1]\n",
      "3 [2]\n",
      "4 [4]\n",
      "5 [5]\n",
      "6 [6]\n",
      "7 [9]\n",
      "choc\n",
      "0 [-1]\n",
      "1 [0]\n",
      "2 [1]\n",
      "3 [2]\n",
      "4 [3]\n",
      "5 [4]\n",
      "6 [5]\n",
      "7 [6]\n",
      "8 [7]\n",
      "9 [8]\n",
      "10 [9]\n",
      "pieton\n",
      "0 [0]\n",
      "1 [1]\n",
      "sexe_conducteur\n",
      "0 [0]\n",
      "1 [1]\n",
      "infra\n",
      "0 [-1]\n",
      "1 [0]\n",
      "2 [1]\n",
      "3 [2]\n",
      "4 [3]\n",
      "5 [4]\n",
      "6 [5]\n",
      "7 [6]\n",
      "8 [7]\n",
      "9 [8]\n",
      "10 [9]\n",
      "situ\n",
      "0 [-1]\n",
      "1 [1]\n",
      "2 [2]\n",
      "3 [3]\n",
      "4 [4]\n",
      "5 [5]\n",
      "6 [6]\n",
      "7 [8]\n"
     ]
    }
   ],
   "source": [
    "encoders = {cat_col:preprocessing.LabelEncoder() for cat_col in categorical_features}\n",
    "\n",
    "for cat_col in categorical_features:\n",
    "  df_2[cat_col] = encoders[cat_col].fit_transform(df_2[cat_col])\n",
    "  print(cat_col)\n",
    "  for idx in sorted(df_2[cat_col].unique()):\n",
    "    print(idx, encoders[cat_col].inverse_transform([idx]))"
   ]
  },
  {
   "cell_type": "code",
   "execution_count": 179,
   "metadata": {},
   "outputs": [],
   "source": [
    "def compute_stat(preds, sensitive, value=None, not_value=None):\n",
    "    if value is not None:\n",
    "      preds_sel = preds[sensitive == value]\n",
    "    elif not_value is not None:\n",
    "      preds_sel = preds[sensitive != not_value]\n",
    "    else:\n",
    "      print(\"one of 'value' and 'not value' must be set\")\n",
    "      return None, None, None, None\n",
    "    card = len(preds_sel)\n",
    "    card_pos = len(preds_sel[preds_sel == 1])\n",
    "    card_neg = len(preds_sel[preds_sel == 0])\n",
    "    return card, card_pos, card_neg, preds_sel\n",
    "\n",
    "\n",
    "def compute_baserate(preds, sensitive=X_test[\"sexe_conducteur\"], value=0):\n",
    "\n",
    "    n_F, n_F_pos, n_F_neg, preds_F = compute_stat(preds=preds, sensitive=sensitive, value=value)\n",
    "    n_M, n_M_pos, n_M_neg, preds_M = compute_stat(preds=preds, sensitive=sensitive, not_value=value)\n",
    "\n",
    "    DI = n_F_pos/n_F*n_M/n_M_pos\n",
    "    p_DI = np.min([DI, 1/DI])\n",
    "    DP = n_F_pos/n_F - n_M_pos/n_M\n",
    "\n",
    "    ret = {}\n",
    "    ret[\"disparate_impact\"] = DI\n",
    "    ret[\"P_rule_disparate_impact\"] = p_DI\n",
    "    ret[\"demography_parity\"] = DP\n",
    "\n",
    "    return ret"
   ]
  },
  {
   "cell_type": "code",
   "execution_count": 180,
   "metadata": {},
   "outputs": [
    {
     "name": "stdout",
     "output_type": "stream",
     "text": [
      "sexe_conducteur 1\n",
      "disparate_impact 1.3832230444313256 1.5733869178937117\n",
      "P_rule_disparate_impact 0.7229492047763871 0.6355715740529335\n",
      "demography_parity 0.022424154137766994 0.022439373005842936\n",
      "pieton 1\n",
      "disparate_impact 0.8760353762304948 1.0800450805571133\n",
      "P_rule_disparate_impact 0.8760353762304948 0.9258872782274753\n",
      "demography_parity -0.009414349837445518 0.004422364056385214\n"
     ]
    }
   ],
   "source": [
    "preds = clf.predict(X_test)\n",
    "for att,unpriv in zip(['sexe_conducteur', 'pieton'],[1, 1]):\n",
    "  value = encoders[att].transform([unpriv])[0]\n",
    "  base_rate_pred = compute_baserate(preds, sensitive=X_test[att], value=value)\n",
    "  base_rate_label = compute_baserate(y_test, sensitive=X_test[att], value=value)\n",
    "  print(att, unpriv)\n",
    "  for k,v in base_rate_pred.items():\n",
    "    print(k, v, base_rate_label[k])"
   ]
  },
  {
   "cell_type": "markdown",
   "metadata": {},
   "source": [
    "### Le taux d'erreur dans pour les attributs sensibles"
   ]
  },
  {
   "cell_type": "markdown",
   "metadata": {},
   "source": [
    "P(Y^=1| (Y=1, Z=0)) <br> P(Y^=1| (Y=0, Z=0)) <br> P(Y^=1| (Y=1, Z=1)) <br> P(Y^=1| (Y=0, Z=1))"
   ]
  },
  {
   "cell_type": "code",
   "execution_count": 181,
   "metadata": {},
   "outputs": [],
   "source": [
    "def sensible_error_rate (X, desired_output, group, target, label):\n",
    "   cardGlob1 = len(X[(X[label]==1) & (X[target] == group)])\n",
    "   cardGlob2 = len(X[(X[label]==0) & (X[target] == group)])\n",
    "   cardGlob3 = len(X[(X[label]==1) & (X[target] == np.absolute(group-1))])\n",
    "   cardGlob4 = len(X[(X[label]==0) & (X[target] == np.absolute(group-1))])\n",
    "   cardPred1 = len(X[(X['pred']==desired_output) & (X[label]==1) & (X[target] == group)])\n",
    "   cardPred2 = len(X[(X['pred']==desired_output) & (X[label]==0) & (X[target] == group)])\n",
    "   cardPred3 = len(X[(X['pred']==desired_output) & (X[label]==1) & (X[target] == np.absolute(group-1))])\n",
    "   cardPred4 = len(X[(X['pred']==desired_output) & (X[label]==0) & (X[target] == np.absolute(group-1))])\n",
    "\n",
    "   return cardPred1/cardGlob1, cardPred2/cardGlob2, cardPred3/cardGlob3, cardPred4/cardGlob4"
   ]
  },
  {
   "cell_type": "code",
   "execution_count": 182,
   "metadata": {},
   "outputs": [
    {
     "name": "stdout",
     "output_type": "stream",
     "text": [
      "Les femmes conductrices impliquées dans un accident mortel : 0.16932907348242812 \n",
      "Les femmes conductrices impliquées dans un accident non mortel : 0.054001301236174366 \n",
      "Les hommes conducteurs impliquées dans un accident mortel : 0.2028985507246377 \n",
      "Les hommes conducteurs impliquées dans un accident non mortel : 0.07293647774819323 \n",
      "\n"
     ]
    }
   ],
   "source": [
    "target = 'sexe_conducteur'\n",
    "X_error_rate_1 = pd.DataFrame()\n",
    "X_error_rate_1[target] = X_test[target]\n",
    "X_error_rate_1[label] = y_test\n",
    "X_error_rate_1['pred'] = preds\n",
    "result = sensible_error_rate (X_error_rate_1, 1, 0, target, label)\n",
    "print(\"Les femmes conductrices impliquées dans un accident mortel : {0} \\nLes femmes conductrices impliquées dans un accident non mortel : {1} \\nLes hommes conducteurs impliquées dans un accident mortel : {2} \\nLes hommes conducteurs impliquées dans un accident non mortel : {3} \\n\".format(result[0], result[1], result[2], result[3]))"
   ]
  },
  {
   "cell_type": "code",
   "execution_count": null,
   "metadata": {},
   "outputs": [],
   "source": [
    "target = 'pieton'\n",
    "X_error_rate_1 = pd.DataFrame()\n",
    "X_error_rate_1[target] = X_test[target]\n",
    "X_error_rate_1[label] = y_test\n",
    "X_error_rate_1['pred'] = preds\n",
    "print(sensible_error_rate (X_error_rate_1, 1, 0, target, label))"
   ]
  },
  {
   "cell_type": "markdown",
   "metadata": {},
   "source": [
    "## Audit du modèle"
   ]
  },
  {
   "cell_type": "code",
   "execution_count": null,
   "metadata": {},
   "outputs": [],
   "source": [
    "import pickle\n",
    "\n",
    "data_test = X_test.copy(deep=True)\n",
    "data_test[\"Y\"] = y_test\n",
    "\n",
    "data_test.to_csv(\"test_data.csv\",\n",
    "          index=False)\n",
    "\n",
    "data_train = X_train.copy(deep=True)\n",
    "data_train[\"Y\"] = y_train\n",
    "\n",
    "data_train.to_csv(\"train_data.csv\",\n",
    "          index=False)\n",
    "\n",
    "with open( 'clf.pickle', 'wb' ) as f:\n",
    "    pickle.dump(clf, f )"
   ]
  },
  {
   "cell_type": "markdown",
   "metadata": {},
   "source": [
    "### Trouver des contrefactuels avec Dice"
   ]
  },
  {
   "cell_type": "code",
   "execution_count": null,
   "metadata": {},
   "outputs": [],
   "source": [
    "import dice_ml\n",
    "from dice_ml.utils import helpers\n",
    "from IPython.core.display import HTML"
   ]
  },
  {
   "cell_type": "code",
   "execution_count": null,
   "metadata": {},
   "outputs": [],
   "source": [
    "train_dataset = df_2.copy()\n",
    "train_dataset[label] = y_train\n",
    "d = dice_ml.Data(dataframe=train_dataset, continuous_features=numerical_features, outcome_name=label)\n",
    "\n",
    "m = dice_ml.Model(model=clf, backend=\"sklearn\")\n",
    "\n",
    "exp = dice_ml.Dice(d, m)"
   ]
  },
  {
   "cell_type": "code",
   "execution_count": null,
   "metadata": {},
   "outputs": [],
   "source": [
    "# Génération des contrefactuels\n",
    "for i in range(5):\n",
    "  query_instance = data_test.drop(columns=\"Y\")[i:i+1]\n",
    "  dice_exp = exp.generate_counterfactuals(\n",
    "      query_instance,\n",
    "      total_CFs=10,\n",
    "      desired_class=\"opposite\")\n",
    "  # Visualize counterfactual explanation\n",
    "  dice_exp.visualize_as_dataframe(show_only_changes=True)\n",
    "  # Instance local feature importance\n",
    "  pd.set_option(\"display.max_rows\", None, \"display.max_columns\", None)\n",
    "  imp = exp.local_feature_importance(query_instance, cf_examples_list=dice_exp.cf_examples_list)\n",
    "  print(imp.local_importance)"
   ]
  },
  {
   "cell_type": "markdown",
   "metadata": {},
   "source": [
    "### BlackBoxAuditing"
   ]
  },
  {
   "cell_type": "code",
   "execution_count": null,
   "metadata": {},
   "outputs": [],
   "source": [
    "from BlackBoxAuditing.data import load_from_file\n",
    "from BlackBoxAuditing.model_factories.AbstractModelFactory import AbstractModelFactory\n",
    "from BlackBoxAuditing.model_factories.AbstractModelVisitor import AbstractModelVisitor\n",
    "\n",
    "import BlackBoxAuditing as BBA\n",
    "\n",
    "\n",
    "(_, train_BBA, _, _, _, _) = load_from_file(\"train_data.csv\",\n",
    "                      correct_types = np.repeat([int], [len(data_test.columns)]),\n",
    "                                response_header = 'Y',\n",
    "                               train_percentage = 1.0)\n",
    "(headers, _, test_BBA, response_header, features_to_ignore, correct_types) = load_from_file(\"test_data.csv\",\n",
    "                      correct_types = np.repeat([int], [len(data_test.columns)]),\n",
    "                                response_header = 'Y',\n",
    "                               train_percentage = 0.0)\n",
    "BBA_data = (headers, train_BBA, test_BBA, response_header, features_to_ignore, correct_types)"
   ]
  },
  {
   "cell_type": "code",
   "execution_count": null,
   "metadata": {},
   "outputs": [],
   "source": [
    "class HirePredictorBuilder(AbstractModelFactory):\n",
    "    def __init__(self, *args, **kwargs):\n",
    "        AbstractModelFactory.__init__(self, *args, **kwargs)\n",
    "        self.verbose_factory_name = \"HirePredictor\"\n",
    "    def build(self, train_set):\n",
    "        return HirePredictor()\n",
    "\n",
    "class HirePredictor(AbstractModelVisitor):\n",
    "    def __init__(self):\n",
    "        with open( 'clf.pickle', 'rb' ) as f:\n",
    "            self.clf = pickle.load(f)\n",
    "\n",
    "    def test(self, test_set, test_name=\"\"):\n",
    "        df_test = pd.DataFrame(\n",
    "            test_set, columns =data_test.columns.to_list())\n",
    "        targets = df_test['Y']\n",
    "        preds = self.clf.predict(df_test.drop('Y', axis=1))\n",
    "        return [[a,b] for (a,b) in zip(targets, preds)]"
   ]
  },
  {
   "cell_type": "code",
   "execution_count": null,
   "metadata": {},
   "outputs": [],
   "source": [
    "auditor = BBA.Auditor()\n",
    "auditor.ModelFactory = HirePredictorBuilder\n",
    "auditor(BBA_data, output_dir = \"audit-output\")"
   ]
  },
  {
   "cell_type": "markdown",
   "metadata": {},
   "source": [
    "## Interprétation du modèle\n",
    "\n",
    "### Interprétation avec ShapKit\n",
    "\n",
    "Création d'une fonction dans `utils` qui va paralléliser les calculs des valeurs de shapley.\n",
    "On va regarder les contributions dans le cas où les prédictions sont 1 et dans les cas où les prédictions sont 0 "
   ]
  },
  {
   "cell_type": "code",
   "execution_count": null,
   "metadata": {},
   "outputs": [],
   "source": [
    "# t prend les entrées qui donne une sortie 1\n",
    "# t2 prend le reste\n",
    "t = []\n",
    "t2 = []\n",
    "for i in range(0, len(preds)):\n",
    "    if preds[i] == 1:\n",
    "        t.append(i)\n",
    "    else:\n",
    "        t2.append(i)"
   ]
  },
  {
   "cell_type": "code",
   "execution_count": null,
   "metadata": {},
   "outputs": [],
   "source": [
    "# Calcul de shap en parallèle pour 10 valeurs\n",
    "# Ici pour les sorties données 1\n",
    "s = parallel_shap(data_test, X_train, clf, t, n_iter=10)\n",
    "s2 = parallel_shap(data_test, X_train, clf, t2, n_iter=10)"
   ]
  },
  {
   "cell_type": "code",
   "execution_count": null,
   "metadata": {},
   "outputs": [],
   "source": [
    "s.start_shap()\n",
    "s2.start_shap()"
   ]
  },
  {
   "cell_type": "code",
   "execution_count": null,
   "metadata": {},
   "outputs": [],
   "source": [
    "# Si intérruption du processus\n",
    "s.stop_shap()"
   ]
  },
  {
   "cell_type": "code",
   "execution_count": null,
   "metadata": {},
   "outputs": [],
   "source": [
    "from shapkit.plots import plot_shapley\n",
    "\n",
    "# Affichage des résultats\n",
    "for i in range(0, 10):\n",
    "    true_shap, query_instance, reference = s.results[i]\n",
    "    fig = plot_shapley(x=query_instance, fc=s.fc, ref=reference, shapley_values=true_shap, n_attributes=24)"
   ]
  },
  {
   "cell_type": "code",
   "execution_count": null,
   "metadata": {},
   "outputs": [],
   "source": [
    "from shapkit.plots import plot_shapley\n",
    "\n",
    "# Affichage des résultats\n",
    "for i in range(0, 10):\n",
    "    true_shap, query_instance, reference = s2.results[i]\n",
    "    fig = plot_shapley(x=query_instance, fc=s2.fc, ref=reference, shapley_values=true_shap, n_attributes=24)"
   ]
  },
  {
   "cell_type": "markdown",
   "metadata": {},
   "source": [
    "## Mitigation des données via pre-traitements"
   ]
  },
  {
   "cell_type": "markdown",
   "metadata": {},
   "source": [
    "### I- Managment des Données avec AIF360"
   ]
  },
  {
   "cell_type": "markdown",
   "metadata": {},
   "source": [
    "### II- "
   ]
  },
  {
   "cell_type": "markdown",
   "metadata": {},
   "source": []
  }
 ],
 "metadata": {
  "kernelspec": {
   "display_name": "Python 3",
   "language": "python",
   "name": "python3"
  },
  "language_info": {
   "codemirror_mode": {
    "name": "ipython",
    "version": 3
   },
   "file_extension": ".py",
   "mimetype": "text/x-python",
   "name": "python",
   "nbconvert_exporter": "python",
   "pygments_lexer": "ipython3",
   "version": "3.11.8"
  }
 },
 "nbformat": 4,
 "nbformat_minor": 2
}
