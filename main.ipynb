{
 "cells": [
  {
   "cell_type": "markdown",
   "metadata": {},
   "source": [
    "# Fichier principal"
   ]
  },
  {
   "cell_type": "markdown",
   "metadata": {},
   "source": [
    "Dans ce notebook, nous utilisons le jeu de donnée des accidents de la route. <br>\n",
    "Tout d'abord en ananlysant les données brutes.<br>\n",
    "Puis en les transformant en un modèle à l'aide d'une **forêt aléatoire** utilisant un seuil de prédiction modifié.<br>\n",
    "Pour finir, nous analysons ce modèle."
   ]
  },
  {
   "cell_type": "markdown",
   "metadata": {},
   "source": [
    "On souhaite prédire si un véhicule donné est impliqué dans un accident **mortel** ou non."
   ]
  },
  {
   "cell_type": "code",
   "execution_count": null,
   "metadata": {},
   "outputs": [],
   "source": [
    "%load_ext autoreload\n",
    "%autoreload 2\n",
    "import pandas as pd\n",
    "import numpy as np\n",
    "import plotly.express as px\n",
    "import matplotlib.pyplot as plt\n",
    "from utils import *\n",
    "\n",
    "import pickle\n",
    "import dice_ml\n",
    "\n",
    "from sklearn.pipeline import Pipeline\n",
    "from sklearn.preprocessing import StandardScaler, OneHotEncoder\n",
    "from sklearn.compose import ColumnTransformer\n",
    "from sklearn import preprocessing\n",
    "\n",
    "from dataset_prepare import load_dataset, pred_thres, test_train_sets"
   ]
  },
  {
   "cell_type": "markdown",
   "metadata": {},
   "source": [
    "## Préparation du dataframe\n",
    "Les attributs présents dans la base de données ne sont pas tous utiles et certains doivent être transformer avant d'être utilisé."
   ]
  },
  {
   "cell_type": "markdown",
   "metadata": {},
   "source": [
    "Pour simplifier le code, les fonction qui uniformisent les types vers ceux souhaités ont été plcées dans **utils.py**"
   ]
  },
  {
   "cell_type": "code",
   "execution_count": null,
   "metadata": {},
   "outputs": [],
   "source": [
    "df_2 = load_dataset()\n",
    "label = 'mortal'\n",
    "df_2"
   ]
  },
  {
   "cell_type": "markdown",
   "metadata": {},
   "source": [
    "Tri manuel des valeurs catégorielles/numériques"
   ]
  },
  {
   "cell_type": "code",
   "execution_count": null,
   "metadata": {},
   "outputs": [],
   "source": [
    "for column in df_2.columns:\n",
    "  if df_2[column].isnull().values.any() == True:\n",
    "    print(column, df_2[column].isnull().values.any()) # afficher s'il y a des valeurs nulles"
   ]
  },
  {
   "cell_type": "code",
   "execution_count": null,
   "metadata": {},
   "outputs": [],
   "source": [
    "# valeurs catégorielles\n",
    "categorical_features = ['trajet', 'catr', 'circ', 'nbv', 'prof',\n",
    "                        'plan', 'surf', 'vma', 'lum', 'agg', \n",
    "                        'int', 'atm', 'col', 'catv', 'obs', 'obsm', 'choc', 'pieton',\n",
    "                        'sexe_conducteur', 'infra', 'situ']\n",
    "# valeurs numériques\n",
    "numerical_features = ['dep', 'mois', 'age']\n",
    "\n",
    "print(\"numerical : \", numerical_features)\n",
    "print(\"categorical : \", categorical_features)"
   ]
  },
  {
   "cell_type": "markdown",
   "metadata": {},
   "source": [
    "## Analyse de données\n",
    "**Attention** conserver les sorties alourdit grandement le notebook, **clear all outputs** avant d'enregistrer est à privilégier."
   ]
  },
  {
   "cell_type": "markdown",
   "metadata": {},
   "source": [
    "### Analyse univariée"
   ]
  },
  {
   "cell_type": "code",
   "execution_count": null,
   "metadata": {},
   "outputs": [],
   "source": [
    "val = [len(df_2[df_2.mortal == 1]), len(df_2[df_2.mortal == 0])]\n",
    "labels = ['Accident mortel', 'Accident non mortel']\n",
    "px.pie(values=val, names=labels)"
   ]
  },
  {
   "cell_type": "code",
   "execution_count": null,
   "metadata": {},
   "outputs": [],
   "source": [
    "val = [len(df_2[df_2.pieton == 1]), len(df_2[df_2.pieton == 0])]\n",
    "labels = ['Implique piéton', 'N\\'implique pas de piéton']\n",
    "px.pie(values=val, names=labels)"
   ]
  },
  {
   "cell_type": "code",
   "execution_count": null,
   "metadata": {},
   "outputs": [],
   "source": [
    "fig = px.histogram(df_2['catv'].replace({0:\"Autre\", 1:\"Bicyclette\", 2:\"Cyclomoteur\", 3:\"Voiture\", 4:\"Utilitaire\", 5:\"Moto\"}), x=\"catv\")\n",
    "fig.show()\n",
    "\n",
    "fig = px.box(df_2, x=\"age\")\n",
    "fig.show()\n",
    "\n",
    "fig = px.histogram(df_2, x=\"age\")\n",
    "fig.show()\n",
    "\n",
    "fig = px.histogram(df_2['sexe_conducteur'].replace({1:\"Homme\", 0:\"Femme\"}), x=\"sexe_conducteur\")\n",
    "fig.show()\n",
    "\n",
    "fig = px.histogram(df_2['catr'].replace({1:\"Autoroute\", 2:\"Route nationale\", 3:\"Route départementale\", 4:\"Voie communale\", 5: \"Autre\"}) , x=\"catr\")\n",
    "fig.show()\n",
    "\n",
    "fig = px.histogram(df_2['col'].replace(\n",
    "    {-1:\"Non renseigné\", \n",
    "     1:\"Deux véhicules - Fontale\", \n",
    "     2:\"Deux véhicules - par l'arrière\", \n",
    "     3:\"Deux véhicules - par le côté\", \n",
    "     4:\"Trois véhicules et plus en chaine\", \n",
    "     5:\"Trois véhicules et plus collisions multiples\",\n",
    "     6:\"Autre collision\", \n",
    "     7: \"Pas de collision\"}), x=\"col\")\n",
    "fig.show()\n",
    "\n",
    "fig = px.histogram(df_2['obs'].replace({0:\"Pas d'obstacle\", 1:\"Obstacle\"}), x='obs')\n",
    "fig.show()"
   ]
  },
  {
   "cell_type": "markdown",
   "metadata": {},
   "source": [
    "### Analyse bivariée"
   ]
  },
  {
   "cell_type": "code",
   "execution_count": null,
   "metadata": {},
   "outputs": [],
   "source": [
    "features = ['age', 'mois', 'catr', 'mortal', 'sexe_conducteur', 'col']\n",
    "\n",
    "for exp in features:\n",
    "    print(exp)\n",
    "    analyse_bi_quali_quanti(\"catv\", exp, df_2)"
   ]
  },
  {
   "cell_type": "code",
   "execution_count": null,
   "metadata": {},
   "outputs": [],
   "source": [
    "features = ['age', 'mois', 'catr', 'mortal', 'col']\n",
    "\n",
    "for exp in features:\n",
    "    print(exp)\n",
    "    analyse_bi_quali_quanti(\"vma\", exp, df_2)"
   ]
  },
  {
   "cell_type": "code",
   "execution_count": null,
   "metadata": {},
   "outputs": [],
   "source": [
    "features = ['age', 'vma', 'mois', 'catr', 'mortal']\n",
    "\n",
    "for exp in features:\n",
    "    print(exp)\n",
    "    analyse_bi_quali_quanti(\"col\", exp, df_2)"
   ]
  },
  {
   "cell_type": "code",
   "execution_count": null,
   "metadata": {},
   "outputs": [],
   "source": [
    "features = ['age', 'vma', 'mois', 'catr', 'mortal']\n",
    "\n",
    "interet = \"pieton\"\n",
    "\n",
    "for exp in categorical_features:\n",
    "    if exp==interet:\n",
    "        continue\n",
    "    print(exp)\n",
    "    analyse_bi_quali_quali(interet, exp, df_2, numerical_features)"
   ]
  },
  {
   "cell_type": "code",
   "execution_count": null,
   "metadata": {},
   "outputs": [],
   "source": [
    "interet = \"agg\"\n",
    "\n",
    "for exp in categorical_features:\n",
    "    if exp==interet:\n",
    "        continue\n",
    "    print(exp)\n",
    "    analyse_bi_quali_quali(interet, exp, df_2, numerical_features)"
   ]
  },
  {
   "cell_type": "code",
   "execution_count": null,
   "metadata": {},
   "outputs": [],
   "source": [
    "interet = \"sexe_conducteur\"\n",
    "\n",
    "for exp in categorical_features:\n",
    "    if exp==interet:\n",
    "        continue\n",
    "    print(exp)\n",
    "    analyse_bi_quali_quali(interet, exp, df_2, numerical_features)"
   ]
  },
  {
   "cell_type": "markdown",
   "metadata": {},
   "source": [
    "## Apprentissage avec un arbre de décision"
   ]
  },
  {
   "cell_type": "code",
   "execution_count": null,
   "metadata": {},
   "outputs": [],
   "source": [
    "# Récupération des ensembles de train/test\n",
    "X_train, X_test, y_train, y_test = test_train_sets(df_2)\n",
    "df_2 = df_2.drop(columns='Num_Acc')"
   ]
  },
  {
   "cell_type": "code",
   "execution_count": null,
   "metadata": {},
   "outputs": [],
   "source": [
    "from utils import custom_RFC\n",
    "\n",
    "clf = pickle.load(open('models/rfc_reweight_model.sav', 'rb'))\n",
    "preds = clf.predict(X_test)\n",
    "clf.score(X_train, y_train), clf.score(X_test, y_test)"
   ]
  },
  {
   "cell_type": "markdown",
   "metadata": {},
   "source": [
    "### Afficher la matrice de confusion"
   ]
  },
  {
   "cell_type": "code",
   "execution_count": null,
   "metadata": {},
   "outputs": [],
   "source": [
    "from sklearn.metrics import confusion_matrix\n",
    "tn, fp, fn, tp = confusion_matrix(y_test, preds).ravel()\n",
    "tn, fp, fn, tp"
   ]
  },
  {
   "cell_type": "code",
   "execution_count": null,
   "metadata": {},
   "outputs": [],
   "source": [
    "import plotly.express as px\n",
    "\n",
    "fig = px.imshow([[tn, fp], [fn, tp]], text_auto=True, labels=dict(y=\"Truth\", x=\"Pred\"),\n",
    "                x=[\"False\", \"True\"],\n",
    "                y=[\"False\", \"True\"]\n",
    "               )\n",
    "fig.show()"
   ]
  },
  {
   "cell_type": "markdown",
   "metadata": {},
   "source": [
    "### Les métriques \"Base rate\""
   ]
  },
  {
   "cell_type": "code",
   "execution_count": null,
   "metadata": {},
   "outputs": [],
   "source": [
    "encoders = {cat_col:preprocessing.LabelEncoder() for cat_col in categorical_features}\n",
    "\n",
    "for cat_col in categorical_features:\n",
    "  df_2[cat_col] = encoders[cat_col].fit_transform(df_2[cat_col])\n",
    "  print(cat_col)\n",
    "  for idx in sorted(df_2[cat_col].unique()):\n",
    "    print(idx, encoders[cat_col].inverse_transform([idx]))"
   ]
  },
  {
   "cell_type": "code",
   "execution_count": null,
   "metadata": {},
   "outputs": [],
   "source": [
    "def compute_stat(preds, sensitive, value=None, not_value=None):\n",
    "    if value is not None:\n",
    "      preds_sel = preds[sensitive == value]\n",
    "    elif not_value is not None:\n",
    "      preds_sel = preds[sensitive != not_value]\n",
    "    else:\n",
    "      print(\"one of 'value' and 'not value' must be set\")\n",
    "      return None, None, None, None\n",
    "    card = len(preds_sel)\n",
    "    card_pos = len(preds_sel[preds_sel == 1])\n",
    "    card_neg = len(preds_sel[preds_sel == 0])\n",
    "    return card, card_pos, card_neg, preds_sel\n",
    "\n",
    "\n",
    "def compute_baserate(preds, sensitive=X_test[\"sexe_conducteur\"], value=0):\n",
    "\n",
    "    n_F, n_F_pos, n_F_neg, preds_F = compute_stat(preds=preds, sensitive=sensitive, value=value)\n",
    "    n_M, n_M_pos, n_M_neg, preds_M = compute_stat(preds=preds, sensitive=sensitive, not_value=value)\n",
    "\n",
    "    DI = n_F_pos/n_F*n_M/n_M_pos\n",
    "    p_DI = np.min([DI, 1/DI])\n",
    "    DP = n_F_pos/n_F - n_M_pos/n_M\n",
    "\n",
    "    ret = {}\n",
    "    ret[\"disparate_impact\"] = DI\n",
    "    ret[\"P_rule_disparate_impact\"] = p_DI\n",
    "    ret[\"demography_parity\"] = DP\n",
    "\n",
    "    return ret"
   ]
  },
  {
   "cell_type": "code",
   "execution_count": null,
   "metadata": {},
   "outputs": [],
   "source": [
    "preds = clf.predict(X_test)\n",
    "for att,unpriv in zip(['sexe_conducteur', 'pieton'],[0, 1]):\n",
    "  value = encoders[att].transform([unpriv])[0]\n",
    "  base_rate_pred = compute_baserate(preds, sensitive=X_test[att], value=value)\n",
    "  base_rate_label = compute_baserate(y_test, sensitive=X_test[att], value=value)\n",
    "  print(att, unpriv)\n",
    "  for k,v in base_rate_pred.items():\n",
    "    print(k, v, base_rate_label[k])"
   ]
  },
  {
   "cell_type": "markdown",
   "metadata": {},
   "source": [
    "### Le taux d'erreur dans pour les attributs sensibles"
   ]
  },
  {
   "cell_type": "markdown",
   "metadata": {},
   "source": [
    "P(Y^=1| (Y=1, Z=0)) <br> P(Y^=1| (Y=0, Z=0)) <br> P(Y^=1| (Y=1, Z=1)) <br> P(Y^=1| (Y=0, Z=1))"
   ]
  },
  {
   "cell_type": "code",
   "execution_count": null,
   "metadata": {},
   "outputs": [],
   "source": [
    "def sensible_error_rate (X, desired_output, group, target, label):\n",
    "   cardGlob1 = len(X[(X[label]==1) & (X[target] == group)])\n",
    "   cardGlob2 = len(X[(X[label]==0) & (X[target] == group)])\n",
    "   cardGlob3 = len(X[(X[label]==1) & (X[target] == np.absolute(group-1))])\n",
    "   cardGlob4 = len(X[(X[label]==0) & (X[target] == np.absolute(group-1))])\n",
    "   cardPred1 = len(X[(X['pred']==desired_output) & (X[label]==1) & (X[target] == group)])\n",
    "   cardPred2 = len(X[(X['pred']==desired_output) & (X[label]==0) & (X[target] == group)])\n",
    "   cardPred3 = len(X[(X['pred']==desired_output) & (X[label]==1) & (X[target] == np.absolute(group-1))])\n",
    "   cardPred4 = len(X[(X['pred']==desired_output) & (X[label]==0) & (X[target] == np.absolute(group-1))])\n",
    "\n",
    "   return cardPred1/cardGlob1, cardPred2/cardGlob2, cardPred3/cardGlob3, cardPred4/cardGlob4"
   ]
  },
  {
   "cell_type": "code",
   "execution_count": null,
   "metadata": {},
   "outputs": [],
   "source": [
    "target = 'sexe_conducteur'\n",
    "X_error_rate_1 = pd.DataFrame()\n",
    "X_error_rate_1[target] = X_test[target]\n",
    "X_error_rate_1[label] = y_test\n",
    "X_error_rate_1['pred'] = preds\n",
    "result = sensible_error_rate (X_error_rate_1, 1, 0, target, label)\n",
    "print(\"Les femmes conductrices impliquées dans un accident mortel : {0} \\nLes femmes conductrices impliquées dans un accident non mortel : {1} \\nLes hommes conducteurs impliquées dans un accident mortel : {2} \\nLes hommes conducteurs impliquées dans un accident non mortel : {3} \\n\".format(result[0], result[1], result[2], result[3]))"
   ]
  },
  {
   "cell_type": "code",
   "execution_count": null,
   "metadata": {},
   "outputs": [],
   "source": [
    "target = 'pieton'\n",
    "X_error_rate_1 = pd.DataFrame()\n",
    "X_error_rate_1[target] = X_test[target]\n",
    "X_error_rate_1[label] = y_test\n",
    "X_error_rate_1['pred'] = preds\n",
    "print(sensible_error_rate (X_error_rate_1, 1, 0, target, label))"
   ]
  },
  {
   "cell_type": "markdown",
   "metadata": {},
   "source": [
    "## Audit du modèle"
   ]
  },
  {
   "cell_type": "code",
   "execution_count": null,
   "metadata": {},
   "outputs": [],
   "source": [
    "import pickle\n",
    "\n",
    "data_test = X_test.copy(deep=True)\n",
    "data_test[\"Y\"] = y_test\n",
    "\n",
    "data_test.to_csv(\"test_data.csv\",\n",
    "          index=False)\n",
    "\n",
    "data_train = X_train.copy(deep=True)\n",
    "data_train[\"Y\"] = y_train\n",
    "\n",
    "data_train.to_csv(\"train_data.csv\",\n",
    "          index=False)\n",
    "\n",
    "with open( 'clf.pickle', 'wb' ) as f:\n",
    "    pickle.dump(clf, f )"
   ]
  },
  {
   "cell_type": "markdown",
   "metadata": {},
   "source": [
    "### Trouver des contrefactuels avec Dice"
   ]
  },
  {
   "cell_type": "code",
   "execution_count": null,
   "metadata": {},
   "outputs": [],
   "source": [
    "train_dataset = X_train.copy(deep=True)\n",
    "train_dataset[label] = y_train\n",
    "\n",
    "d = dice_ml.Data(dataframe=train_dataset, continuous_features=numerical_features, outcome_name=label)\n",
    "\n",
    "m = dice_ml.Model(model=clf, backend=\"sklearn\")\n",
    "\n",
    "exp = dice_ml.Dice(d, m, method=\"random\")"
   ]
  },
  {
   "cell_type": "code",
   "execution_count": null,
   "metadata": {},
   "outputs": [],
   "source": [
    "# valeurs prédites vraies\n",
    "p = []\n",
    "predict = clf.predict(X_test)\n",
    "for i in range(0, len(predict)):\n",
    "    if predict[i] == 1.:\n",
    "        p.append(i)"
   ]
  },
  {
   "cell_type": "code",
   "execution_count": null,
   "metadata": {},
   "outputs": [],
   "source": [
    "for i in range(0, 5):\n",
    "    r = random.randint(0, 100)\n",
    "    e1 = exp.generate_counterfactuals(X_test[p[i]:p[i]+1], total_CFs=10, desired_class=\"opposite\")\n",
    "    e1.visualize_as_dataframe(show_only_changes=True)\n",
    "    pd.set_option(\"display.max_rows\", None, \"display.max_columns\", None)\n",
    "    imp = exp.local_feature_importance(X_test[p[i]:p[i]+1], cf_examples_list=e1.cf_examples_list)\n",
    "    print(imp.local_importance)"
   ]
  },
  {
   "cell_type": "markdown",
   "metadata": {},
   "source": [
    "### BlackBoxAuditing"
   ]
  },
  {
   "cell_type": "code",
   "execution_count": null,
   "metadata": {},
   "outputs": [],
   "source": [
    "from BlackBoxAuditing.data import load_from_file\n",
    "from BlackBoxAuditing.model_factories.AbstractModelFactory import AbstractModelFactory\n",
    "from BlackBoxAuditing.model_factories.AbstractModelVisitor import AbstractModelVisitor\n",
    "\n",
    "import BlackBoxAuditing as BBA\n",
    "\n",
    "\n",
    "(_, train_BBA, _, _, _, _) = load_from_file(\"train_data.csv\",\n",
    "                      correct_types = np.repeat([int], [len(data_test.columns)]),\n",
    "                                response_header = 'Y',\n",
    "                               train_percentage = 1.0)\n",
    "(headers, _, test_BBA, response_header, features_to_ignore, correct_types) = load_from_file(\"test_data.csv\",\n",
    "                      correct_types = np.repeat([int], [len(data_test.columns)]),\n",
    "                                response_header = 'Y',\n",
    "                               train_percentage = 0.0)\n",
    "BBA_data = (headers, train_BBA, test_BBA, response_header, features_to_ignore, correct_types)"
   ]
  },
  {
   "cell_type": "code",
   "execution_count": null,
   "metadata": {},
   "outputs": [],
   "source": [
    "class HirePredictorBuilder(AbstractModelFactory):\n",
    "    def __init__(self, *args, **kwargs):\n",
    "        AbstractModelFactory.__init__(self, *args, **kwargs)\n",
    "        self.verbose_factory_name = \"HirePredictor\"\n",
    "    def build(self, train_set):\n",
    "        return HirePredictor()\n",
    "\n",
    "class HirePredictor(AbstractModelVisitor):\n",
    "    def __init__(self):\n",
    "        with open( 'clf.pickle', 'rb' ) as f:\n",
    "            self.clf = pickle.load(f)\n",
    "\n",
    "    def test(self, test_set, test_name=\"\"):\n",
    "        df_test = pd.DataFrame(\n",
    "            test_set, columns =data_test.columns.to_list())\n",
    "        targets = df_test['Y']\n",
    "        preds = self.clf.predict(df_test.drop('Y', axis=1))\n",
    "        return [[a,b] for (a,b) in zip(targets, preds)]"
   ]
  },
  {
   "cell_type": "code",
   "execution_count": null,
   "metadata": {},
   "outputs": [],
   "source": [
    "auditor = BBA.Auditor()\n",
    "auditor.ModelFactory = HirePredictorBuilder\n",
    "auditor(BBA_data, output_dir = \"audit-output\")"
   ]
  },
  {
   "cell_type": "markdown",
   "metadata": {},
   "source": [
    "## Interprétation du modèle\n",
    "\n",
    "### Interprétation avec ShapKit\n",
    "\n",
    "Création d'une fonction dans `utils` qui va paralléliser les calculs des valeurs de shapley.\n",
    "On va regarder les contributions dans le cas où les prédictions sont 1 et dans les cas où les prédictions sont 0 "
   ]
  },
  {
   "cell_type": "code",
   "execution_count": null,
   "metadata": {},
   "outputs": [],
   "source": [
    "# t prend les entrées qui donne une sortie 1\n",
    "# t2 prend le reste\n",
    "t = []\n",
    "t2 = []\n",
    "for i in range(0, len(preds)):\n",
    "    if preds[i] == 1:\n",
    "        t.append(i)\n",
    "    else:\n",
    "        t2.append(i)"
   ]
  },
  {
   "cell_type": "code",
   "execution_count": null,
   "metadata": {},
   "outputs": [],
   "source": [
    "# Calcul de shap en parallèle pour 10 valeurs\n",
    "# Ici pour les sorties données 1\n",
    "s = parallel_shap(data_test, X_train, clf, t, n_iter=10)\n",
    "s2 = parallel_shap(data_test, X_train, clf, t2, n_iter=10)"
   ]
  },
  {
   "cell_type": "code",
   "execution_count": null,
   "metadata": {},
   "outputs": [],
   "source": [
    "s.start_shap()\n",
    "s2.start_shap()"
   ]
  },
  {
   "cell_type": "code",
   "execution_count": null,
   "metadata": {},
   "outputs": [],
   "source": [
    "# Si intérruption du processus\n",
    "s.stop_shap()"
   ]
  },
  {
   "cell_type": "code",
   "execution_count": null,
   "metadata": {},
   "outputs": [],
   "source": [
    "from shapkit.plots import plot_shapley\n",
    "\n",
    "# Affichage des résultats\n",
    "for i in range(0, 10):\n",
    "    true_shap, query_instance, reference = s.results[i]\n",
    "    fig = plot_shapley(x=query_instance, fc=s.fc, ref=reference, shapley_values=true_shap, n_attributes=24)"
   ]
  },
  {
   "cell_type": "code",
   "execution_count": null,
   "metadata": {},
   "outputs": [],
   "source": [
    "from shapkit.plots import plot_shapley\n",
    "\n",
    "# Affichage des résultats\n",
    "for i in range(0, 10):\n",
    "    true_shap, query_instance, reference = s2.results[i]\n",
    "    fig = plot_shapley(x=query_instance, fc=s2.fc, ref=reference, shapley_values=true_shap, n_attributes=24)"
   ]
  },
  {
   "cell_type": "markdown",
   "metadata": {},
   "source": [
    "## Mitigation des données via pre-traitements"
   ]
  },
  {
   "cell_type": "markdown",
   "metadata": {},
   "source": [
    "### I- Managment des Données avec AIF360"
   ]
  },
  {
   "cell_type": "markdown",
   "metadata": {},
   "source": [
    "### II- "
   ]
  },
  {
   "cell_type": "markdown",
   "metadata": {},
   "source": []
  }
 ],
 "metadata": {
  "kernelspec": {
   "display_name": "Python 3",
   "language": "python",
   "name": "python3"
  },
  "language_info": {
   "codemirror_mode": {
    "name": "ipython",
    "version": 3
   },
   "file_extension": ".py",
   "mimetype": "text/x-python",
   "name": "python",
   "nbconvert_exporter": "python",
   "pygments_lexer": "ipython3",
   "version": "3.11.6"
  }
 },
 "nbformat": 4,
 "nbformat_minor": 2
}
