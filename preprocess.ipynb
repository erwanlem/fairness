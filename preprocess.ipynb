{
 "cells": [
  {
   "cell_type": "code",
   "execution_count": 1,
   "metadata": {},
   "outputs": [
    {
     "name": "stderr",
     "output_type": "stream",
     "text": [
      "2024-04-03 14:13:42.854225: I tensorflow/core/util/port.cc:113] oneDNN custom operations are on. You may see slightly different numerical results due to floating-point round-off errors from different computation orders. To turn them off, set the environment variable `TF_ENABLE_ONEDNN_OPTS=0`.\n",
      "2024-04-03 14:13:42.910945: E external/local_xla/xla/stream_executor/cuda/cuda_dnn.cc:9261] Unable to register cuDNN factory: Attempting to register factory for plugin cuDNN when one has already been registered\n",
      "2024-04-03 14:13:42.910989: E external/local_xla/xla/stream_executor/cuda/cuda_fft.cc:607] Unable to register cuFFT factory: Attempting to register factory for plugin cuFFT when one has already been registered\n",
      "2024-04-03 14:13:42.912271: E external/local_xla/xla/stream_executor/cuda/cuda_blas.cc:1515] Unable to register cuBLAS factory: Attempting to register factory for plugin cuBLAS when one has already been registered\n",
      "2024-04-03 14:13:42.924095: I tensorflow/core/platform/cpu_feature_guard.cc:182] This TensorFlow binary is optimized to use available CPU instructions in performance-critical operations.\n",
      "To enable the following instructions: AVX2 AVX_VNNI FMA, in other operations, rebuild TensorFlow with the appropriate compiler flags.\n",
      "2024-04-03 14:13:44.065741: W tensorflow/compiler/tf2tensorrt/utils/py_utils.cc:38] TF-TRT Warning: Could not find TensorRT\n",
      "/home/erwan/.local/lib/python3.10/site-packages/torch/_functorch/deprecated.py:61: UserWarning: We've integrated functorch into PyTorch. As the final step of the integration, functorch.vmap is deprecated as of PyTorch 2.0 and will be deleted in a future version of PyTorch >= 2.3. Please use torch.vmap instead; see the PyTorch 2.0 release notes and/or the torch.func migration guide for more details https://pytorch.org/docs/master/func.migrating.html\n",
      "  warn_deprecated('vmap', 'torch.vmap')\n"
     ]
    }
   ],
   "source": [
    "%load_ext autoreload\n",
    "%autoreload 2\n",
    "\n",
    "from dataset_prepare import *\n",
    "from utils import custom_RFC\n",
    "import pickle\n",
    "\n",
    "from matplotlib import pyplot as plt\n",
    "\n",
    "from aif360.metrics import BinaryLabelDatasetMetric\n",
    "from aif360.datasets.standard_dataset import StandardDataset\n",
    "from aif360.algorithms.preprocessing import Reweighing, DisparateImpactRemover\n",
    "from aif360.algorithms.preprocessing.lfr import LFR\n",
    "from aif360.metrics import ClassificationMetric\n",
    "from sklearn.metrics import classification_report\n",
    "from aif360.algorithms.preprocessing.optim_preproc import OptimPreproc\n",
    "from aif360.algorithms.preprocessing.optim_preproc_helpers.opt_tools import OptTools\n",
    "\n",
    "from IPython.display import Markdown, display\n",
    "\n",
    "from sklearn.pipeline import Pipeline\n",
    "from sklearn.preprocessing import StandardScaler, OneHotEncoder, OrdinalEncoder\n",
    "from sklearn.compose import ColumnTransformer\n",
    "\n",
    "from tqdm import tqdm\n",
    "import imblearn\n",
    "\n",
    "from dataset_prepare import prepare_standard_dataset"
   ]
  },
  {
   "cell_type": "code",
   "execution_count": 2,
   "metadata": {},
   "outputs": [
    {
     "data": {
      "text/html": [
       "<div>\n",
       "<style scoped>\n",
       "    .dataframe tbody tr th:only-of-type {\n",
       "        vertical-align: middle;\n",
       "    }\n",
       "\n",
       "    .dataframe tbody tr th {\n",
       "        vertical-align: top;\n",
       "    }\n",
       "\n",
       "    .dataframe thead th {\n",
       "        text-align: right;\n",
       "    }\n",
       "</style>\n",
       "<table border=\"1\" class=\"dataframe\">\n",
       "  <thead>\n",
       "    <tr style=\"text-align: right;\">\n",
       "      <th></th>\n",
       "      <th>Num_Acc</th>\n",
       "      <th>trajet</th>\n",
       "      <th>catr</th>\n",
       "      <th>circ</th>\n",
       "      <th>nbv</th>\n",
       "      <th>prof</th>\n",
       "      <th>plan</th>\n",
       "      <th>surf</th>\n",
       "      <th>infra</th>\n",
       "      <th>situ</th>\n",
       "      <th>...</th>\n",
       "      <th>atm</th>\n",
       "      <th>col</th>\n",
       "      <th>catv</th>\n",
       "      <th>obs</th>\n",
       "      <th>obsm</th>\n",
       "      <th>choc</th>\n",
       "      <th>mortal</th>\n",
       "      <th>pieton</th>\n",
       "      <th>sexe_conducteur</th>\n",
       "      <th>age</th>\n",
       "    </tr>\n",
       "  </thead>\n",
       "  <tbody>\n",
       "    <tr>\n",
       "      <th>0</th>\n",
       "      <td>202200000001</td>\n",
       "      <td>5</td>\n",
       "      <td>4</td>\n",
       "      <td>2</td>\n",
       "      <td>2</td>\n",
       "      <td>1</td>\n",
       "      <td>1</td>\n",
       "      <td>1</td>\n",
       "      <td>0</td>\n",
       "      <td>1</td>\n",
       "      <td>...</td>\n",
       "      <td>1</td>\n",
       "      <td>3</td>\n",
       "      <td>2</td>\n",
       "      <td>0</td>\n",
       "      <td>2</td>\n",
       "      <td>1</td>\n",
       "      <td>0</td>\n",
       "      <td>0</td>\n",
       "      <td>1</td>\n",
       "      <td>14</td>\n",
       "    </tr>\n",
       "    <tr>\n",
       "      <th>1</th>\n",
       "      <td>202200000001</td>\n",
       "      <td>5</td>\n",
       "      <td>4</td>\n",
       "      <td>2</td>\n",
       "      <td>2</td>\n",
       "      <td>1</td>\n",
       "      <td>1</td>\n",
       "      <td>1</td>\n",
       "      <td>0</td>\n",
       "      <td>1</td>\n",
       "      <td>...</td>\n",
       "      <td>1</td>\n",
       "      <td>3</td>\n",
       "      <td>2</td>\n",
       "      <td>0</td>\n",
       "      <td>2</td>\n",
       "      <td>1</td>\n",
       "      <td>0</td>\n",
       "      <td>0</td>\n",
       "      <td>1</td>\n",
       "      <td>74</td>\n",
       "    </tr>\n",
       "    <tr>\n",
       "      <th>2</th>\n",
       "      <td>202200000002</td>\n",
       "      <td>0</td>\n",
       "      <td>4</td>\n",
       "      <td>2</td>\n",
       "      <td>2</td>\n",
       "      <td>1</td>\n",
       "      <td>1</td>\n",
       "      <td>1</td>\n",
       "      <td>0</td>\n",
       "      <td>1</td>\n",
       "      <td>...</td>\n",
       "      <td>1</td>\n",
       "      <td>3</td>\n",
       "      <td>3</td>\n",
       "      <td>0</td>\n",
       "      <td>2</td>\n",
       "      <td>8</td>\n",
       "      <td>0</td>\n",
       "      <td>0</td>\n",
       "      <td>1</td>\n",
       "      <td>34</td>\n",
       "    </tr>\n",
       "    <tr>\n",
       "      <th>3</th>\n",
       "      <td>202200000002</td>\n",
       "      <td>4</td>\n",
       "      <td>4</td>\n",
       "      <td>2</td>\n",
       "      <td>2</td>\n",
       "      <td>1</td>\n",
       "      <td>1</td>\n",
       "      <td>1</td>\n",
       "      <td>0</td>\n",
       "      <td>1</td>\n",
       "      <td>...</td>\n",
       "      <td>1</td>\n",
       "      <td>3</td>\n",
       "      <td>3</td>\n",
       "      <td>0</td>\n",
       "      <td>2</td>\n",
       "      <td>8</td>\n",
       "      <td>0</td>\n",
       "      <td>0</td>\n",
       "      <td>1</td>\n",
       "      <td>52</td>\n",
       "    </tr>\n",
       "    <tr>\n",
       "      <th>4</th>\n",
       "      <td>202200000003</td>\n",
       "      <td>0</td>\n",
       "      <td>3</td>\n",
       "      <td>-1</td>\n",
       "      <td>2</td>\n",
       "      <td>1</td>\n",
       "      <td>1</td>\n",
       "      <td>1</td>\n",
       "      <td>5</td>\n",
       "      <td>1</td>\n",
       "      <td>...</td>\n",
       "      <td>1</td>\n",
       "      <td>2</td>\n",
       "      <td>3</td>\n",
       "      <td>0</td>\n",
       "      <td>2</td>\n",
       "      <td>1</td>\n",
       "      <td>0</td>\n",
       "      <td>0</td>\n",
       "      <td>1</td>\n",
       "      <td>20</td>\n",
       "    </tr>\n",
       "    <tr>\n",
       "      <th>...</th>\n",
       "      <td>...</td>\n",
       "      <td>...</td>\n",
       "      <td>...</td>\n",
       "      <td>...</td>\n",
       "      <td>...</td>\n",
       "      <td>...</td>\n",
       "      <td>...</td>\n",
       "      <td>...</td>\n",
       "      <td>...</td>\n",
       "      <td>...</td>\n",
       "      <td>...</td>\n",
       "      <td>...</td>\n",
       "      <td>...</td>\n",
       "      <td>...</td>\n",
       "      <td>...</td>\n",
       "      <td>...</td>\n",
       "      <td>...</td>\n",
       "      <td>...</td>\n",
       "      <td>...</td>\n",
       "      <td>...</td>\n",
       "      <td>...</td>\n",
       "    </tr>\n",
       "    <tr>\n",
       "      <th>126656</th>\n",
       "      <td>202200055300</td>\n",
       "      <td>5</td>\n",
       "      <td>3</td>\n",
       "      <td>2</td>\n",
       "      <td>2</td>\n",
       "      <td>1</td>\n",
       "      <td>2</td>\n",
       "      <td>7</td>\n",
       "      <td>0</td>\n",
       "      <td>3</td>\n",
       "      <td>...</td>\n",
       "      <td>9</td>\n",
       "      <td>6</td>\n",
       "      <td>3</td>\n",
       "      <td>1</td>\n",
       "      <td>0</td>\n",
       "      <td>1</td>\n",
       "      <td>1</td>\n",
       "      <td>0</td>\n",
       "      <td>1</td>\n",
       "      <td>27</td>\n",
       "    </tr>\n",
       "    <tr>\n",
       "      <th>126657</th>\n",
       "      <td>202200055301</td>\n",
       "      <td>5</td>\n",
       "      <td>3</td>\n",
       "      <td>2</td>\n",
       "      <td>2</td>\n",
       "      <td>1</td>\n",
       "      <td>1</td>\n",
       "      <td>1</td>\n",
       "      <td>0</td>\n",
       "      <td>1</td>\n",
       "      <td>...</td>\n",
       "      <td>1</td>\n",
       "      <td>3</td>\n",
       "      <td>3</td>\n",
       "      <td>0</td>\n",
       "      <td>0</td>\n",
       "      <td>8</td>\n",
       "      <td>0</td>\n",
       "      <td>0</td>\n",
       "      <td>0</td>\n",
       "      <td>20</td>\n",
       "    </tr>\n",
       "    <tr>\n",
       "      <th>126659</th>\n",
       "      <td>202200055301</td>\n",
       "      <td>5</td>\n",
       "      <td>3</td>\n",
       "      <td>2</td>\n",
       "      <td>2</td>\n",
       "      <td>1</td>\n",
       "      <td>1</td>\n",
       "      <td>1</td>\n",
       "      <td>0</td>\n",
       "      <td>1</td>\n",
       "      <td>...</td>\n",
       "      <td>1</td>\n",
       "      <td>3</td>\n",
       "      <td>3</td>\n",
       "      <td>0</td>\n",
       "      <td>0</td>\n",
       "      <td>8</td>\n",
       "      <td>0</td>\n",
       "      <td>0</td>\n",
       "      <td>0</td>\n",
       "      <td>69</td>\n",
       "    </tr>\n",
       "    <tr>\n",
       "      <th>126660</th>\n",
       "      <td>202200055302</td>\n",
       "      <td>1</td>\n",
       "      <td>3</td>\n",
       "      <td>3</td>\n",
       "      <td>4</td>\n",
       "      <td>1</td>\n",
       "      <td>1</td>\n",
       "      <td>1</td>\n",
       "      <td>0</td>\n",
       "      <td>1</td>\n",
       "      <td>...</td>\n",
       "      <td>1</td>\n",
       "      <td>2</td>\n",
       "      <td>5</td>\n",
       "      <td>0</td>\n",
       "      <td>2</td>\n",
       "      <td>1</td>\n",
       "      <td>0</td>\n",
       "      <td>0</td>\n",
       "      <td>1</td>\n",
       "      <td>30</td>\n",
       "    </tr>\n",
       "    <tr>\n",
       "      <th>126661</th>\n",
       "      <td>202200055302</td>\n",
       "      <td>0</td>\n",
       "      <td>3</td>\n",
       "      <td>3</td>\n",
       "      <td>4</td>\n",
       "      <td>1</td>\n",
       "      <td>1</td>\n",
       "      <td>1</td>\n",
       "      <td>0</td>\n",
       "      <td>1</td>\n",
       "      <td>...</td>\n",
       "      <td>1</td>\n",
       "      <td>2</td>\n",
       "      <td>5</td>\n",
       "      <td>0</td>\n",
       "      <td>2</td>\n",
       "      <td>1</td>\n",
       "      <td>0</td>\n",
       "      <td>0</td>\n",
       "      <td>1</td>\n",
       "      <td>22</td>\n",
       "    </tr>\n",
       "  </tbody>\n",
       "</table>\n",
       "<p>92614 rows × 26 columns</p>\n",
       "</div>"
      ],
      "text/plain": [
       "             Num_Acc  trajet  catr  circ  nbv  prof  plan  surf  infra  situ  \\\n",
       "0       202200000001       5     4     2    2     1     1     1      0     1   \n",
       "1       202200000001       5     4     2    2     1     1     1      0     1   \n",
       "2       202200000002       0     4     2    2     1     1     1      0     1   \n",
       "3       202200000002       4     4     2    2     1     1     1      0     1   \n",
       "4       202200000003       0     3    -1    2     1     1     1      5     1   \n",
       "...              ...     ...   ...   ...  ...   ...   ...   ...    ...   ...   \n",
       "126656  202200055300       5     3     2    2     1     2     7      0     3   \n",
       "126657  202200055301       5     3     2    2     1     1     1      0     1   \n",
       "126659  202200055301       5     3     2    2     1     1     1      0     1   \n",
       "126660  202200055302       1     3     3    4     1     1     1      0     1   \n",
       "126661  202200055302       0     3     3    4     1     1     1      0     1   \n",
       "\n",
       "        ...  atm  col  catv  obs  obsm  choc  mortal  pieton  sexe_conducteur  \\\n",
       "0       ...    1    3     2    0     2     1       0       0                1   \n",
       "1       ...    1    3     2    0     2     1       0       0                1   \n",
       "2       ...    1    3     3    0     2     8       0       0                1   \n",
       "3       ...    1    3     3    0     2     8       0       0                1   \n",
       "4       ...    1    2     3    0     2     1       0       0                1   \n",
       "...     ...  ...  ...   ...  ...   ...   ...     ...     ...              ...   \n",
       "126656  ...    9    6     3    1     0     1       1       0                1   \n",
       "126657  ...    1    3     3    0     0     8       0       0                0   \n",
       "126659  ...    1    3     3    0     0     8       0       0                0   \n",
       "126660  ...    1    2     5    0     2     1       0       0                1   \n",
       "126661  ...    1    2     5    0     2     1       0       0                1   \n",
       "\n",
       "        age  \n",
       "0        14  \n",
       "1        74  \n",
       "2        34  \n",
       "3        52  \n",
       "4        20  \n",
       "...     ...  \n",
       "126656   27  \n",
       "126657   20  \n",
       "126659   69  \n",
       "126660   30  \n",
       "126661   22  \n",
       "\n",
       "[92614 rows x 26 columns]"
      ]
     },
     "execution_count": 2,
     "metadata": {},
     "output_type": "execute_result"
    }
   ],
   "source": [
    "df = load_dataset()\n",
    "df"
   ]
  },
  {
   "cell_type": "code",
   "execution_count": 3,
   "metadata": {},
   "outputs": [],
   "source": [
    "label = 'mortal'\n",
    "\n",
    "# Récupération des ensembles de train/test\n",
    "X_train, X_test, y_train, y_test = test_train_sets(df)\n",
    "df = df.drop(columns='Num_Acc')"
   ]
  },
  {
   "cell_type": "code",
   "execution_count": 4,
   "metadata": {},
   "outputs": [],
   "source": [
    "dataset_orig_train, dataset_orig_test = prepare_standard_dataset(X_train, y_train, X_test, y_test, label)"
   ]
  },
  {
   "cell_type": "code",
   "execution_count": 5,
   "metadata": {},
   "outputs": [
    {
     "data": {
      "text/markdown": [
       "#### Training Dataset shape"
      ],
      "text/plain": [
       "<IPython.core.display.Markdown object>"
      ]
     },
     "metadata": {},
     "output_type": "display_data"
    },
    {
     "name": "stdout",
     "output_type": "stream",
     "text": [
      "(117678, 24)\n"
     ]
    },
    {
     "data": {
      "text/markdown": [
       "#### Favorable and unfavorable labels"
      ],
      "text/plain": [
       "<IPython.core.display.Markdown object>"
      ]
     },
     "metadata": {},
     "output_type": "display_data"
    },
    {
     "name": "stdout",
     "output_type": "stream",
     "text": [
      "1.0 0.0\n"
     ]
    },
    {
     "data": {
      "text/markdown": [
       "#### Protected attribute names"
      ],
      "text/plain": [
       "<IPython.core.display.Markdown object>"
      ]
     },
     "metadata": {},
     "output_type": "display_data"
    },
    {
     "name": "stdout",
     "output_type": "stream",
     "text": [
      "['sexe_conducteur']\n"
     ]
    },
    {
     "data": {
      "text/markdown": [
       "#### Privileged and unprivileged protected attribute values"
      ],
      "text/plain": [
       "<IPython.core.display.Markdown object>"
      ]
     },
     "metadata": {},
     "output_type": "display_data"
    },
    {
     "name": "stdout",
     "output_type": "stream",
     "text": [
      "[array([1.])] [array([0.])]\n"
     ]
    },
    {
     "data": {
      "text/markdown": [
       "#### Dataset feature names"
      ],
      "text/plain": [
       "<IPython.core.display.Markdown object>"
      ]
     },
     "metadata": {},
     "output_type": "display_data"
    },
    {
     "name": "stdout",
     "output_type": "stream",
     "text": [
      "['trajet', 'catr', 'circ', 'nbv', 'prof', 'plan', 'surf', 'infra', 'situ', 'vma', 'mois', 'lum', 'dep', 'agg', 'int', 'atm', 'col', 'catv', 'obs', 'obsm', 'choc', 'pieton', 'sexe_conducteur', 'age']\n"
     ]
    }
   ],
   "source": [
    "# print out some labels, names, etc.\n",
    "display(Markdown(\"#### Training Dataset shape\"))\n",
    "print(dataset_orig_train.features.shape)\n",
    "display(Markdown(\"#### Favorable and unfavorable labels\"))\n",
    "print(dataset_orig_train.favorable_label, dataset_orig_train.unfavorable_label)\n",
    "display(Markdown(\"#### Protected attribute names\"))\n",
    "print(dataset_orig_train.protected_attribute_names)\n",
    "display(Markdown(\"#### Privileged and unprivileged protected attribute values\"))\n",
    "print(dataset_orig_train.privileged_protected_attributes, \n",
    "      dataset_orig_train.unprivileged_protected_attributes)\n",
    "display(Markdown(\"#### Dataset feature names\"))\n",
    "print(dataset_orig_train.feature_names)"
   ]
  },
  {
   "cell_type": "code",
   "execution_count": 6,
   "metadata": {},
   "outputs": [],
   "source": [
    "privileged_groups=[{'sexe_conducteur': 1}]\n",
    "unprivileged_groups = [{'sexe_conducteur' : 0}]"
   ]
  },
  {
   "cell_type": "markdown",
   "metadata": {},
   "source": [
    "## Repondération\n",
    "Utilisation de l'outil de repondération de `aif360` et affichage du résultat obtenu."
   ]
  },
  {
   "cell_type": "code",
   "execution_count": 14,
   "metadata": {},
   "outputs": [
    {
     "data": {
      "text/markdown": [
       "#### Original training dataset"
      ],
      "text/plain": [
       "<IPython.core.display.Markdown object>"
      ]
     },
     "metadata": {},
     "output_type": "display_data"
    },
    {
     "name": "stdout",
     "output_type": "stream",
     "text": [
      "Difference in mean outcomes between unprivileged and privileged groups = 0.080457\n"
     ]
    }
   ],
   "source": [
    "# Metric for the original dataset\n",
    "metric_orig_train = BinaryLabelDatasetMetric(dataset_orig_train, \n",
    "                                             unprivileged_groups=unprivileged_groups,\n",
    "                                             privileged_groups=privileged_groups)\n",
    "display(Markdown(\"#### Original training dataset\"))\n",
    "print(\"Difference in mean outcomes between unprivileged and privileged groups = %f\" % metric_orig_train.mean_difference())"
   ]
  },
  {
   "cell_type": "code",
   "execution_count": 15,
   "metadata": {},
   "outputs": [],
   "source": [
    "# 0 -> Femme et 1 -> Homme\n",
    "RW = Reweighing(privileged_groups=privileged_groups, unprivileged_groups=unprivileged_groups)\n",
    "RW.fit(dataset_orig_train)\n",
    "dataset_transf_train = RW.transform(dataset_orig_train)"
   ]
  },
  {
   "cell_type": "code",
   "execution_count": 16,
   "metadata": {},
   "outputs": [
    {
     "data": {
      "text/markdown": [
       "#### Transformed training dataset"
      ],
      "text/plain": [
       "<IPython.core.display.Markdown object>"
      ]
     },
     "metadata": {},
     "output_type": "display_data"
    },
    {
     "name": "stdout",
     "output_type": "stream",
     "text": [
      "Difference in mean outcomes between unprivileged and privileged groups = 0.000000\n"
     ]
    }
   ],
   "source": [
    "metric_transf_train = BinaryLabelDatasetMetric(dataset_transf_train, \n",
    "                                         unprivileged_groups=unprivileged_groups,\n",
    "                                         privileged_groups=privileged_groups)\n",
    "display(Markdown(\"#### Transformed training dataset\"))\n",
    "print(\"Difference in mean outcomes between unprivileged and privileged groups = %f\" % metric_transf_train.mean_difference())"
   ]
  },
  {
   "cell_type": "code",
   "execution_count": 17,
   "metadata": {},
   "outputs": [
    {
     "name": "stdout",
     "output_type": "stream",
     "text": [
      "numerical :  ['dep', 'age', 'mois']\n",
      "categorical :  ['trajet', 'catr', 'circ', 'nbv', 'prof', 'plan', 'surf', 'vma', 'lum', 'agg', 'int', 'atm', 'col', 'catv', 'obs', 'obsm', 'choc', 'pieton', 'sexe_conducteur', 'infra', 'situ']\n"
     ]
    }
   ],
   "source": [
    "# valeurs catégorielles\n",
    "categorical_features = ['trajet', 'catr', 'circ', 'nbv', 'prof',\n",
    "                        'plan', 'surf', 'vma', 'lum', 'agg', \n",
    "                        'int', 'atm', 'col', 'catv', 'obs', 'obsm', 'choc', 'pieton',\n",
    "                        'sexe_conducteur', 'infra', 'situ']\n",
    "# valeurs numériques\n",
    "numerical_features = ['dep','age', 'mois']\n",
    "\n",
    "print(\"numerical : \", numerical_features)\n",
    "print(\"categorical : \", categorical_features)"
   ]
  },
  {
   "cell_type": "code",
   "execution_count": 18,
   "metadata": {},
   "outputs": [],
   "source": [
    "numeric_transformer = Pipeline(steps=[\n",
    "    ('scaler', StandardScaler())])\n",
    "\n",
    "categorical_transformer = Pipeline(steps=[\n",
    "    ('onehot', OneHotEncoder(handle_unknown='ignore'))])\n",
    "\n",
    "transformations = ColumnTransformer(\n",
    "    transformers=[\n",
    "        ('num', numeric_transformer, numerical_features),\n",
    "        ('cat', categorical_transformer, categorical_features)])"
   ]
  },
  {
   "cell_type": "code",
   "execution_count": 20,
   "metadata": {},
   "outputs": [],
   "source": [
    "X_train = dataset_transf_train.convert_to_dataframe()[0]\n",
    "y_train = dataset_transf_train.convert_to_dataframe()[0]['mortal']"
   ]
  },
  {
   "cell_type": "code",
   "execution_count": 21,
   "metadata": {},
   "outputs": [
    {
     "data": {
      "text/plain": [
       "(0.9891398562178148, 0.7555738243998684)"
      ]
     },
     "execution_count": 21,
     "metadata": {},
     "output_type": "execute_result"
    }
   ],
   "source": [
    "from utils import custom_RFC\n",
    "import imblearn\n",
    "\n",
    "dt = custom_RFC(random_state=42)\n",
    "clf = imblearn.pipeline.Pipeline(\n",
    "    [\n",
    "        ('preprocessor', transformations),\n",
    "        (\"resample\", imblearn.over_sampling.SMOTE(random_state=42)),\n",
    "        ('classifier', dt)\n",
    "    ])\n",
    "clf = clf.fit(X_train, y_train, classifier__sample_weight=dataset_orig_train.instance_weights)\n",
    "\n",
    "preds = clf.predict(X_test)\n",
    "\n",
    "clf.score(X_train, y_train), clf.score(X_test, y_test)"
   ]
  },
  {
   "cell_type": "code",
   "execution_count": 22,
   "metadata": {},
   "outputs": [],
   "source": [
    "pickle.dump(clf, open('models/rfc_reweight_model.sav', 'wb'))"
   ]
  },
  {
   "cell_type": "code",
   "execution_count": 184,
   "metadata": {},
   "outputs": [
    {
     "data": {
      "text/plain": [
       "(21968, 6749, 684, 1009)"
      ]
     },
     "execution_count": 184,
     "metadata": {},
     "output_type": "execute_result"
    }
   ],
   "source": [
    "from sklearn.metrics import confusion_matrix\n",
    "tn, fp, fn, tp = confusion_matrix(y_test, preds).ravel()\n",
    "tn, fp, fn, tp"
   ]
  },
  {
   "cell_type": "code",
   "execution_count": 185,
   "metadata": {},
   "outputs": [
    {
     "data": {
      "application/vnd.plotly.v1+json": {
       "config": {
        "plotlyServerURL": "https://plot.ly"
       },
       "data": [
        {
         "coloraxis": "coloraxis",
         "hovertemplate": "Pred: %{x}<br>Truth: %{y}<br>color: %{z}<extra></extra>",
         "name": "0",
         "texttemplate": "%{z}",
         "type": "heatmap",
         "x": [
          "False",
          "True"
         ],
         "xaxis": "x",
         "y": [
          "False",
          "True"
         ],
         "yaxis": "y",
         "z": [
          [
           21968,
           6749
          ],
          [
           684,
           1009
          ]
         ]
        }
       ],
       "layout": {
        "coloraxis": {
         "colorscale": [
          [
           0,
           "#0d0887"
          ],
          [
           0.1111111111111111,
           "#46039f"
          ],
          [
           0.2222222222222222,
           "#7201a8"
          ],
          [
           0.3333333333333333,
           "#9c179e"
          ],
          [
           0.4444444444444444,
           "#bd3786"
          ],
          [
           0.5555555555555556,
           "#d8576b"
          ],
          [
           0.6666666666666666,
           "#ed7953"
          ],
          [
           0.7777777777777778,
           "#fb9f3a"
          ],
          [
           0.8888888888888888,
           "#fdca26"
          ],
          [
           1,
           "#f0f921"
          ]
         ]
        },
        "margin": {
         "t": 60
        },
        "template": {
         "data": {
          "bar": [
           {
            "error_x": {
             "color": "#2a3f5f"
            },
            "error_y": {
             "color": "#2a3f5f"
            },
            "marker": {
             "line": {
              "color": "#E5ECF6",
              "width": 0.5
             },
             "pattern": {
              "fillmode": "overlay",
              "size": 10,
              "solidity": 0.2
             }
            },
            "type": "bar"
           }
          ],
          "barpolar": [
           {
            "marker": {
             "line": {
              "color": "#E5ECF6",
              "width": 0.5
             },
             "pattern": {
              "fillmode": "overlay",
              "size": 10,
              "solidity": 0.2
             }
            },
            "type": "barpolar"
           }
          ],
          "carpet": [
           {
            "aaxis": {
             "endlinecolor": "#2a3f5f",
             "gridcolor": "white",
             "linecolor": "white",
             "minorgridcolor": "white",
             "startlinecolor": "#2a3f5f"
            },
            "baxis": {
             "endlinecolor": "#2a3f5f",
             "gridcolor": "white",
             "linecolor": "white",
             "minorgridcolor": "white",
             "startlinecolor": "#2a3f5f"
            },
            "type": "carpet"
           }
          ],
          "choropleth": [
           {
            "colorbar": {
             "outlinewidth": 0,
             "ticks": ""
            },
            "type": "choropleth"
           }
          ],
          "contour": [
           {
            "colorbar": {
             "outlinewidth": 0,
             "ticks": ""
            },
            "colorscale": [
             [
              0,
              "#0d0887"
             ],
             [
              0.1111111111111111,
              "#46039f"
             ],
             [
              0.2222222222222222,
              "#7201a8"
             ],
             [
              0.3333333333333333,
              "#9c179e"
             ],
             [
              0.4444444444444444,
              "#bd3786"
             ],
             [
              0.5555555555555556,
              "#d8576b"
             ],
             [
              0.6666666666666666,
              "#ed7953"
             ],
             [
              0.7777777777777778,
              "#fb9f3a"
             ],
             [
              0.8888888888888888,
              "#fdca26"
             ],
             [
              1,
              "#f0f921"
             ]
            ],
            "type": "contour"
           }
          ],
          "contourcarpet": [
           {
            "colorbar": {
             "outlinewidth": 0,
             "ticks": ""
            },
            "type": "contourcarpet"
           }
          ],
          "heatmap": [
           {
            "colorbar": {
             "outlinewidth": 0,
             "ticks": ""
            },
            "colorscale": [
             [
              0,
              "#0d0887"
             ],
             [
              0.1111111111111111,
              "#46039f"
             ],
             [
              0.2222222222222222,
              "#7201a8"
             ],
             [
              0.3333333333333333,
              "#9c179e"
             ],
             [
              0.4444444444444444,
              "#bd3786"
             ],
             [
              0.5555555555555556,
              "#d8576b"
             ],
             [
              0.6666666666666666,
              "#ed7953"
             ],
             [
              0.7777777777777778,
              "#fb9f3a"
             ],
             [
              0.8888888888888888,
              "#fdca26"
             ],
             [
              1,
              "#f0f921"
             ]
            ],
            "type": "heatmap"
           }
          ],
          "heatmapgl": [
           {
            "colorbar": {
             "outlinewidth": 0,
             "ticks": ""
            },
            "colorscale": [
             [
              0,
              "#0d0887"
             ],
             [
              0.1111111111111111,
              "#46039f"
             ],
             [
              0.2222222222222222,
              "#7201a8"
             ],
             [
              0.3333333333333333,
              "#9c179e"
             ],
             [
              0.4444444444444444,
              "#bd3786"
             ],
             [
              0.5555555555555556,
              "#d8576b"
             ],
             [
              0.6666666666666666,
              "#ed7953"
             ],
             [
              0.7777777777777778,
              "#fb9f3a"
             ],
             [
              0.8888888888888888,
              "#fdca26"
             ],
             [
              1,
              "#f0f921"
             ]
            ],
            "type": "heatmapgl"
           }
          ],
          "histogram": [
           {
            "marker": {
             "pattern": {
              "fillmode": "overlay",
              "size": 10,
              "solidity": 0.2
             }
            },
            "type": "histogram"
           }
          ],
          "histogram2d": [
           {
            "colorbar": {
             "outlinewidth": 0,
             "ticks": ""
            },
            "colorscale": [
             [
              0,
              "#0d0887"
             ],
             [
              0.1111111111111111,
              "#46039f"
             ],
             [
              0.2222222222222222,
              "#7201a8"
             ],
             [
              0.3333333333333333,
              "#9c179e"
             ],
             [
              0.4444444444444444,
              "#bd3786"
             ],
             [
              0.5555555555555556,
              "#d8576b"
             ],
             [
              0.6666666666666666,
              "#ed7953"
             ],
             [
              0.7777777777777778,
              "#fb9f3a"
             ],
             [
              0.8888888888888888,
              "#fdca26"
             ],
             [
              1,
              "#f0f921"
             ]
            ],
            "type": "histogram2d"
           }
          ],
          "histogram2dcontour": [
           {
            "colorbar": {
             "outlinewidth": 0,
             "ticks": ""
            },
            "colorscale": [
             [
              0,
              "#0d0887"
             ],
             [
              0.1111111111111111,
              "#46039f"
             ],
             [
              0.2222222222222222,
              "#7201a8"
             ],
             [
              0.3333333333333333,
              "#9c179e"
             ],
             [
              0.4444444444444444,
              "#bd3786"
             ],
             [
              0.5555555555555556,
              "#d8576b"
             ],
             [
              0.6666666666666666,
              "#ed7953"
             ],
             [
              0.7777777777777778,
              "#fb9f3a"
             ],
             [
              0.8888888888888888,
              "#fdca26"
             ],
             [
              1,
              "#f0f921"
             ]
            ],
            "type": "histogram2dcontour"
           }
          ],
          "mesh3d": [
           {
            "colorbar": {
             "outlinewidth": 0,
             "ticks": ""
            },
            "type": "mesh3d"
           }
          ],
          "parcoords": [
           {
            "line": {
             "colorbar": {
              "outlinewidth": 0,
              "ticks": ""
             }
            },
            "type": "parcoords"
           }
          ],
          "pie": [
           {
            "automargin": true,
            "type": "pie"
           }
          ],
          "scatter": [
           {
            "fillpattern": {
             "fillmode": "overlay",
             "size": 10,
             "solidity": 0.2
            },
            "type": "scatter"
           }
          ],
          "scatter3d": [
           {
            "line": {
             "colorbar": {
              "outlinewidth": 0,
              "ticks": ""
             }
            },
            "marker": {
             "colorbar": {
              "outlinewidth": 0,
              "ticks": ""
             }
            },
            "type": "scatter3d"
           }
          ],
          "scattercarpet": [
           {
            "marker": {
             "colorbar": {
              "outlinewidth": 0,
              "ticks": ""
             }
            },
            "type": "scattercarpet"
           }
          ],
          "scattergeo": [
           {
            "marker": {
             "colorbar": {
              "outlinewidth": 0,
              "ticks": ""
             }
            },
            "type": "scattergeo"
           }
          ],
          "scattergl": [
           {
            "marker": {
             "colorbar": {
              "outlinewidth": 0,
              "ticks": ""
             }
            },
            "type": "scattergl"
           }
          ],
          "scattermapbox": [
           {
            "marker": {
             "colorbar": {
              "outlinewidth": 0,
              "ticks": ""
             }
            },
            "type": "scattermapbox"
           }
          ],
          "scatterpolar": [
           {
            "marker": {
             "colorbar": {
              "outlinewidth": 0,
              "ticks": ""
             }
            },
            "type": "scatterpolar"
           }
          ],
          "scatterpolargl": [
           {
            "marker": {
             "colorbar": {
              "outlinewidth": 0,
              "ticks": ""
             }
            },
            "type": "scatterpolargl"
           }
          ],
          "scatterternary": [
           {
            "marker": {
             "colorbar": {
              "outlinewidth": 0,
              "ticks": ""
             }
            },
            "type": "scatterternary"
           }
          ],
          "surface": [
           {
            "colorbar": {
             "outlinewidth": 0,
             "ticks": ""
            },
            "colorscale": [
             [
              0,
              "#0d0887"
             ],
             [
              0.1111111111111111,
              "#46039f"
             ],
             [
              0.2222222222222222,
              "#7201a8"
             ],
             [
              0.3333333333333333,
              "#9c179e"
             ],
             [
              0.4444444444444444,
              "#bd3786"
             ],
             [
              0.5555555555555556,
              "#d8576b"
             ],
             [
              0.6666666666666666,
              "#ed7953"
             ],
             [
              0.7777777777777778,
              "#fb9f3a"
             ],
             [
              0.8888888888888888,
              "#fdca26"
             ],
             [
              1,
              "#f0f921"
             ]
            ],
            "type": "surface"
           }
          ],
          "table": [
           {
            "cells": {
             "fill": {
              "color": "#EBF0F8"
             },
             "line": {
              "color": "white"
             }
            },
            "header": {
             "fill": {
              "color": "#C8D4E3"
             },
             "line": {
              "color": "white"
             }
            },
            "type": "table"
           }
          ]
         },
         "layout": {
          "annotationdefaults": {
           "arrowcolor": "#2a3f5f",
           "arrowhead": 0,
           "arrowwidth": 1
          },
          "autotypenumbers": "strict",
          "coloraxis": {
           "colorbar": {
            "outlinewidth": 0,
            "ticks": ""
           }
          },
          "colorscale": {
           "diverging": [
            [
             0,
             "#8e0152"
            ],
            [
             0.1,
             "#c51b7d"
            ],
            [
             0.2,
             "#de77ae"
            ],
            [
             0.3,
             "#f1b6da"
            ],
            [
             0.4,
             "#fde0ef"
            ],
            [
             0.5,
             "#f7f7f7"
            ],
            [
             0.6,
             "#e6f5d0"
            ],
            [
             0.7,
             "#b8e186"
            ],
            [
             0.8,
             "#7fbc41"
            ],
            [
             0.9,
             "#4d9221"
            ],
            [
             1,
             "#276419"
            ]
           ],
           "sequential": [
            [
             0,
             "#0d0887"
            ],
            [
             0.1111111111111111,
             "#46039f"
            ],
            [
             0.2222222222222222,
             "#7201a8"
            ],
            [
             0.3333333333333333,
             "#9c179e"
            ],
            [
             0.4444444444444444,
             "#bd3786"
            ],
            [
             0.5555555555555556,
             "#d8576b"
            ],
            [
             0.6666666666666666,
             "#ed7953"
            ],
            [
             0.7777777777777778,
             "#fb9f3a"
            ],
            [
             0.8888888888888888,
             "#fdca26"
            ],
            [
             1,
             "#f0f921"
            ]
           ],
           "sequentialminus": [
            [
             0,
             "#0d0887"
            ],
            [
             0.1111111111111111,
             "#46039f"
            ],
            [
             0.2222222222222222,
             "#7201a8"
            ],
            [
             0.3333333333333333,
             "#9c179e"
            ],
            [
             0.4444444444444444,
             "#bd3786"
            ],
            [
             0.5555555555555556,
             "#d8576b"
            ],
            [
             0.6666666666666666,
             "#ed7953"
            ],
            [
             0.7777777777777778,
             "#fb9f3a"
            ],
            [
             0.8888888888888888,
             "#fdca26"
            ],
            [
             1,
             "#f0f921"
            ]
           ]
          },
          "colorway": [
           "#636efa",
           "#EF553B",
           "#00cc96",
           "#ab63fa",
           "#FFA15A",
           "#19d3f3",
           "#FF6692",
           "#B6E880",
           "#FF97FF",
           "#FECB52"
          ],
          "font": {
           "color": "#2a3f5f"
          },
          "geo": {
           "bgcolor": "white",
           "lakecolor": "white",
           "landcolor": "#E5ECF6",
           "showlakes": true,
           "showland": true,
           "subunitcolor": "white"
          },
          "hoverlabel": {
           "align": "left"
          },
          "hovermode": "closest",
          "mapbox": {
           "style": "light"
          },
          "paper_bgcolor": "white",
          "plot_bgcolor": "#E5ECF6",
          "polar": {
           "angularaxis": {
            "gridcolor": "white",
            "linecolor": "white",
            "ticks": ""
           },
           "bgcolor": "#E5ECF6",
           "radialaxis": {
            "gridcolor": "white",
            "linecolor": "white",
            "ticks": ""
           }
          },
          "scene": {
           "xaxis": {
            "backgroundcolor": "#E5ECF6",
            "gridcolor": "white",
            "gridwidth": 2,
            "linecolor": "white",
            "showbackground": true,
            "ticks": "",
            "zerolinecolor": "white"
           },
           "yaxis": {
            "backgroundcolor": "#E5ECF6",
            "gridcolor": "white",
            "gridwidth": 2,
            "linecolor": "white",
            "showbackground": true,
            "ticks": "",
            "zerolinecolor": "white"
           },
           "zaxis": {
            "backgroundcolor": "#E5ECF6",
            "gridcolor": "white",
            "gridwidth": 2,
            "linecolor": "white",
            "showbackground": true,
            "ticks": "",
            "zerolinecolor": "white"
           }
          },
          "shapedefaults": {
           "line": {
            "color": "#2a3f5f"
           }
          },
          "ternary": {
           "aaxis": {
            "gridcolor": "white",
            "linecolor": "white",
            "ticks": ""
           },
           "baxis": {
            "gridcolor": "white",
            "linecolor": "white",
            "ticks": ""
           },
           "bgcolor": "#E5ECF6",
           "caxis": {
            "gridcolor": "white",
            "linecolor": "white",
            "ticks": ""
           }
          },
          "title": {
           "x": 0.05
          },
          "xaxis": {
           "automargin": true,
           "gridcolor": "white",
           "linecolor": "white",
           "ticks": "",
           "title": {
            "standoff": 15
           },
           "zerolinecolor": "white",
           "zerolinewidth": 2
          },
          "yaxis": {
           "automargin": true,
           "gridcolor": "white",
           "linecolor": "white",
           "ticks": "",
           "title": {
            "standoff": 15
           },
           "zerolinecolor": "white",
           "zerolinewidth": 2
          }
         }
        },
        "xaxis": {
         "anchor": "y",
         "constrain": "domain",
         "domain": [
          0,
          1
         ],
         "scaleanchor": "y",
         "title": {
          "text": "Pred"
         }
        },
        "yaxis": {
         "anchor": "x",
         "autorange": "reversed",
         "constrain": "domain",
         "domain": [
          0,
          1
         ],
         "title": {
          "text": "Truth"
         }
        }
       }
      }
     },
     "metadata": {},
     "output_type": "display_data"
    }
   ],
   "source": [
    "import plotly.express as px\n",
    "\n",
    "fig = px.imshow([[tn, fp], [fn, tp]], text_auto=True, labels=dict(y=\"Truth\", x=\"Pred\"),\n",
    "                x=[\"False\", \"True\"],\n",
    "                y=[\"False\", \"True\"]\n",
    "               )\n",
    "fig.show()"
   ]
  },
  {
   "cell_type": "markdown",
   "metadata": {},
   "source": [
    "## Disparate impact remover\n",
    "Utilisation de l'outil de `Disparate impact remover` de `aif360` et affichage du résultat obtenu."
   ]
  },
  {
   "cell_type": "code",
   "execution_count": 53,
   "metadata": {},
   "outputs": [],
   "source": [
    "label = 'mortal'\n",
    "\n",
    "df = load_dataset()\n",
    "# Récupération des ensembles de train/test\n",
    "X_train, X_test, y_train, y_test = test_train_sets(df)"
   ]
  },
  {
   "cell_type": "code",
   "execution_count": 54,
   "metadata": {},
   "outputs": [],
   "source": [
    "dataset_orig_train, dataset_orig_valid, dataset_orig_test = prepare_standard_dataset(X_train, y_train, X_test, y_test, label)"
   ]
  },
  {
   "cell_type": "code",
   "execution_count": 57,
   "metadata": {},
   "outputs": [
    {
     "name": "stderr",
     "output_type": "stream",
     "text": [
      "  0%|          | 0/11 [00:00<?, ?it/s]"
     ]
    },
    {
     "name": "stderr",
     "output_type": "stream",
     "text": [
      "100%|██████████| 11/11 [05:50<00:00, 31.82s/it]\n"
     ]
    }
   ],
   "source": [
    "protected = 'sexe_conducteur'\n",
    "\n",
    "index = dataset_orig_train.feature_names.index(protected)\n",
    "\n",
    "DIs = []\n",
    "for level in tqdm(np.linspace(0., 1., 11)):\n",
    "    di = DisparateImpactRemover(repair_level=level)\n",
    "    train_repd = di.fit_transform(dataset_orig_train)\n",
    "    test_repd = di.fit_transform(dataset_orig_test)\n",
    "\n",
    "    X_tr = np.delete(train_repd.features, index, axis=1)\n",
    "    X_te = np.delete(test_repd.features, index, axis=1)\n",
    "    \n",
    "    y_tr = train_repd.labels.ravel()\n",
    "    \n",
    "    dt = custom_RFC(random_state=42)\n",
    "    dt.fit(X_tr, y_tr)\n",
    "    \n",
    "    test_repd_pred = test_repd.copy()\n",
    "    test_repd_pred.labels = dt.predict(X_te)\n",
    "\n",
    "    p = [{protected: 1}]\n",
    "    u = [{protected: 0}]\n",
    "    cm = BinaryLabelDatasetMetric(test_repd_pred, privileged_groups=p, unprivileged_groups=u)\n",
    "    DIs.append(cm.disparate_impact())"
   ]
  },
  {
   "cell_type": "code",
   "execution_count": 64,
   "metadata": {},
   "outputs": [
    {
     "data": {
      "application/javascript": "/* Put everything inside the global mpl namespace */\n/* global mpl */\nwindow.mpl = {};\n\nmpl.get_websocket_type = function () {\n    if (typeof WebSocket !== 'undefined') {\n        return WebSocket;\n    } else if (typeof MozWebSocket !== 'undefined') {\n        return MozWebSocket;\n    } else {\n        alert(\n            'Your browser does not have WebSocket support. ' +\n                'Please try Chrome, Safari or Firefox ≥ 6. ' +\n                'Firefox 4 and 5 are also supported but you ' +\n                'have to enable WebSockets in about:config.'\n        );\n    }\n};\n\nmpl.figure = function (figure_id, websocket, ondownload, parent_element) {\n    this.id = figure_id;\n\n    this.ws = websocket;\n\n    this.supports_binary = this.ws.binaryType !== undefined;\n\n    if (!this.supports_binary) {\n        var warnings = document.getElementById('mpl-warnings');\n        if (warnings) {\n            warnings.style.display = 'block';\n            warnings.textContent =\n                'This browser does not support binary websocket messages. ' +\n                'Performance may be slow.';\n        }\n    }\n\n    this.imageObj = new Image();\n\n    this.context = undefined;\n    this.message = undefined;\n    this.canvas = undefined;\n    this.rubberband_canvas = undefined;\n    this.rubberband_context = undefined;\n    this.format_dropdown = undefined;\n\n    this.image_mode = 'full';\n\n    this.root = document.createElement('div');\n    this.root.setAttribute('style', 'display: inline-block');\n    this._root_extra_style(this.root);\n\n    parent_element.appendChild(this.root);\n\n    this._init_header(this);\n    this._init_canvas(this);\n    this._init_toolbar(this);\n\n    var fig = this;\n\n    this.waiting = false;\n\n    this.ws.onopen = function () {\n        fig.send_message('supports_binary', { value: fig.supports_binary });\n        fig.send_message('send_image_mode', {});\n        if (fig.ratio !== 1) {\n            fig.send_message('set_device_pixel_ratio', {\n                device_pixel_ratio: fig.ratio,\n            });\n        }\n        fig.send_message('refresh', {});\n    };\n\n    this.imageObj.onload = function () {\n        if (fig.image_mode === 'full') {\n            // Full images could contain transparency (where diff images\n            // almost always do), so we need to clear the canvas so that\n            // there is no ghosting.\n            fig.context.clearRect(0, 0, fig.canvas.width, fig.canvas.height);\n        }\n        fig.context.drawImage(fig.imageObj, 0, 0);\n    };\n\n    this.imageObj.onunload = function () {\n        fig.ws.close();\n    };\n\n    this.ws.onmessage = this._make_on_message_function(this);\n\n    this.ondownload = ondownload;\n};\n\nmpl.figure.prototype._init_header = function () {\n    var titlebar = document.createElement('div');\n    titlebar.classList =\n        'ui-dialog-titlebar ui-widget-header ui-corner-all ui-helper-clearfix';\n    var titletext = document.createElement('div');\n    titletext.classList = 'ui-dialog-title';\n    titletext.setAttribute(\n        'style',\n        'width: 100%; text-align: center; padding: 3px;'\n    );\n    titlebar.appendChild(titletext);\n    this.root.appendChild(titlebar);\n    this.header = titletext;\n};\n\nmpl.figure.prototype._canvas_extra_style = function (_canvas_div) {};\n\nmpl.figure.prototype._root_extra_style = function (_canvas_div) {};\n\nmpl.figure.prototype._init_canvas = function () {\n    var fig = this;\n\n    var canvas_div = (this.canvas_div = document.createElement('div'));\n    canvas_div.setAttribute('tabindex', '0');\n    canvas_div.setAttribute(\n        'style',\n        'border: 1px solid #ddd;' +\n            'box-sizing: content-box;' +\n            'clear: both;' +\n            'min-height: 1px;' +\n            'min-width: 1px;' +\n            'outline: 0;' +\n            'overflow: hidden;' +\n            'position: relative;' +\n            'resize: both;' +\n            'z-index: 2;'\n    );\n\n    function on_keyboard_event_closure(name) {\n        return function (event) {\n            return fig.key_event(event, name);\n        };\n    }\n\n    canvas_div.addEventListener(\n        'keydown',\n        on_keyboard_event_closure('key_press')\n    );\n    canvas_div.addEventListener(\n        'keyup',\n        on_keyboard_event_closure('key_release')\n    );\n\n    this._canvas_extra_style(canvas_div);\n    this.root.appendChild(canvas_div);\n\n    var canvas = (this.canvas = document.createElement('canvas'));\n    canvas.classList.add('mpl-canvas');\n    canvas.setAttribute(\n        'style',\n        'box-sizing: content-box;' +\n            'pointer-events: none;' +\n            'position: relative;' +\n            'z-index: 0;'\n    );\n\n    this.context = canvas.getContext('2d');\n\n    var backingStore =\n        this.context.backingStorePixelRatio ||\n        this.context.webkitBackingStorePixelRatio ||\n        this.context.mozBackingStorePixelRatio ||\n        this.context.msBackingStorePixelRatio ||\n        this.context.oBackingStorePixelRatio ||\n        this.context.backingStorePixelRatio ||\n        1;\n\n    this.ratio = (window.devicePixelRatio || 1) / backingStore;\n\n    var rubberband_canvas = (this.rubberband_canvas = document.createElement(\n        'canvas'\n    ));\n    rubberband_canvas.setAttribute(\n        'style',\n        'box-sizing: content-box;' +\n            'left: 0;' +\n            'pointer-events: none;' +\n            'position: absolute;' +\n            'top: 0;' +\n            'z-index: 1;'\n    );\n\n    // Apply a ponyfill if ResizeObserver is not implemented by browser.\n    if (this.ResizeObserver === undefined) {\n        if (window.ResizeObserver !== undefined) {\n            this.ResizeObserver = window.ResizeObserver;\n        } else {\n            var obs = _JSXTOOLS_RESIZE_OBSERVER({});\n            this.ResizeObserver = obs.ResizeObserver;\n        }\n    }\n\n    this.resizeObserverInstance = new this.ResizeObserver(function (entries) {\n        var nentries = entries.length;\n        for (var i = 0; i < nentries; i++) {\n            var entry = entries[i];\n            var width, height;\n            if (entry.contentBoxSize) {\n                if (entry.contentBoxSize instanceof Array) {\n                    // Chrome 84 implements new version of spec.\n                    width = entry.contentBoxSize[0].inlineSize;\n                    height = entry.contentBoxSize[0].blockSize;\n                } else {\n                    // Firefox implements old version of spec.\n                    width = entry.contentBoxSize.inlineSize;\n                    height = entry.contentBoxSize.blockSize;\n                }\n            } else {\n                // Chrome <84 implements even older version of spec.\n                width = entry.contentRect.width;\n                height = entry.contentRect.height;\n            }\n\n            // Keep the size of the canvas and rubber band canvas in sync with\n            // the canvas container.\n            if (entry.devicePixelContentBoxSize) {\n                // Chrome 84 implements new version of spec.\n                canvas.setAttribute(\n                    'width',\n                    entry.devicePixelContentBoxSize[0].inlineSize\n                );\n                canvas.setAttribute(\n                    'height',\n                    entry.devicePixelContentBoxSize[0].blockSize\n                );\n            } else {\n                canvas.setAttribute('width', width * fig.ratio);\n                canvas.setAttribute('height', height * fig.ratio);\n            }\n            /* This rescales the canvas back to display pixels, so that it\n             * appears correct on HiDPI screens. */\n            canvas.style.width = width + 'px';\n            canvas.style.height = height + 'px';\n\n            rubberband_canvas.setAttribute('width', width);\n            rubberband_canvas.setAttribute('height', height);\n\n            // And update the size in Python. We ignore the initial 0/0 size\n            // that occurs as the element is placed into the DOM, which should\n            // otherwise not happen due to the minimum size styling.\n            if (fig.ws.readyState == 1 && width != 0 && height != 0) {\n                fig.request_resize(width, height);\n            }\n        }\n    });\n    this.resizeObserverInstance.observe(canvas_div);\n\n    function on_mouse_event_closure(name) {\n        /* User Agent sniffing is bad, but WebKit is busted:\n         * https://bugs.webkit.org/show_bug.cgi?id=144526\n         * https://bugs.webkit.org/show_bug.cgi?id=181818\n         * The worst that happens here is that they get an extra browser\n         * selection when dragging, if this check fails to catch them.\n         */\n        var UA = navigator.userAgent;\n        var isWebKit = /AppleWebKit/.test(UA) && !/Chrome/.test(UA);\n        if(isWebKit) {\n            return function (event) {\n                /* This prevents the web browser from automatically changing to\n                 * the text insertion cursor when the button is pressed. We\n                 * want to control all of the cursor setting manually through\n                 * the 'cursor' event from matplotlib */\n                event.preventDefault()\n                return fig.mouse_event(event, name);\n            };\n        } else {\n            return function (event) {\n                return fig.mouse_event(event, name);\n            };\n        }\n    }\n\n    canvas_div.addEventListener(\n        'mousedown',\n        on_mouse_event_closure('button_press')\n    );\n    canvas_div.addEventListener(\n        'mouseup',\n        on_mouse_event_closure('button_release')\n    );\n    canvas_div.addEventListener(\n        'dblclick',\n        on_mouse_event_closure('dblclick')\n    );\n    // Throttle sequential mouse events to 1 every 20ms.\n    canvas_div.addEventListener(\n        'mousemove',\n        on_mouse_event_closure('motion_notify')\n    );\n\n    canvas_div.addEventListener(\n        'mouseenter',\n        on_mouse_event_closure('figure_enter')\n    );\n    canvas_div.addEventListener(\n        'mouseleave',\n        on_mouse_event_closure('figure_leave')\n    );\n\n    canvas_div.addEventListener('wheel', function (event) {\n        if (event.deltaY < 0) {\n            event.step = 1;\n        } else {\n            event.step = -1;\n        }\n        on_mouse_event_closure('scroll')(event);\n    });\n\n    canvas_div.appendChild(canvas);\n    canvas_div.appendChild(rubberband_canvas);\n\n    this.rubberband_context = rubberband_canvas.getContext('2d');\n    this.rubberband_context.strokeStyle = '#000000';\n\n    this._resize_canvas = function (width, height, forward) {\n        if (forward) {\n            canvas_div.style.width = width + 'px';\n            canvas_div.style.height = height + 'px';\n        }\n    };\n\n    // Disable right mouse context menu.\n    canvas_div.addEventListener('contextmenu', function (_e) {\n        event.preventDefault();\n        return false;\n    });\n\n    function set_focus() {\n        canvas.focus();\n        canvas_div.focus();\n    }\n\n    window.setTimeout(set_focus, 100);\n};\n\nmpl.figure.prototype._init_toolbar = function () {\n    var fig = this;\n\n    var toolbar = document.createElement('div');\n    toolbar.classList = 'mpl-toolbar';\n    this.root.appendChild(toolbar);\n\n    function on_click_closure(name) {\n        return function (_event) {\n            return fig.toolbar_button_onclick(name);\n        };\n    }\n\n    function on_mouseover_closure(tooltip) {\n        return function (event) {\n            if (!event.currentTarget.disabled) {\n                return fig.toolbar_button_onmouseover(tooltip);\n            }\n        };\n    }\n\n    fig.buttons = {};\n    var buttonGroup = document.createElement('div');\n    buttonGroup.classList = 'mpl-button-group';\n    for (var toolbar_ind in mpl.toolbar_items) {\n        var name = mpl.toolbar_items[toolbar_ind][0];\n        var tooltip = mpl.toolbar_items[toolbar_ind][1];\n        var image = mpl.toolbar_items[toolbar_ind][2];\n        var method_name = mpl.toolbar_items[toolbar_ind][3];\n\n        if (!name) {\n            /* Instead of a spacer, we start a new button group. */\n            if (buttonGroup.hasChildNodes()) {\n                toolbar.appendChild(buttonGroup);\n            }\n            buttonGroup = document.createElement('div');\n            buttonGroup.classList = 'mpl-button-group';\n            continue;\n        }\n\n        var button = (fig.buttons[name] = document.createElement('button'));\n        button.classList = 'mpl-widget';\n        button.setAttribute('role', 'button');\n        button.setAttribute('aria-disabled', 'false');\n        button.addEventListener('click', on_click_closure(method_name));\n        button.addEventListener('mouseover', on_mouseover_closure(tooltip));\n\n        var icon_img = document.createElement('img');\n        icon_img.src = '_images/' + image + '.png';\n        icon_img.srcset = '_images/' + image + '_large.png 2x';\n        icon_img.alt = tooltip;\n        button.appendChild(icon_img);\n\n        buttonGroup.appendChild(button);\n    }\n\n    if (buttonGroup.hasChildNodes()) {\n        toolbar.appendChild(buttonGroup);\n    }\n\n    var fmt_picker = document.createElement('select');\n    fmt_picker.classList = 'mpl-widget';\n    toolbar.appendChild(fmt_picker);\n    this.format_dropdown = fmt_picker;\n\n    for (var ind in mpl.extensions) {\n        var fmt = mpl.extensions[ind];\n        var option = document.createElement('option');\n        option.selected = fmt === mpl.default_extension;\n        option.innerHTML = fmt;\n        fmt_picker.appendChild(option);\n    }\n\n    var status_bar = document.createElement('span');\n    status_bar.classList = 'mpl-message';\n    toolbar.appendChild(status_bar);\n    this.message = status_bar;\n};\n\nmpl.figure.prototype.request_resize = function (x_pixels, y_pixels) {\n    // Request matplotlib to resize the figure. Matplotlib will then trigger a resize in the client,\n    // which will in turn request a refresh of the image.\n    this.send_message('resize', { width: x_pixels, height: y_pixels });\n};\n\nmpl.figure.prototype.send_message = function (type, properties) {\n    properties['type'] = type;\n    properties['figure_id'] = this.id;\n    this.ws.send(JSON.stringify(properties));\n};\n\nmpl.figure.prototype.send_draw_message = function () {\n    if (!this.waiting) {\n        this.waiting = true;\n        this.ws.send(JSON.stringify({ type: 'draw', figure_id: this.id }));\n    }\n};\n\nmpl.figure.prototype.handle_save = function (fig, _msg) {\n    var format_dropdown = fig.format_dropdown;\n    var format = format_dropdown.options[format_dropdown.selectedIndex].value;\n    fig.ondownload(fig, format);\n};\n\nmpl.figure.prototype.handle_resize = function (fig, msg) {\n    var size = msg['size'];\n    if (size[0] !== fig.canvas.width || size[1] !== fig.canvas.height) {\n        fig._resize_canvas(size[0], size[1], msg['forward']);\n        fig.send_message('refresh', {});\n    }\n};\n\nmpl.figure.prototype.handle_rubberband = function (fig, msg) {\n    var x0 = msg['x0'] / fig.ratio;\n    var y0 = (fig.canvas.height - msg['y0']) / fig.ratio;\n    var x1 = msg['x1'] / fig.ratio;\n    var y1 = (fig.canvas.height - msg['y1']) / fig.ratio;\n    x0 = Math.floor(x0) + 0.5;\n    y0 = Math.floor(y0) + 0.5;\n    x1 = Math.floor(x1) + 0.5;\n    y1 = Math.floor(y1) + 0.5;\n    var min_x = Math.min(x0, x1);\n    var min_y = Math.min(y0, y1);\n    var width = Math.abs(x1 - x0);\n    var height = Math.abs(y1 - y0);\n\n    fig.rubberband_context.clearRect(\n        0,\n        0,\n        fig.canvas.width / fig.ratio,\n        fig.canvas.height / fig.ratio\n    );\n\n    fig.rubberband_context.strokeRect(min_x, min_y, width, height);\n};\n\nmpl.figure.prototype.handle_figure_label = function (fig, msg) {\n    // Updates the figure title.\n    fig.header.textContent = msg['label'];\n};\n\nmpl.figure.prototype.handle_cursor = function (fig, msg) {\n    fig.canvas_div.style.cursor = msg['cursor'];\n};\n\nmpl.figure.prototype.handle_message = function (fig, msg) {\n    fig.message.textContent = msg['message'];\n};\n\nmpl.figure.prototype.handle_draw = function (fig, _msg) {\n    // Request the server to send over a new figure.\n    fig.send_draw_message();\n};\n\nmpl.figure.prototype.handle_image_mode = function (fig, msg) {\n    fig.image_mode = msg['mode'];\n};\n\nmpl.figure.prototype.handle_history_buttons = function (fig, msg) {\n    for (var key in msg) {\n        if (!(key in fig.buttons)) {\n            continue;\n        }\n        fig.buttons[key].disabled = !msg[key];\n        fig.buttons[key].setAttribute('aria-disabled', !msg[key]);\n    }\n};\n\nmpl.figure.prototype.handle_navigate_mode = function (fig, msg) {\n    if (msg['mode'] === 'PAN') {\n        fig.buttons['Pan'].classList.add('active');\n        fig.buttons['Zoom'].classList.remove('active');\n    } else if (msg['mode'] === 'ZOOM') {\n        fig.buttons['Pan'].classList.remove('active');\n        fig.buttons['Zoom'].classList.add('active');\n    } else {\n        fig.buttons['Pan'].classList.remove('active');\n        fig.buttons['Zoom'].classList.remove('active');\n    }\n};\n\nmpl.figure.prototype.updated_canvas_event = function () {\n    // Called whenever the canvas gets updated.\n    this.send_message('ack', {});\n};\n\n// A function to construct a web socket function for onmessage handling.\n// Called in the figure constructor.\nmpl.figure.prototype._make_on_message_function = function (fig) {\n    return function socket_on_message(evt) {\n        if (evt.data instanceof Blob) {\n            var img = evt.data;\n            if (img.type !== 'image/png') {\n                /* FIXME: We get \"Resource interpreted as Image but\n                 * transferred with MIME type text/plain:\" errors on\n                 * Chrome.  But how to set the MIME type?  It doesn't seem\n                 * to be part of the websocket stream */\n                img.type = 'image/png';\n            }\n\n            /* Free the memory for the previous frames */\n            if (fig.imageObj.src) {\n                (window.URL || window.webkitURL).revokeObjectURL(\n                    fig.imageObj.src\n                );\n            }\n\n            fig.imageObj.src = (window.URL || window.webkitURL).createObjectURL(\n                img\n            );\n            fig.updated_canvas_event();\n            fig.waiting = false;\n            return;\n        } else if (\n            typeof evt.data === 'string' &&\n            evt.data.slice(0, 21) === 'data:image/png;base64'\n        ) {\n            fig.imageObj.src = evt.data;\n            fig.updated_canvas_event();\n            fig.waiting = false;\n            return;\n        }\n\n        var msg = JSON.parse(evt.data);\n        var msg_type = msg['type'];\n\n        // Call the  \"handle_{type}\" callback, which takes\n        // the figure and JSON message as its only arguments.\n        try {\n            var callback = fig['handle_' + msg_type];\n        } catch (e) {\n            console.log(\n                \"No handler for the '\" + msg_type + \"' message type: \",\n                msg\n            );\n            return;\n        }\n\n        if (callback) {\n            try {\n                // console.log(\"Handling '\" + msg_type + \"' message: \", msg);\n                callback(fig, msg);\n            } catch (e) {\n                console.log(\n                    \"Exception inside the 'handler_\" + msg_type + \"' callback:\",\n                    e,\n                    e.stack,\n                    msg\n                );\n            }\n        }\n    };\n};\n\nfunction getModifiers(event) {\n    var mods = [];\n    if (event.ctrlKey) {\n        mods.push('ctrl');\n    }\n    if (event.altKey) {\n        mods.push('alt');\n    }\n    if (event.shiftKey) {\n        mods.push('shift');\n    }\n    if (event.metaKey) {\n        mods.push('meta');\n    }\n    return mods;\n}\n\n/*\n * return a copy of an object with only non-object keys\n * we need this to avoid circular references\n * https://stackoverflow.com/a/24161582/3208463\n */\nfunction simpleKeys(original) {\n    return Object.keys(original).reduce(function (obj, key) {\n        if (typeof original[key] !== 'object') {\n            obj[key] = original[key];\n        }\n        return obj;\n    }, {});\n}\n\nmpl.figure.prototype.mouse_event = function (event, name) {\n    if (name === 'button_press') {\n        this.canvas.focus();\n        this.canvas_div.focus();\n    }\n\n    // from https://stackoverflow.com/q/1114465\n    var boundingRect = this.canvas.getBoundingClientRect();\n    var x = (event.clientX - boundingRect.left) * this.ratio;\n    var y = (event.clientY - boundingRect.top) * this.ratio;\n\n    this.send_message(name, {\n        x: x,\n        y: y,\n        button: event.button,\n        step: event.step,\n        modifiers: getModifiers(event),\n        guiEvent: simpleKeys(event),\n    });\n\n    return false;\n};\n\nmpl.figure.prototype._key_event_extra = function (_event, _name) {\n    // Handle any extra behaviour associated with a key event\n};\n\nmpl.figure.prototype.key_event = function (event, name) {\n    // Prevent repeat events\n    if (name === 'key_press') {\n        if (event.key === this._key) {\n            return;\n        } else {\n            this._key = event.key;\n        }\n    }\n    if (name === 'key_release') {\n        this._key = null;\n    }\n\n    var value = '';\n    if (event.ctrlKey && event.key !== 'Control') {\n        value += 'ctrl+';\n    }\n    else if (event.altKey && event.key !== 'Alt') {\n        value += 'alt+';\n    }\n    else if (event.shiftKey && event.key !== 'Shift') {\n        value += 'shift+';\n    }\n\n    value += 'k' + event.key;\n\n    this._key_event_extra(event, name);\n\n    this.send_message(name, { key: value, guiEvent: simpleKeys(event) });\n    return false;\n};\n\nmpl.figure.prototype.toolbar_button_onclick = function (name) {\n    if (name === 'download') {\n        this.handle_save(this, null);\n    } else {\n        this.send_message('toolbar_button', { name: name });\n    }\n};\n\nmpl.figure.prototype.toolbar_button_onmouseover = function (tooltip) {\n    this.message.textContent = tooltip;\n};\n\n///////////////// REMAINING CONTENT GENERATED BY embed_js.py /////////////////\n// prettier-ignore\nvar _JSXTOOLS_RESIZE_OBSERVER=function(A){var t,i=new WeakMap,n=new WeakMap,a=new WeakMap,r=new WeakMap,o=new Set;function s(e){if(!(this instanceof s))throw new TypeError(\"Constructor requires 'new' operator\");i.set(this,e)}function h(){throw new TypeError(\"Function is not a constructor\")}function c(e,t,i,n){e=0 in arguments?Number(arguments[0]):0,t=1 in arguments?Number(arguments[1]):0,i=2 in arguments?Number(arguments[2]):0,n=3 in arguments?Number(arguments[3]):0,this.right=(this.x=this.left=e)+(this.width=i),this.bottom=(this.y=this.top=t)+(this.height=n),Object.freeze(this)}function d(){t=requestAnimationFrame(d);var s=new WeakMap,p=new Set;o.forEach((function(t){r.get(t).forEach((function(i){var r=t instanceof window.SVGElement,o=a.get(t),d=r?0:parseFloat(o.paddingTop),f=r?0:parseFloat(o.paddingRight),l=r?0:parseFloat(o.paddingBottom),u=r?0:parseFloat(o.paddingLeft),g=r?0:parseFloat(o.borderTopWidth),m=r?0:parseFloat(o.borderRightWidth),w=r?0:parseFloat(o.borderBottomWidth),b=u+f,F=d+l,v=(r?0:parseFloat(o.borderLeftWidth))+m,W=g+w,y=r?0:t.offsetHeight-W-t.clientHeight,E=r?0:t.offsetWidth-v-t.clientWidth,R=b+v,z=F+W,M=r?t.width:parseFloat(o.width)-R-E,O=r?t.height:parseFloat(o.height)-z-y;if(n.has(t)){var k=n.get(t);if(k[0]===M&&k[1]===O)return}n.set(t,[M,O]);var S=Object.create(h.prototype);S.target=t,S.contentRect=new c(u,d,M,O),s.has(i)||(s.set(i,[]),p.add(i)),s.get(i).push(S)}))})),p.forEach((function(e){i.get(e).call(e,s.get(e),e)}))}return s.prototype.observe=function(i){if(i instanceof window.Element){r.has(i)||(r.set(i,new Set),o.add(i),a.set(i,window.getComputedStyle(i)));var n=r.get(i);n.has(this)||n.add(this),cancelAnimationFrame(t),t=requestAnimationFrame(d)}},s.prototype.unobserve=function(i){if(i instanceof window.Element&&r.has(i)){var n=r.get(i);n.has(this)&&(n.delete(this),n.size||(r.delete(i),o.delete(i))),n.size||r.delete(i),o.size||cancelAnimationFrame(t)}},A.DOMRectReadOnly=c,A.ResizeObserver=s,A.ResizeObserverEntry=h,A}; // eslint-disable-line\nmpl.toolbar_items = [[\"Home\", \"Reset original view\", \"fa fa-home\", \"home\"], [\"Back\", \"Back to previous view\", \"fa fa-arrow-left\", \"back\"], [\"Forward\", \"Forward to next view\", \"fa fa-arrow-right\", \"forward\"], [\"\", \"\", \"\", \"\"], [\"Pan\", \"Left button pans, Right button zooms\\nx/y fixes axis, CTRL fixes aspect\", \"fa fa-arrows\", \"pan\"], [\"Zoom\", \"Zoom to rectangle\\nx/y fixes axis\", \"fa fa-square-o\", \"zoom\"], [\"\", \"\", \"\", \"\"], [\"Download\", \"Download plot\", \"fa fa-floppy-o\", \"download\"]];\n\nmpl.extensions = [\"eps\", \"jpeg\", \"pgf\", \"pdf\", \"png\", \"ps\", \"raw\", \"svg\", \"tif\", \"webp\"];\n\nmpl.default_extension = \"png\";/* global mpl */\n\nvar comm_websocket_adapter = function (comm) {\n    // Create a \"websocket\"-like object which calls the given IPython comm\n    // object with the appropriate methods. Currently this is a non binary\n    // socket, so there is still some room for performance tuning.\n    var ws = {};\n\n    ws.binaryType = comm.kernel.ws.binaryType;\n    ws.readyState = comm.kernel.ws.readyState;\n    function updateReadyState(_event) {\n        if (comm.kernel.ws) {\n            ws.readyState = comm.kernel.ws.readyState;\n        } else {\n            ws.readyState = 3; // Closed state.\n        }\n    }\n    comm.kernel.ws.addEventListener('open', updateReadyState);\n    comm.kernel.ws.addEventListener('close', updateReadyState);\n    comm.kernel.ws.addEventListener('error', updateReadyState);\n\n    ws.close = function () {\n        comm.close();\n    };\n    ws.send = function (m) {\n        //console.log('sending', m);\n        comm.send(m);\n    };\n    // Register the callback with on_msg.\n    comm.on_msg(function (msg) {\n        //console.log('receiving', msg['content']['data'], msg);\n        var data = msg['content']['data'];\n        if (data['blob'] !== undefined) {\n            data = {\n                data: new Blob(msg['buffers'], { type: data['blob'] }),\n            };\n        }\n        // Pass the mpl event to the overridden (by mpl) onmessage function.\n        ws.onmessage(data);\n    });\n    return ws;\n};\n\nmpl.mpl_figure_comm = function (comm, msg) {\n    // This is the function which gets called when the mpl process\n    // starts-up an IPython Comm through the \"matplotlib\" channel.\n\n    var id = msg.content.data.id;\n    // Get hold of the div created by the display call when the Comm\n    // socket was opened in Python.\n    var element = document.getElementById(id);\n    var ws_proxy = comm_websocket_adapter(comm);\n\n    function ondownload(figure, _format) {\n        window.open(figure.canvas.toDataURL());\n    }\n\n    var fig = new mpl.figure(id, ws_proxy, ondownload, element);\n\n    // Call onopen now - mpl needs it, as it is assuming we've passed it a real\n    // web socket which is closed, not our websocket->open comm proxy.\n    ws_proxy.onopen();\n\n    fig.parent_element = element;\n    fig.cell_info = mpl.find_output_cell(\"<div id='\" + id + \"'></div>\");\n    if (!fig.cell_info) {\n        console.error('Failed to find cell for figure', id, fig);\n        return;\n    }\n    fig.cell_info[0].output_area.element.on(\n        'cleared',\n        { fig: fig },\n        fig._remove_fig_handler\n    );\n};\n\nmpl.figure.prototype.handle_close = function (fig, msg) {\n    var width = fig.canvas.width / fig.ratio;\n    fig.cell_info[0].output_area.element.off(\n        'cleared',\n        fig._remove_fig_handler\n    );\n    fig.resizeObserverInstance.unobserve(fig.canvas_div);\n\n    // Update the output cell to use the data from the current canvas.\n    fig.push_to_output();\n    var dataURL = fig.canvas.toDataURL();\n    // Re-enable the keyboard manager in IPython - without this line, in FF,\n    // the notebook keyboard shortcuts fail.\n    IPython.keyboard_manager.enable();\n    fig.parent_element.innerHTML =\n        '<img src=\"' + dataURL + '\" width=\"' + width + '\">';\n    fig.close_ws(fig, msg);\n};\n\nmpl.figure.prototype.close_ws = function (fig, msg) {\n    fig.send_message('closing', msg);\n    // fig.ws.close()\n};\n\nmpl.figure.prototype.push_to_output = function (_remove_interactive) {\n    // Turn the data on the canvas into data in the output cell.\n    var width = this.canvas.width / this.ratio;\n    var dataURL = this.canvas.toDataURL();\n    this.cell_info[1]['text/html'] =\n        '<img src=\"' + dataURL + '\" width=\"' + width + '\">';\n};\n\nmpl.figure.prototype.updated_canvas_event = function () {\n    // Tell IPython that the notebook contents must change.\n    IPython.notebook.set_dirty(true);\n    this.send_message('ack', {});\n    var fig = this;\n    // Wait a second, then push the new image to the DOM so\n    // that it is saved nicely (might be nice to debounce this).\n    setTimeout(function () {\n        fig.push_to_output();\n    }, 1000);\n};\n\nmpl.figure.prototype._init_toolbar = function () {\n    var fig = this;\n\n    var toolbar = document.createElement('div');\n    toolbar.classList = 'btn-toolbar';\n    this.root.appendChild(toolbar);\n\n    function on_click_closure(name) {\n        return function (_event) {\n            return fig.toolbar_button_onclick(name);\n        };\n    }\n\n    function on_mouseover_closure(tooltip) {\n        return function (event) {\n            if (!event.currentTarget.disabled) {\n                return fig.toolbar_button_onmouseover(tooltip);\n            }\n        };\n    }\n\n    fig.buttons = {};\n    var buttonGroup = document.createElement('div');\n    buttonGroup.classList = 'btn-group';\n    var button;\n    for (var toolbar_ind in mpl.toolbar_items) {\n        var name = mpl.toolbar_items[toolbar_ind][0];\n        var tooltip = mpl.toolbar_items[toolbar_ind][1];\n        var image = mpl.toolbar_items[toolbar_ind][2];\n        var method_name = mpl.toolbar_items[toolbar_ind][3];\n\n        if (!name) {\n            /* Instead of a spacer, we start a new button group. */\n            if (buttonGroup.hasChildNodes()) {\n                toolbar.appendChild(buttonGroup);\n            }\n            buttonGroup = document.createElement('div');\n            buttonGroup.classList = 'btn-group';\n            continue;\n        }\n\n        button = fig.buttons[name] = document.createElement('button');\n        button.classList = 'btn btn-default';\n        button.href = '#';\n        button.title = name;\n        button.innerHTML = '<i class=\"fa ' + image + ' fa-lg\"></i>';\n        button.addEventListener('click', on_click_closure(method_name));\n        button.addEventListener('mouseover', on_mouseover_closure(tooltip));\n        buttonGroup.appendChild(button);\n    }\n\n    if (buttonGroup.hasChildNodes()) {\n        toolbar.appendChild(buttonGroup);\n    }\n\n    // Add the status bar.\n    var status_bar = document.createElement('span');\n    status_bar.classList = 'mpl-message pull-right';\n    toolbar.appendChild(status_bar);\n    this.message = status_bar;\n\n    // Add the close button to the window.\n    var buttongrp = document.createElement('div');\n    buttongrp.classList = 'btn-group inline pull-right';\n    button = document.createElement('button');\n    button.classList = 'btn btn-mini btn-primary';\n    button.href = '#';\n    button.title = 'Stop Interaction';\n    button.innerHTML = '<i class=\"fa fa-power-off icon-remove icon-large\"></i>';\n    button.addEventListener('click', function (_evt) {\n        fig.handle_close(fig, {});\n    });\n    button.addEventListener(\n        'mouseover',\n        on_mouseover_closure('Stop Interaction')\n    );\n    buttongrp.appendChild(button);\n    var titlebar = this.root.querySelector('.ui-dialog-titlebar');\n    titlebar.insertBefore(buttongrp, titlebar.firstChild);\n};\n\nmpl.figure.prototype._remove_fig_handler = function (event) {\n    var fig = event.data.fig;\n    if (event.target !== this) {\n        // Ignore bubbled events from children.\n        return;\n    }\n    fig.close_ws(fig, {});\n};\n\nmpl.figure.prototype._root_extra_style = function (el) {\n    el.style.boxSizing = 'content-box'; // override notebook setting of border-box.\n};\n\nmpl.figure.prototype._canvas_extra_style = function (el) {\n    // this is important to make the div 'focusable\n    el.setAttribute('tabindex', 0);\n    // reach out to IPython and tell the keyboard manager to turn it's self\n    // off when our div gets focus\n\n    // location in version 3\n    if (IPython.notebook.keyboard_manager) {\n        IPython.notebook.keyboard_manager.register_events(el);\n    } else {\n        // location in version 2\n        IPython.keyboard_manager.register_events(el);\n    }\n};\n\nmpl.figure.prototype._key_event_extra = function (event, _name) {\n    // Check for shift+enter\n    if (event.shiftKey && event.which === 13) {\n        this.canvas_div.blur();\n        // select the cell after this one\n        var index = IPython.notebook.find_cell_index(this.cell_info[0]);\n        IPython.notebook.select(index + 1);\n    }\n};\n\nmpl.figure.prototype.handle_save = function (fig, _msg) {\n    fig.ondownload(fig, null);\n};\n\nmpl.find_output_cell = function (html_output) {\n    // Return the cell and output element which can be found *uniquely* in the notebook.\n    // Note - this is a bit hacky, but it is done because the \"notebook_saving.Notebook\"\n    // IPython event is triggered only after the cells have been serialised, which for\n    // our purposes (turning an active figure into a static one), is too late.\n    var cells = IPython.notebook.get_cells();\n    var ncells = cells.length;\n    for (var i = 0; i < ncells; i++) {\n        var cell = cells[i];\n        if (cell.cell_type === 'code') {\n            for (var j = 0; j < cell.output_area.outputs.length; j++) {\n                var data = cell.output_area.outputs[j];\n                if (data.data) {\n                    // IPython >= 3 moved mimebundle to data attribute of output\n                    data = data.data;\n                }\n                if (data['text/html'] === html_output) {\n                    return [cell, data, j];\n                }\n            }\n        }\n    }\n};\n\n// Register the function which deals with the matplotlib target/channel.\n// The kernel may be null if the page has been refreshed.\nif (IPython.notebook.kernel !== null) {\n    IPython.notebook.kernel.comm_manager.register_target(\n        'matplotlib',\n        mpl.mpl_figure_comm\n    );\n}\n",
      "text/plain": [
       "<IPython.core.display.Javascript object>"
      ]
     },
     "metadata": {},
     "output_type": "display_data"
    },
    {
     "data": {
      "text/html": [
       "<div id='4892fa0e-445e-4917-a4a9-3d1ccbdc45eb'></div>"
      ],
      "text/plain": [
       "<IPython.core.display.HTML object>"
      ]
     },
     "metadata": {},
     "output_type": "display_data"
    }
   ],
   "source": [
    "fig = plt.figure()\n",
    "plt.plot(np.linspace(0, 1, 11), DIs, marker='o')\n",
    "plt.plot([0, 1], [1, 1], 'g')\n",
    "plt.plot([0, 1], [0.8, 0.8], 'r')\n",
    "plt.ylim([0.4, 1.2])\n",
    "plt.ylabel('Disparate Impact (DI)')\n",
    "plt.xlabel('repair level')\n",
    "fig.savefig(\"disparate_impact_remover.pdf\")\n",
    "plt.close()\n",
    "\n",
    "plt.show()"
   ]
  },
  {
   "cell_type": "markdown",
   "metadata": {},
   "source": [
    "### Apprentissage de `représentation latente fair`"
   ]
  },
  {
   "cell_type": "code",
   "execution_count": null,
   "metadata": {},
   "outputs": [],
   "source": [
    "TR = LFR(unprivileged_groups=unprivileged_groups,\n",
    "         privileged_groups=privileged_groups,\n",
    "         k=10, Ax=0.1, Ay=1.0, Az=2.0,\n",
    "         verbose=1\n",
    "        )\n",
    "TR = TR.fit(dataset_orig_train, maxiter=5000, maxfun=5000)"
   ]
  },
  {
   "cell_type": "code",
   "execution_count": 11,
   "metadata": {},
   "outputs": [],
   "source": [
    "# Transform training data and align features\n",
    "dataset_transf_train = TR.transform(dataset_orig_train)\n",
    "dataset_transf_test = TR.transform(dataset_orig_test)"
   ]
  },
  {
   "cell_type": "code",
   "execution_count": 17,
   "metadata": {},
   "outputs": [
    {
     "name": "stdout",
     "output_type": "stream",
     "text": [
      "              precision    recall  f1-score   support\n",
      "\n",
      "         0.0       0.91      0.05      0.10     14344\n",
      "         1.0       0.05      0.91      0.10       861\n",
      "\n",
      "    accuracy                           0.10     15205\n",
      "   macro avg       0.48      0.48      0.10     15205\n",
      "weighted avg       0.86      0.10      0.10     15205\n",
      "\n"
     ]
    }
   ],
   "source": [
    "print(classification_report(dataset_orig_test.labels, dataset_transf_test.labels))"
   ]
  },
  {
   "cell_type": "code",
   "execution_count": 18,
   "metadata": {},
   "outputs": [
    {
     "data": {
      "text/plain": [
       "array([[ 2.67691473,  3.53385236,  2.00460161, ...,  0.19262767,\n",
       "         0.48424767, 49.14376419],\n",
       "       [ 2.67691473,  3.53385236,  2.00460161, ...,  0.19262767,\n",
       "         0.48424767, 49.14376419],\n",
       "       [ 2.67691473,  3.53385236,  2.00460161, ...,  0.19262767,\n",
       "         0.48424767, 49.14376419],\n",
       "       ...,\n",
       "       [ 2.67691473,  3.53385236,  2.00460161, ...,  0.19262767,\n",
       "         0.48424767, 49.14376419],\n",
       "       [ 2.67691473,  3.53385236,  2.00460161, ...,  0.19262767,\n",
       "         0.48424767, 49.14376419],\n",
       "       [ 2.67691473,  3.53385236,  2.00460161, ...,  0.19262767,\n",
       "         0.48424767, 49.14376419]])"
      ]
     },
     "execution_count": 18,
     "metadata": {},
     "output_type": "execute_result"
    }
   ],
   "source": [
    "dataset_transf_test.features"
   ]
  },
  {
   "cell_type": "code",
   "execution_count": 20,
   "metadata": {},
   "outputs": [
    {
     "data": {
      "text/plain": [
       "array([[ 5.,  2.,  1., ...,  0.,  1., 68.],\n",
       "       [ 0.,  3.,  2., ...,  0.,  1., 13.],\n",
       "       [ 4.,  4.,  2., ...,  0.,  1., 44.],\n",
       "       ...,\n",
       "       [ 1.,  2.,  3., ...,  0.,  1., 24.],\n",
       "       [ 2.,  5.,  2., ...,  0.,  1., 15.],\n",
       "       [ 0.,  4.,  1., ...,  0.,  1., 32.]])"
      ]
     },
     "execution_count": 20,
     "metadata": {},
     "output_type": "execute_result"
    }
   ],
   "source": [
    "dataset_orig_test.features"
   ]
  },
  {
   "cell_type": "markdown",
   "metadata": {},
   "source": [
    "### In processing `Adversarial debiasing`"
   ]
  },
  {
   "cell_type": "code",
   "execution_count": 128,
   "metadata": {},
   "outputs": [],
   "source": [
    "from aif360.algorithms.inprocessing.adversarial_debiasing import AdversarialDebiasing\n",
    "import tensorflow.compat.v1 as tf\n",
    "tf.disable_eager_execution()"
   ]
  },
  {
   "cell_type": "code",
   "execution_count": 129,
   "metadata": {},
   "outputs": [
    {
     "name": "stdout",
     "output_type": "stream",
     "text": [
      "epoch 0; iter: 0; batch classifier loss: 5.225278\n",
      "epoch 0; iter: 200; batch classifier loss: 1.247293\n",
      "epoch 0; iter: 400; batch classifier loss: 0.910505\n",
      "epoch 0; iter: 600; batch classifier loss: 0.690384\n",
      "epoch 0; iter: 800; batch classifier loss: 0.621849\n",
      "epoch 1; iter: 0; batch classifier loss: 0.670442\n",
      "epoch 1; iter: 200; batch classifier loss: 0.515260\n",
      "epoch 1; iter: 400; batch classifier loss: 0.548557\n",
      "epoch 1; iter: 600; batch classifier loss: 0.605547\n",
      "epoch 1; iter: 800; batch classifier loss: 0.475843\n",
      "epoch 2; iter: 0; batch classifier loss: 0.405236\n",
      "epoch 2; iter: 200; batch classifier loss: 0.373213\n",
      "epoch 2; iter: 400; batch classifier loss: 0.454045\n",
      "epoch 2; iter: 600; batch classifier loss: 0.429714\n",
      "epoch 2; iter: 800; batch classifier loss: 0.484908\n",
      "epoch 3; iter: 0; batch classifier loss: 0.392919\n",
      "epoch 3; iter: 200; batch classifier loss: 0.375629\n",
      "epoch 3; iter: 400; batch classifier loss: 0.386292\n",
      "epoch 3; iter: 600; batch classifier loss: 0.389202\n",
      "epoch 3; iter: 800; batch classifier loss: 0.364984\n",
      "epoch 4; iter: 0; batch classifier loss: 0.433200\n",
      "epoch 4; iter: 200; batch classifier loss: 0.412336\n",
      "epoch 4; iter: 400; batch classifier loss: 0.423056\n",
      "epoch 4; iter: 600; batch classifier loss: 0.444003\n",
      "epoch 4; iter: 800; batch classifier loss: 0.428697\n",
      "epoch 5; iter: 0; batch classifier loss: 0.350750\n",
      "epoch 5; iter: 200; batch classifier loss: 0.420705\n",
      "epoch 5; iter: 400; batch classifier loss: 0.364373\n",
      "epoch 5; iter: 600; batch classifier loss: 0.340529\n",
      "epoch 5; iter: 800; batch classifier loss: 0.386661\n",
      "epoch 6; iter: 0; batch classifier loss: 0.399713\n",
      "epoch 6; iter: 200; batch classifier loss: 0.366411\n",
      "epoch 6; iter: 400; batch classifier loss: 0.364075\n",
      "epoch 6; iter: 600; batch classifier loss: 0.463221\n",
      "epoch 6; iter: 800; batch classifier loss: 0.428562\n",
      "epoch 7; iter: 0; batch classifier loss: 0.512519\n",
      "epoch 7; iter: 200; batch classifier loss: 0.380852\n",
      "epoch 7; iter: 400; batch classifier loss: 0.344139\n",
      "epoch 7; iter: 600; batch classifier loss: 0.444104\n",
      "epoch 7; iter: 800; batch classifier loss: 0.400208\n",
      "epoch 8; iter: 0; batch classifier loss: 0.346225\n",
      "epoch 8; iter: 200; batch classifier loss: 0.455802\n",
      "epoch 8; iter: 400; batch classifier loss: 0.418046\n",
      "epoch 8; iter: 600; batch classifier loss: 0.355059\n",
      "epoch 8; iter: 800; batch classifier loss: 0.364990\n",
      "epoch 9; iter: 0; batch classifier loss: 0.403347\n",
      "epoch 9; iter: 200; batch classifier loss: 0.526236\n",
      "epoch 9; iter: 400; batch classifier loss: 0.394228\n",
      "epoch 9; iter: 600; batch classifier loss: 0.400432\n",
      "epoch 9; iter: 800; batch classifier loss: 0.344284\n",
      "epoch 10; iter: 0; batch classifier loss: 0.394941\n",
      "epoch 10; iter: 200; batch classifier loss: 0.439726\n",
      "epoch 10; iter: 400; batch classifier loss: 0.436207\n",
      "epoch 10; iter: 600; batch classifier loss: 0.392829\n",
      "epoch 10; iter: 800; batch classifier loss: 0.335638\n",
      "epoch 11; iter: 0; batch classifier loss: 0.463777\n",
      "epoch 11; iter: 200; batch classifier loss: 0.398871\n",
      "epoch 11; iter: 400; batch classifier loss: 0.386032\n",
      "epoch 11; iter: 600; batch classifier loss: 0.409606\n",
      "epoch 11; iter: 800; batch classifier loss: 0.415048\n",
      "epoch 12; iter: 0; batch classifier loss: 0.379109\n",
      "epoch 12; iter: 200; batch classifier loss: 0.314161\n",
      "epoch 12; iter: 400; batch classifier loss: 0.348160\n",
      "epoch 12; iter: 600; batch classifier loss: 0.289395\n",
      "epoch 12; iter: 800; batch classifier loss: 0.392304\n",
      "epoch 13; iter: 0; batch classifier loss: 0.462793\n",
      "epoch 13; iter: 200; batch classifier loss: 0.392025\n",
      "epoch 13; iter: 400; batch classifier loss: 0.359791\n",
      "epoch 13; iter: 600; batch classifier loss: 0.357702\n",
      "epoch 13; iter: 800; batch classifier loss: 0.294640\n",
      "epoch 14; iter: 0; batch classifier loss: 0.282260\n",
      "epoch 14; iter: 200; batch classifier loss: 0.275118\n",
      "epoch 14; iter: 400; batch classifier loss: 0.407668\n",
      "epoch 14; iter: 600; batch classifier loss: 0.420390\n",
      "epoch 14; iter: 800; batch classifier loss: 0.287716\n",
      "epoch 15; iter: 0; batch classifier loss: 0.323842\n",
      "epoch 15; iter: 200; batch classifier loss: 0.345054\n",
      "epoch 15; iter: 400; batch classifier loss: 0.356543\n",
      "epoch 15; iter: 600; batch classifier loss: 0.421125\n",
      "epoch 15; iter: 800; batch classifier loss: 0.331280\n",
      "epoch 16; iter: 0; batch classifier loss: 0.346517\n",
      "epoch 16; iter: 200; batch classifier loss: 0.373325\n",
      "epoch 16; iter: 400; batch classifier loss: 0.337776\n",
      "epoch 16; iter: 600; batch classifier loss: 0.308479\n",
      "epoch 16; iter: 800; batch classifier loss: 0.325908\n",
      "epoch 17; iter: 0; batch classifier loss: 0.295093\n",
      "epoch 17; iter: 200; batch classifier loss: 0.394975\n",
      "epoch 17; iter: 400; batch classifier loss: 0.289798\n",
      "epoch 17; iter: 600; batch classifier loss: 0.373602\n",
      "epoch 17; iter: 800; batch classifier loss: 0.372660\n",
      "epoch 18; iter: 0; batch classifier loss: 0.334457\n",
      "epoch 18; iter: 200; batch classifier loss: 0.387881\n",
      "epoch 18; iter: 400; batch classifier loss: 0.311759\n",
      "epoch 18; iter: 600; batch classifier loss: 0.453602\n",
      "epoch 18; iter: 800; batch classifier loss: 0.457735\n",
      "epoch 19; iter: 0; batch classifier loss: 0.339646\n",
      "epoch 19; iter: 200; batch classifier loss: 0.312325\n",
      "epoch 19; iter: 400; batch classifier loss: 0.306083\n",
      "epoch 19; iter: 600; batch classifier loss: 0.429221\n",
      "epoch 19; iter: 800; batch classifier loss: 0.211706\n",
      "epoch 20; iter: 0; batch classifier loss: 0.344889\n",
      "epoch 20; iter: 200; batch classifier loss: 0.333503\n",
      "epoch 20; iter: 400; batch classifier loss: 0.371642\n",
      "epoch 20; iter: 600; batch classifier loss: 0.410319\n",
      "epoch 20; iter: 800; batch classifier loss: 0.324194\n",
      "epoch 21; iter: 0; batch classifier loss: 0.419430\n",
      "epoch 21; iter: 200; batch classifier loss: 0.367208\n",
      "epoch 21; iter: 400; batch classifier loss: 0.409491\n",
      "epoch 21; iter: 600; batch classifier loss: 0.340118\n",
      "epoch 21; iter: 800; batch classifier loss: 0.378667\n",
      "epoch 22; iter: 0; batch classifier loss: 0.408749\n",
      "epoch 22; iter: 200; batch classifier loss: 0.396565\n",
      "epoch 22; iter: 400; batch classifier loss: 0.217785\n",
      "epoch 22; iter: 600; batch classifier loss: 0.361275\n",
      "epoch 22; iter: 800; batch classifier loss: 0.356354\n",
      "epoch 23; iter: 0; batch classifier loss: 0.333502\n",
      "epoch 23; iter: 200; batch classifier loss: 0.275416\n",
      "epoch 23; iter: 400; batch classifier loss: 0.351924\n",
      "epoch 23; iter: 600; batch classifier loss: 0.324680\n",
      "epoch 23; iter: 800; batch classifier loss: 0.300983\n",
      "epoch 24; iter: 0; batch classifier loss: 0.375279\n",
      "epoch 24; iter: 200; batch classifier loss: 0.357549\n",
      "epoch 24; iter: 400; batch classifier loss: 0.308469\n",
      "epoch 24; iter: 600; batch classifier loss: 0.365803\n",
      "epoch 24; iter: 800; batch classifier loss: 0.294935\n",
      "epoch 25; iter: 0; batch classifier loss: 0.418972\n",
      "epoch 25; iter: 200; batch classifier loss: 0.327407\n",
      "epoch 25; iter: 400; batch classifier loss: 0.352656\n",
      "epoch 25; iter: 600; batch classifier loss: 0.431086\n",
      "epoch 25; iter: 800; batch classifier loss: 0.310051\n",
      "epoch 26; iter: 0; batch classifier loss: 0.286567\n",
      "epoch 26; iter: 200; batch classifier loss: 0.337247\n",
      "epoch 26; iter: 400; batch classifier loss: 0.417626\n",
      "epoch 26; iter: 600; batch classifier loss: 0.380291\n",
      "epoch 26; iter: 800; batch classifier loss: 0.319180\n",
      "epoch 27; iter: 0; batch classifier loss: 0.350208\n",
      "epoch 27; iter: 200; batch classifier loss: 0.346836\n",
      "epoch 27; iter: 400; batch classifier loss: 0.358422\n",
      "epoch 27; iter: 600; batch classifier loss: 0.258739\n",
      "epoch 27; iter: 800; batch classifier loss: 0.224327\n",
      "epoch 28; iter: 0; batch classifier loss: 0.294815\n",
      "epoch 28; iter: 200; batch classifier loss: 0.290821\n",
      "epoch 28; iter: 400; batch classifier loss: 0.306066\n",
      "epoch 28; iter: 600; batch classifier loss: 0.314729\n",
      "epoch 28; iter: 800; batch classifier loss: 0.235064\n",
      "epoch 29; iter: 0; batch classifier loss: 0.297097\n",
      "epoch 29; iter: 200; batch classifier loss: 0.323421\n",
      "epoch 29; iter: 400; batch classifier loss: 0.329314\n",
      "epoch 29; iter: 600; batch classifier loss: 0.369055\n",
      "epoch 29; iter: 800; batch classifier loss: 0.302554\n",
      "epoch 30; iter: 0; batch classifier loss: 0.324520\n",
      "epoch 30; iter: 200; batch classifier loss: 0.378181\n",
      "epoch 30; iter: 400; batch classifier loss: 0.367268\n",
      "epoch 30; iter: 600; batch classifier loss: 0.407128\n",
      "epoch 30; iter: 800; batch classifier loss: 0.278320\n",
      "epoch 31; iter: 0; batch classifier loss: 0.326131\n",
      "epoch 31; iter: 200; batch classifier loss: 0.300984\n",
      "epoch 31; iter: 400; batch classifier loss: 0.260673\n",
      "epoch 31; iter: 600; batch classifier loss: 0.313111\n",
      "epoch 31; iter: 800; batch classifier loss: 0.294570\n",
      "epoch 32; iter: 0; batch classifier loss: 0.270919\n",
      "epoch 32; iter: 200; batch classifier loss: 0.312185\n",
      "epoch 32; iter: 400; batch classifier loss: 0.374935\n",
      "epoch 32; iter: 600; batch classifier loss: 0.343474\n",
      "epoch 32; iter: 800; batch classifier loss: 0.371360\n",
      "epoch 33; iter: 0; batch classifier loss: 0.366000\n",
      "epoch 33; iter: 200; batch classifier loss: 0.314089\n",
      "epoch 33; iter: 400; batch classifier loss: 0.378285\n",
      "epoch 33; iter: 600; batch classifier loss: 0.354220\n",
      "epoch 33; iter: 800; batch classifier loss: 0.354562\n",
      "epoch 34; iter: 0; batch classifier loss: 0.257873\n",
      "epoch 34; iter: 200; batch classifier loss: 0.308426\n",
      "epoch 34; iter: 400; batch classifier loss: 0.359004\n",
      "epoch 34; iter: 600; batch classifier loss: 0.390243\n",
      "epoch 34; iter: 800; batch classifier loss: 0.272232\n",
      "epoch 35; iter: 0; batch classifier loss: 0.344362\n",
      "epoch 35; iter: 200; batch classifier loss: 0.420832\n",
      "epoch 35; iter: 400; batch classifier loss: 0.288171\n",
      "epoch 35; iter: 600; batch classifier loss: 0.304375\n",
      "epoch 35; iter: 800; batch classifier loss: 0.390380\n",
      "epoch 36; iter: 0; batch classifier loss: 0.369925\n",
      "epoch 36; iter: 200; batch classifier loss: 0.324685\n",
      "epoch 36; iter: 400; batch classifier loss: 0.206846\n",
      "epoch 36; iter: 600; batch classifier loss: 0.397133\n",
      "epoch 36; iter: 800; batch classifier loss: 0.388745\n",
      "epoch 37; iter: 0; batch classifier loss: 0.286170\n",
      "epoch 37; iter: 200; batch classifier loss: 0.319934\n",
      "epoch 37; iter: 400; batch classifier loss: 0.327040\n",
      "epoch 37; iter: 600; batch classifier loss: 0.280901\n",
      "epoch 37; iter: 800; batch classifier loss: 0.312375\n",
      "epoch 38; iter: 0; batch classifier loss: 0.376301\n",
      "epoch 38; iter: 200; batch classifier loss: 0.344323\n",
      "epoch 38; iter: 400; batch classifier loss: 0.305685\n",
      "epoch 38; iter: 600; batch classifier loss: 0.292727\n",
      "epoch 38; iter: 800; batch classifier loss: 0.322732\n",
      "epoch 39; iter: 0; batch classifier loss: 0.249769\n",
      "epoch 39; iter: 200; batch classifier loss: 0.280604\n",
      "epoch 39; iter: 400; batch classifier loss: 0.307868\n",
      "epoch 39; iter: 600; batch classifier loss: 0.297945\n",
      "epoch 39; iter: 800; batch classifier loss: 0.325243\n",
      "epoch 40; iter: 0; batch classifier loss: 0.282206\n",
      "epoch 40; iter: 200; batch classifier loss: 0.347557\n",
      "epoch 40; iter: 400; batch classifier loss: 0.348978\n",
      "epoch 40; iter: 600; batch classifier loss: 0.342484\n",
      "epoch 40; iter: 800; batch classifier loss: 0.317308\n",
      "epoch 41; iter: 0; batch classifier loss: 0.246236\n",
      "epoch 41; iter: 200; batch classifier loss: 0.321364\n",
      "epoch 41; iter: 400; batch classifier loss: 0.362168\n",
      "epoch 41; iter: 600; batch classifier loss: 0.291256\n",
      "epoch 41; iter: 800; batch classifier loss: 0.294024\n",
      "epoch 42; iter: 0; batch classifier loss: 0.302302\n",
      "epoch 42; iter: 200; batch classifier loss: 0.366637\n",
      "epoch 42; iter: 400; batch classifier loss: 0.295563\n",
      "epoch 42; iter: 600; batch classifier loss: 0.282174\n",
      "epoch 42; iter: 800; batch classifier loss: 0.298428\n",
      "epoch 43; iter: 0; batch classifier loss: 0.289592\n",
      "epoch 43; iter: 200; batch classifier loss: 0.303319\n",
      "epoch 43; iter: 400; batch classifier loss: 0.318228\n",
      "epoch 43; iter: 600; batch classifier loss: 0.312600\n",
      "epoch 43; iter: 800; batch classifier loss: 0.365101\n",
      "epoch 44; iter: 0; batch classifier loss: 0.325167\n",
      "epoch 44; iter: 200; batch classifier loss: 0.325188\n",
      "epoch 44; iter: 400; batch classifier loss: 0.348286\n",
      "epoch 44; iter: 600; batch classifier loss: 0.290396\n",
      "epoch 44; iter: 800; batch classifier loss: 0.257295\n",
      "epoch 45; iter: 0; batch classifier loss: 0.287370\n",
      "epoch 45; iter: 200; batch classifier loss: 0.322276\n",
      "epoch 45; iter: 400; batch classifier loss: 0.298541\n",
      "epoch 45; iter: 600; batch classifier loss: 0.314983\n",
      "epoch 45; iter: 800; batch classifier loss: 0.297262\n",
      "epoch 46; iter: 0; batch classifier loss: 0.311303\n",
      "epoch 46; iter: 200; batch classifier loss: 0.254500\n",
      "epoch 46; iter: 400; batch classifier loss: 0.414889\n",
      "epoch 46; iter: 600; batch classifier loss: 0.291905\n",
      "epoch 46; iter: 800; batch classifier loss: 0.288069\n",
      "epoch 47; iter: 0; batch classifier loss: 0.267114\n",
      "epoch 47; iter: 200; batch classifier loss: 0.372906\n",
      "epoch 47; iter: 400; batch classifier loss: 0.250839\n",
      "epoch 47; iter: 600; batch classifier loss: 0.402251\n",
      "epoch 47; iter: 800; batch classifier loss: 0.330948\n",
      "epoch 48; iter: 0; batch classifier loss: 0.272440\n",
      "epoch 48; iter: 200; batch classifier loss: 0.213436\n",
      "epoch 48; iter: 400; batch classifier loss: 0.304474\n",
      "epoch 48; iter: 600; batch classifier loss: 0.237223\n",
      "epoch 48; iter: 800; batch classifier loss: 0.357345\n",
      "epoch 49; iter: 0; batch classifier loss: 0.225682\n",
      "epoch 49; iter: 200; batch classifier loss: 0.295656\n",
      "epoch 49; iter: 400; batch classifier loss: 0.323858\n",
      "epoch 49; iter: 600; batch classifier loss: 0.271531\n",
      "epoch 49; iter: 800; batch classifier loss: 0.328490\n"
     ]
    },
    {
     "data": {
      "text/plain": [
       "<aif360.algorithms.inprocessing.adversarial_debiasing.AdversarialDebiasing at 0x7f137e24dae0>"
      ]
     },
     "execution_count": 129,
     "metadata": {},
     "output_type": "execute_result"
    }
   ],
   "source": [
    "# Load post-processing algorithm that equalizes the odds\n",
    "# Learn parameters with debias set to False\n",
    "sess = tf.Session()\n",
    "plain_model = AdversarialDebiasing(privileged_groups = privileged_groups,\n",
    "                          unprivileged_groups = unprivileged_groups,\n",
    "                          scope_name='plain_classifier',\n",
    "                          debias=False,\n",
    "                          sess=sess)\n",
    "plain_model.fit(dataset_orig_train)"
   ]
  },
  {
   "cell_type": "code",
   "execution_count": 106,
   "metadata": {},
   "outputs": [],
   "source": [
    "# Apply the plain model to test data\n",
    "dataset_nodebiasing_train = plain_model.predict(dataset_orig_train)\n",
    "dataset_nodebiasing_test = plain_model.predict(dataset_orig_test)"
   ]
  },
  {
   "cell_type": "code",
   "execution_count": 107,
   "metadata": {},
   "outputs": [
    {
     "data": {
      "text/markdown": [
       "#### Plain model - without debiasing - dataset metrics"
      ],
      "text/plain": [
       "<IPython.core.display.Markdown object>"
      ]
     },
     "metadata": {},
     "output_type": "display_data"
    },
    {
     "name": "stdout",
     "output_type": "stream",
     "text": [
      "Train set: Difference in mean outcomes between unprivileged and privileged groups = 0.082386\n",
      "Test set: Difference in mean outcomes between unprivileged and privileged groups = 0.011212\n"
     ]
    },
    {
     "data": {
      "text/markdown": [
       "#### Plain model - without debiasing - classification metrics"
      ],
      "text/plain": [
       "<IPython.core.display.Markdown object>"
      ]
     },
     "metadata": {},
     "output_type": "display_data"
    },
    {
     "name": "stdout",
     "output_type": "stream",
     "text": [
      "Test set: Classification accuracy = 0.822887\n",
      "Test set: Balanced classification accuracy = 0.629412\n",
      "Test set: Disparate impact = 1.068230\n",
      "Test set: Equal opportunity difference = 0.051500\n",
      "Test set: Average odds difference = 0.033495\n",
      "Test set: Theil_index = 0.074225\n"
     ]
    }
   ],
   "source": [
    "# Metrics for the dataset from plain model (without debiasing)\n",
    "display(Markdown(\"#### Plain model - without debiasing - dataset metrics\"))\n",
    "metric_dataset_nodebiasing_train = BinaryLabelDatasetMetric(dataset_nodebiasing_train, \n",
    "                                             unprivileged_groups=unprivileged_groups,\n",
    "                                             privileged_groups=privileged_groups)\n",
    "\n",
    "print(\"Train set: Difference in mean outcomes between unprivileged and privileged groups = %f\" % metric_dataset_nodebiasing_train.mean_difference())\n",
    "\n",
    "metric_dataset_nodebiasing_test = BinaryLabelDatasetMetric(dataset_nodebiasing_test, \n",
    "                                             unprivileged_groups=unprivileged_groups,\n",
    "                                             privileged_groups=privileged_groups)\n",
    "\n",
    "print(\"Test set: Difference in mean outcomes between unprivileged and privileged groups = %f\" % metric_dataset_nodebiasing_test.mean_difference())\n",
    "\n",
    "display(Markdown(\"#### Plain model - without debiasing - classification metrics\"))\n",
    "classified_metric_nodebiasing_test = ClassificationMetric(dataset_orig_test, \n",
    "                                                 dataset_nodebiasing_test,\n",
    "                                                 unprivileged_groups=unprivileged_groups,\n",
    "                                                 privileged_groups=privileged_groups)\n",
    "print(\"Test set: Classification accuracy = %f\" % classified_metric_nodebiasing_test.accuracy())\n",
    "TPR = classified_metric_nodebiasing_test.true_positive_rate()\n",
    "TNR = classified_metric_nodebiasing_test.true_negative_rate()\n",
    "bal_acc_nodebiasing_test = 0.5*(TPR+TNR)\n",
    "print(\"Test set: Balanced classification accuracy = %f\" % bal_acc_nodebiasing_test)\n",
    "print(\"Test set: Disparate impact = %f\" % classified_metric_nodebiasing_test.disparate_impact())\n",
    "print(\"Test set: Equal opportunity difference = %f\" % classified_metric_nodebiasing_test.equal_opportunity_difference())\n",
    "print(\"Test set: Average odds difference = %f\" % classified_metric_nodebiasing_test.average_odds_difference())\n",
    "print(\"Test set: Theil_index = %f\" % classified_metric_nodebiasing_test.theil_index())"
   ]
  },
  {
   "cell_type": "code",
   "execution_count": 110,
   "metadata": {},
   "outputs": [],
   "source": [
    "sess.close()\n",
    "tf.reset_default_graph()\n",
    "sess = tf.Session()\n",
    "\n",
    "debiased_model = AdversarialDebiasing(privileged_groups = privileged_groups,\n",
    "                          unprivileged_groups = unprivileged_groups,\n",
    "                          scope_name='debiased_classifier',\n",
    "                          debias=True,\n",
    "                          sess=sess)"
   ]
  },
  {
   "cell_type": "code",
   "execution_count": 111,
   "metadata": {},
   "outputs": [
    {
     "name": "stdout",
     "output_type": "stream",
     "text": [
      "epoch 0; iter: 0; batch classifier loss: 6.177888; batch adversarial loss: 0.700714\n",
      "epoch 0; iter: 200; batch classifier loss: 1.124693; batch adversarial loss: 0.712609\n",
      "epoch 0; iter: 400; batch classifier loss: 0.721309; batch adversarial loss: 0.649016\n",
      "epoch 0; iter: 600; batch classifier loss: 0.598603; batch adversarial loss: 0.618723\n",
      "epoch 0; iter: 800; batch classifier loss: 0.647720; batch adversarial loss: 0.638899\n",
      "epoch 1; iter: 0; batch classifier loss: 0.525003; batch adversarial loss: 0.640142\n",
      "epoch 1; iter: 200; batch classifier loss: 0.554657; batch adversarial loss: 0.661752\n",
      "epoch 1; iter: 400; batch classifier loss: 0.574018; batch adversarial loss: 0.634854\n",
      "epoch 1; iter: 600; batch classifier loss: 0.550739; batch adversarial loss: 0.576887\n",
      "epoch 1; iter: 800; batch classifier loss: 0.515810; batch adversarial loss: 0.628874\n",
      "epoch 2; iter: 0; batch classifier loss: 0.562558; batch adversarial loss: 0.607326\n",
      "epoch 2; iter: 200; batch classifier loss: 0.464451; batch adversarial loss: 0.629776\n",
      "epoch 2; iter: 400; batch classifier loss: 0.536524; batch adversarial loss: 0.623320\n",
      "epoch 2; iter: 600; batch classifier loss: 0.461422; batch adversarial loss: 0.580079\n",
      "epoch 2; iter: 800; batch classifier loss: 0.446412; batch adversarial loss: 0.585538\n",
      "epoch 3; iter: 0; batch classifier loss: 0.509599; batch adversarial loss: 0.624190\n",
      "epoch 3; iter: 200; batch classifier loss: 0.487479; batch adversarial loss: 0.630784\n",
      "epoch 3; iter: 400; batch classifier loss: 0.427588; batch adversarial loss: 0.605091\n",
      "epoch 3; iter: 600; batch classifier loss: 0.403744; batch adversarial loss: 0.681723\n",
      "epoch 3; iter: 800; batch classifier loss: 0.494473; batch adversarial loss: 0.581244\n",
      "epoch 4; iter: 0; batch classifier loss: 0.470982; batch adversarial loss: 0.552179\n",
      "epoch 4; iter: 200; batch classifier loss: 0.480168; batch adversarial loss: 0.700171\n",
      "epoch 4; iter: 400; batch classifier loss: 0.437869; batch adversarial loss: 0.636474\n",
      "epoch 4; iter: 600; batch classifier loss: 0.516610; batch adversarial loss: 0.598476\n",
      "epoch 4; iter: 800; batch classifier loss: 0.402256; batch adversarial loss: 0.557348\n",
      "epoch 5; iter: 0; batch classifier loss: 0.421089; batch adversarial loss: 0.599230\n",
      "epoch 5; iter: 200; batch classifier loss: 0.409264; batch adversarial loss: 0.601316\n",
      "epoch 5; iter: 400; batch classifier loss: 0.469469; batch adversarial loss: 0.628184\n",
      "epoch 5; iter: 600; batch classifier loss: 0.450379; batch adversarial loss: 0.615812\n",
      "epoch 5; iter: 800; batch classifier loss: 0.432452; batch adversarial loss: 0.542520\n",
      "epoch 6; iter: 0; batch classifier loss: 0.439152; batch adversarial loss: 0.577205\n",
      "epoch 6; iter: 200; batch classifier loss: 0.486043; batch adversarial loss: 0.675453\n",
      "epoch 6; iter: 400; batch classifier loss: 0.487803; batch adversarial loss: 0.620150\n",
      "epoch 6; iter: 600; batch classifier loss: 0.408208; batch adversarial loss: 0.614322\n",
      "epoch 6; iter: 800; batch classifier loss: 0.414279; batch adversarial loss: 0.630228\n",
      "epoch 7; iter: 0; batch classifier loss: 0.382023; batch adversarial loss: 0.654791\n",
      "epoch 7; iter: 200; batch classifier loss: 0.384429; batch adversarial loss: 0.616850\n",
      "epoch 7; iter: 400; batch classifier loss: 0.377062; batch adversarial loss: 0.635604\n",
      "epoch 7; iter: 600; batch classifier loss: 0.389539; batch adversarial loss: 0.608374\n",
      "epoch 7; iter: 800; batch classifier loss: 0.500375; batch adversarial loss: 0.646439\n",
      "epoch 8; iter: 0; batch classifier loss: 0.385714; batch adversarial loss: 0.606957\n",
      "epoch 8; iter: 200; batch classifier loss: 0.278898; batch adversarial loss: 0.574308\n",
      "epoch 8; iter: 400; batch classifier loss: 0.435476; batch adversarial loss: 0.592805\n",
      "epoch 8; iter: 600; batch classifier loss: 0.466111; batch adversarial loss: 0.599516\n",
      "epoch 8; iter: 800; batch classifier loss: 0.438561; batch adversarial loss: 0.573792\n",
      "epoch 9; iter: 0; batch classifier loss: 0.343735; batch adversarial loss: 0.616507\n",
      "epoch 9; iter: 200; batch classifier loss: 0.462062; batch adversarial loss: 0.630619\n",
      "epoch 9; iter: 400; batch classifier loss: 0.404088; batch adversarial loss: 0.580128\n",
      "epoch 9; iter: 600; batch classifier loss: 0.386959; batch adversarial loss: 0.558348\n",
      "epoch 9; iter: 800; batch classifier loss: 0.327047; batch adversarial loss: 0.667973\n",
      "epoch 10; iter: 0; batch classifier loss: 0.317052; batch adversarial loss: 0.665909\n",
      "epoch 10; iter: 200; batch classifier loss: 0.520338; batch adversarial loss: 0.641667\n",
      "epoch 10; iter: 400; batch classifier loss: 0.320771; batch adversarial loss: 0.618820\n",
      "epoch 10; iter: 600; batch classifier loss: 0.400129; batch adversarial loss: 0.591127\n",
      "epoch 10; iter: 800; batch classifier loss: 0.408740; batch adversarial loss: 0.583961\n",
      "epoch 11; iter: 0; batch classifier loss: 0.507767; batch adversarial loss: 0.576334\n",
      "epoch 11; iter: 200; batch classifier loss: 0.405656; batch adversarial loss: 0.581925\n",
      "epoch 11; iter: 400; batch classifier loss: 0.338825; batch adversarial loss: 0.603557\n",
      "epoch 11; iter: 600; batch classifier loss: 0.370835; batch adversarial loss: 0.613068\n",
      "epoch 11; iter: 800; batch classifier loss: 0.341432; batch adversarial loss: 0.629405\n",
      "epoch 12; iter: 0; batch classifier loss: 0.398601; batch adversarial loss: 0.562086\n",
      "epoch 12; iter: 200; batch classifier loss: 0.409892; batch adversarial loss: 0.537814\n",
      "epoch 12; iter: 400; batch classifier loss: 0.308679; batch adversarial loss: 0.608583\n",
      "epoch 12; iter: 600; batch classifier loss: 0.420568; batch adversarial loss: 0.596633\n",
      "epoch 12; iter: 800; batch classifier loss: 0.414241; batch adversarial loss: 0.640999\n",
      "epoch 13; iter: 0; batch classifier loss: 0.422691; batch adversarial loss: 0.623407\n",
      "epoch 13; iter: 200; batch classifier loss: 0.415311; batch adversarial loss: 0.626989\n",
      "epoch 13; iter: 400; batch classifier loss: 0.537879; batch adversarial loss: 0.567562\n",
      "epoch 13; iter: 600; batch classifier loss: 0.400407; batch adversarial loss: 0.605674\n",
      "epoch 13; iter: 800; batch classifier loss: 0.412435; batch adversarial loss: 0.632370\n",
      "epoch 14; iter: 0; batch classifier loss: 0.347450; batch adversarial loss: 0.634439\n",
      "epoch 14; iter: 200; batch classifier loss: 0.464847; batch adversarial loss: 0.571253\n",
      "epoch 14; iter: 400; batch classifier loss: 0.309221; batch adversarial loss: 0.655684\n",
      "epoch 14; iter: 600; batch classifier loss: 0.364198; batch adversarial loss: 0.610032\n",
      "epoch 14; iter: 800; batch classifier loss: 0.408174; batch adversarial loss: 0.595144\n",
      "epoch 15; iter: 0; batch classifier loss: 0.321751; batch adversarial loss: 0.580310\n",
      "epoch 15; iter: 200; batch classifier loss: 0.357706; batch adversarial loss: 0.608617\n",
      "epoch 15; iter: 400; batch classifier loss: 0.266479; batch adversarial loss: 0.571427\n",
      "epoch 15; iter: 600; batch classifier loss: 0.413780; batch adversarial loss: 0.635021\n",
      "epoch 15; iter: 800; batch classifier loss: 0.340798; batch adversarial loss: 0.615324\n",
      "epoch 16; iter: 0; batch classifier loss: 0.428869; batch adversarial loss: 0.609873\n",
      "epoch 16; iter: 200; batch classifier loss: 0.363964; batch adversarial loss: 0.650653\n",
      "epoch 16; iter: 400; batch classifier loss: 0.333847; batch adversarial loss: 0.586936\n",
      "epoch 16; iter: 600; batch classifier loss: 0.375951; batch adversarial loss: 0.598542\n",
      "epoch 16; iter: 800; batch classifier loss: 0.278975; batch adversarial loss: 0.590854\n",
      "epoch 17; iter: 0; batch classifier loss: 0.318456; batch adversarial loss: 0.648288\n",
      "epoch 17; iter: 200; batch classifier loss: 0.394141; batch adversarial loss: 0.557961\n",
      "epoch 17; iter: 400; batch classifier loss: 0.276808; batch adversarial loss: 0.651443\n",
      "epoch 17; iter: 600; batch classifier loss: 0.300666; batch adversarial loss: 0.642393\n",
      "epoch 17; iter: 800; batch classifier loss: 0.363501; batch adversarial loss: 0.641259\n",
      "epoch 18; iter: 0; batch classifier loss: 0.307935; batch adversarial loss: 0.575978\n",
      "epoch 18; iter: 200; batch classifier loss: 0.456798; batch adversarial loss: 0.614830\n",
      "epoch 18; iter: 400; batch classifier loss: 0.301445; batch adversarial loss: 0.563255\n",
      "epoch 18; iter: 600; batch classifier loss: 0.354613; batch adversarial loss: 0.636133\n",
      "epoch 18; iter: 800; batch classifier loss: 0.349516; batch adversarial loss: 0.599583\n",
      "epoch 19; iter: 0; batch classifier loss: 0.299520; batch adversarial loss: 0.601070\n",
      "epoch 19; iter: 200; batch classifier loss: 0.368046; batch adversarial loss: 0.596422\n",
      "epoch 19; iter: 400; batch classifier loss: 0.358934; batch adversarial loss: 0.582607\n",
      "epoch 19; iter: 600; batch classifier loss: 0.435262; batch adversarial loss: 0.643192\n",
      "epoch 19; iter: 800; batch classifier loss: 0.388538; batch adversarial loss: 0.616506\n",
      "epoch 20; iter: 0; batch classifier loss: 0.310234; batch adversarial loss: 0.597325\n",
      "epoch 20; iter: 200; batch classifier loss: 0.419052; batch adversarial loss: 0.673922\n",
      "epoch 20; iter: 400; batch classifier loss: 0.318901; batch adversarial loss: 0.586307\n",
      "epoch 20; iter: 600; batch classifier loss: 0.338170; batch adversarial loss: 0.627845\n",
      "epoch 20; iter: 800; batch classifier loss: 0.231754; batch adversarial loss: 0.626845\n",
      "epoch 21; iter: 0; batch classifier loss: 0.350006; batch adversarial loss: 0.593948\n",
      "epoch 21; iter: 200; batch classifier loss: 0.285154; batch adversarial loss: 0.647054\n",
      "epoch 21; iter: 400; batch classifier loss: 0.328383; batch adversarial loss: 0.579350\n",
      "epoch 21; iter: 600; batch classifier loss: 0.305007; batch adversarial loss: 0.626266\n",
      "epoch 21; iter: 800; batch classifier loss: 0.335993; batch adversarial loss: 0.598526\n",
      "epoch 22; iter: 0; batch classifier loss: 0.345837; batch adversarial loss: 0.664130\n",
      "epoch 22; iter: 200; batch classifier loss: 0.367791; batch adversarial loss: 0.630082\n",
      "epoch 22; iter: 400; batch classifier loss: 0.317686; batch adversarial loss: 0.624775\n",
      "epoch 22; iter: 600; batch classifier loss: 0.238298; batch adversarial loss: 0.682805\n",
      "epoch 22; iter: 800; batch classifier loss: 0.360868; batch adversarial loss: 0.628597\n",
      "epoch 23; iter: 0; batch classifier loss: 0.320861; batch adversarial loss: 0.628295\n",
      "epoch 23; iter: 200; batch classifier loss: 0.264219; batch adversarial loss: 0.635149\n",
      "epoch 23; iter: 400; batch classifier loss: 0.374505; batch adversarial loss: 0.638884\n",
      "epoch 23; iter: 600; batch classifier loss: 0.255295; batch adversarial loss: 0.616508\n",
      "epoch 23; iter: 800; batch classifier loss: 0.357794; batch adversarial loss: 0.632766\n",
      "epoch 24; iter: 0; batch classifier loss: 0.348900; batch adversarial loss: 0.610486\n",
      "epoch 24; iter: 200; batch classifier loss: 0.343538; batch adversarial loss: 0.538703\n",
      "epoch 24; iter: 400; batch classifier loss: 0.303867; batch adversarial loss: 0.609936\n",
      "epoch 24; iter: 600; batch classifier loss: 0.345273; batch adversarial loss: 0.580738\n",
      "epoch 24; iter: 800; batch classifier loss: 0.387509; batch adversarial loss: 0.600679\n",
      "epoch 25; iter: 0; batch classifier loss: 0.391743; batch adversarial loss: 0.556361\n",
      "epoch 25; iter: 200; batch classifier loss: 0.300445; batch adversarial loss: 0.627289\n",
      "epoch 25; iter: 400; batch classifier loss: 0.293698; batch adversarial loss: 0.586097\n",
      "epoch 25; iter: 600; batch classifier loss: 0.337706; batch adversarial loss: 0.611006\n",
      "epoch 25; iter: 800; batch classifier loss: 0.406870; batch adversarial loss: 0.652718\n",
      "epoch 26; iter: 0; batch classifier loss: 0.382400; batch adversarial loss: 0.595069\n",
      "epoch 26; iter: 200; batch classifier loss: 0.423071; batch adversarial loss: 0.610789\n",
      "epoch 26; iter: 400; batch classifier loss: 0.343394; batch adversarial loss: 0.671105\n",
      "epoch 26; iter: 600; batch classifier loss: 0.295256; batch adversarial loss: 0.662160\n",
      "epoch 26; iter: 800; batch classifier loss: 0.307590; batch adversarial loss: 0.596690\n",
      "epoch 27; iter: 0; batch classifier loss: 0.477111; batch adversarial loss: 0.615601\n",
      "epoch 27; iter: 200; batch classifier loss: 0.348578; batch adversarial loss: 0.610360\n",
      "epoch 27; iter: 400; batch classifier loss: 0.307191; batch adversarial loss: 0.596358\n",
      "epoch 27; iter: 600; batch classifier loss: 0.351854; batch adversarial loss: 0.658374\n",
      "epoch 27; iter: 800; batch classifier loss: 0.398159; batch adversarial loss: 0.552278\n",
      "epoch 28; iter: 0; batch classifier loss: 0.340868; batch adversarial loss: 0.610019\n",
      "epoch 28; iter: 200; batch classifier loss: 0.429165; batch adversarial loss: 0.616368\n",
      "epoch 28; iter: 400; batch classifier loss: 0.294464; batch adversarial loss: 0.607734\n",
      "epoch 28; iter: 600; batch classifier loss: 0.344721; batch adversarial loss: 0.606240\n",
      "epoch 28; iter: 800; batch classifier loss: 0.378564; batch adversarial loss: 0.554631\n",
      "epoch 29; iter: 0; batch classifier loss: 0.365801; batch adversarial loss: 0.627238\n",
      "epoch 29; iter: 200; batch classifier loss: 0.303310; batch adversarial loss: 0.572163\n",
      "epoch 29; iter: 400; batch classifier loss: 0.407191; batch adversarial loss: 0.596308\n",
      "epoch 29; iter: 600; batch classifier loss: 0.376661; batch adversarial loss: 0.595957\n",
      "epoch 29; iter: 800; batch classifier loss: 0.339529; batch adversarial loss: 0.625628\n",
      "epoch 30; iter: 0; batch classifier loss: 0.282048; batch adversarial loss: 0.647181\n",
      "epoch 30; iter: 200; batch classifier loss: 0.344376; batch adversarial loss: 0.569094\n",
      "epoch 30; iter: 400; batch classifier loss: 0.315916; batch adversarial loss: 0.614354\n",
      "epoch 30; iter: 600; batch classifier loss: 0.301049; batch adversarial loss: 0.655503\n",
      "epoch 30; iter: 800; batch classifier loss: 0.317963; batch adversarial loss: 0.647523\n",
      "epoch 31; iter: 0; batch classifier loss: 0.305352; batch adversarial loss: 0.561882\n",
      "epoch 31; iter: 200; batch classifier loss: 0.380686; batch adversarial loss: 0.584981\n",
      "epoch 31; iter: 400; batch classifier loss: 0.300716; batch adversarial loss: 0.644390\n",
      "epoch 31; iter: 600; batch classifier loss: 0.295854; batch adversarial loss: 0.635745\n",
      "epoch 31; iter: 800; batch classifier loss: 0.386361; batch adversarial loss: 0.547775\n",
      "epoch 32; iter: 0; batch classifier loss: 0.277419; batch adversarial loss: 0.616983\n",
      "epoch 32; iter: 200; batch classifier loss: 0.334888; batch adversarial loss: 0.590257\n",
      "epoch 32; iter: 400; batch classifier loss: 0.426164; batch adversarial loss: 0.549307\n",
      "epoch 32; iter: 600; batch classifier loss: 0.377511; batch adversarial loss: 0.588774\n",
      "epoch 32; iter: 800; batch classifier loss: 0.320894; batch adversarial loss: 0.628484\n",
      "epoch 33; iter: 0; batch classifier loss: 0.168589; batch adversarial loss: 0.616226\n",
      "epoch 33; iter: 200; batch classifier loss: 0.277367; batch adversarial loss: 0.659713\n",
      "epoch 33; iter: 400; batch classifier loss: 0.263050; batch adversarial loss: 0.647839\n",
      "epoch 33; iter: 600; batch classifier loss: 0.321227; batch adversarial loss: 0.607247\n",
      "epoch 33; iter: 800; batch classifier loss: 0.245169; batch adversarial loss: 0.569257\n",
      "epoch 34; iter: 0; batch classifier loss: 0.391224; batch adversarial loss: 0.682051\n",
      "epoch 34; iter: 200; batch classifier loss: 0.327346; batch adversarial loss: 0.603722\n",
      "epoch 34; iter: 400; batch classifier loss: 0.419991; batch adversarial loss: 0.620507\n",
      "epoch 34; iter: 600; batch classifier loss: 0.364667; batch adversarial loss: 0.575324\n",
      "epoch 34; iter: 800; batch classifier loss: 0.262959; batch adversarial loss: 0.584641\n",
      "epoch 35; iter: 0; batch classifier loss: 0.365631; batch adversarial loss: 0.644272\n",
      "epoch 35; iter: 200; batch classifier loss: 0.351709; batch adversarial loss: 0.648175\n",
      "epoch 35; iter: 400; batch classifier loss: 0.346182; batch adversarial loss: 0.613471\n",
      "epoch 35; iter: 600; batch classifier loss: 0.313804; batch adversarial loss: 0.635739\n",
      "epoch 35; iter: 800; batch classifier loss: 0.381219; batch adversarial loss: 0.613977\n",
      "epoch 36; iter: 0; batch classifier loss: 0.370191; batch adversarial loss: 0.561282\n",
      "epoch 36; iter: 200; batch classifier loss: 0.347577; batch adversarial loss: 0.561329\n",
      "epoch 36; iter: 400; batch classifier loss: 0.278190; batch adversarial loss: 0.664595\n",
      "epoch 36; iter: 600; batch classifier loss: 0.407893; batch adversarial loss: 0.570945\n",
      "epoch 36; iter: 800; batch classifier loss: 0.316574; batch adversarial loss: 0.641854\n",
      "epoch 37; iter: 0; batch classifier loss: 0.300271; batch adversarial loss: 0.601189\n",
      "epoch 37; iter: 200; batch classifier loss: 0.278430; batch adversarial loss: 0.630348\n",
      "epoch 37; iter: 400; batch classifier loss: 0.366724; batch adversarial loss: 0.615602\n",
      "epoch 37; iter: 600; batch classifier loss: 0.315573; batch adversarial loss: 0.556584\n",
      "epoch 37; iter: 800; batch classifier loss: 0.248466; batch adversarial loss: 0.596517\n",
      "epoch 38; iter: 0; batch classifier loss: 0.226395; batch adversarial loss: 0.661141\n",
      "epoch 38; iter: 200; batch classifier loss: 0.275150; batch adversarial loss: 0.572529\n",
      "epoch 38; iter: 400; batch classifier loss: 0.403782; batch adversarial loss: 0.619588\n",
      "epoch 38; iter: 600; batch classifier loss: 0.290434; batch adversarial loss: 0.603308\n",
      "epoch 38; iter: 800; batch classifier loss: 0.267498; batch adversarial loss: 0.580837\n",
      "epoch 39; iter: 0; batch classifier loss: 0.344954; batch adversarial loss: 0.549832\n",
      "epoch 39; iter: 200; batch classifier loss: 0.300281; batch adversarial loss: 0.634381\n",
      "epoch 39; iter: 400; batch classifier loss: 0.377648; batch adversarial loss: 0.556524\n",
      "epoch 39; iter: 600; batch classifier loss: 0.319394; batch adversarial loss: 0.555123\n",
      "epoch 39; iter: 800; batch classifier loss: 0.350953; batch adversarial loss: 0.571458\n",
      "epoch 40; iter: 0; batch classifier loss: 0.324841; batch adversarial loss: 0.599755\n",
      "epoch 40; iter: 200; batch classifier loss: 0.347699; batch adversarial loss: 0.600977\n",
      "epoch 40; iter: 400; batch classifier loss: 0.349955; batch adversarial loss: 0.577955\n",
      "epoch 40; iter: 600; batch classifier loss: 0.327711; batch adversarial loss: 0.596001\n",
      "epoch 40; iter: 800; batch classifier loss: 0.429674; batch adversarial loss: 0.632068\n",
      "epoch 41; iter: 0; batch classifier loss: 0.322302; batch adversarial loss: 0.610625\n",
      "epoch 41; iter: 200; batch classifier loss: 0.368580; batch adversarial loss: 0.575688\n",
      "epoch 41; iter: 400; batch classifier loss: 0.366532; batch adversarial loss: 0.545976\n",
      "epoch 41; iter: 600; batch classifier loss: 0.359109; batch adversarial loss: 0.546255\n",
      "epoch 41; iter: 800; batch classifier loss: 0.287573; batch adversarial loss: 0.580178\n",
      "epoch 42; iter: 0; batch classifier loss: 0.321889; batch adversarial loss: 0.628285\n",
      "epoch 42; iter: 200; batch classifier loss: 0.255907; batch adversarial loss: 0.618104\n",
      "epoch 42; iter: 400; batch classifier loss: 0.302881; batch adversarial loss: 0.643269\n",
      "epoch 42; iter: 600; batch classifier loss: 0.325671; batch adversarial loss: 0.613446\n",
      "epoch 42; iter: 800; batch classifier loss: 0.316684; batch adversarial loss: 0.620802\n",
      "epoch 43; iter: 0; batch classifier loss: 0.271894; batch adversarial loss: 0.627908\n",
      "epoch 43; iter: 200; batch classifier loss: 0.292311; batch adversarial loss: 0.631907\n",
      "epoch 43; iter: 400; batch classifier loss: 0.426229; batch adversarial loss: 0.632951\n",
      "epoch 43; iter: 600; batch classifier loss: 0.323914; batch adversarial loss: 0.627634\n",
      "epoch 43; iter: 800; batch classifier loss: 0.248482; batch adversarial loss: 0.616663\n",
      "epoch 44; iter: 0; batch classifier loss: 0.358460; batch adversarial loss: 0.650551\n",
      "epoch 44; iter: 200; batch classifier loss: 0.339949; batch adversarial loss: 0.604850\n",
      "epoch 44; iter: 400; batch classifier loss: 0.340941; batch adversarial loss: 0.584678\n",
      "epoch 44; iter: 600; batch classifier loss: 0.373530; batch adversarial loss: 0.608726\n",
      "epoch 44; iter: 800; batch classifier loss: 0.217290; batch adversarial loss: 0.609876\n",
      "epoch 45; iter: 0; batch classifier loss: 0.327445; batch adversarial loss: 0.579011\n",
      "epoch 45; iter: 200; batch classifier loss: 0.360573; batch adversarial loss: 0.584349\n",
      "epoch 45; iter: 400; batch classifier loss: 0.282702; batch adversarial loss: 0.607937\n",
      "epoch 45; iter: 600; batch classifier loss: 0.304479; batch adversarial loss: 0.589693\n",
      "epoch 45; iter: 800; batch classifier loss: 0.385085; batch adversarial loss: 0.548975\n",
      "epoch 46; iter: 0; batch classifier loss: 0.256337; batch adversarial loss: 0.530787\n",
      "epoch 46; iter: 200; batch classifier loss: 0.332525; batch adversarial loss: 0.551179\n",
      "epoch 46; iter: 400; batch classifier loss: 0.327434; batch adversarial loss: 0.633480\n",
      "epoch 46; iter: 600; batch classifier loss: 0.229052; batch adversarial loss: 0.635529\n",
      "epoch 46; iter: 800; batch classifier loss: 0.247555; batch adversarial loss: 0.609699\n",
      "epoch 47; iter: 0; batch classifier loss: 0.336516; batch adversarial loss: 0.603798\n",
      "epoch 47; iter: 200; batch classifier loss: 0.254828; batch adversarial loss: 0.629344\n",
      "epoch 47; iter: 400; batch classifier loss: 0.302529; batch adversarial loss: 0.596606\n",
      "epoch 47; iter: 600; batch classifier loss: 0.257271; batch adversarial loss: 0.672560\n",
      "epoch 47; iter: 800; batch classifier loss: 0.272965; batch adversarial loss: 0.577274\n",
      "epoch 48; iter: 0; batch classifier loss: 0.302746; batch adversarial loss: 0.628724\n",
      "epoch 48; iter: 200; batch classifier loss: 0.342378; batch adversarial loss: 0.541851\n",
      "epoch 48; iter: 400; batch classifier loss: 0.411185; batch adversarial loss: 0.574462\n",
      "epoch 48; iter: 600; batch classifier loss: 0.292317; batch adversarial loss: 0.556379\n",
      "epoch 48; iter: 800; batch classifier loss: 0.442606; batch adversarial loss: 0.669517\n",
      "epoch 49; iter: 0; batch classifier loss: 0.324040; batch adversarial loss: 0.583504\n",
      "epoch 49; iter: 200; batch classifier loss: 0.309100; batch adversarial loss: 0.578296\n",
      "epoch 49; iter: 400; batch classifier loss: 0.214078; batch adversarial loss: 0.623755\n",
      "epoch 49; iter: 600; batch classifier loss: 0.339647; batch adversarial loss: 0.520656\n",
      "epoch 49; iter: 800; batch classifier loss: 0.373253; batch adversarial loss: 0.615391\n"
     ]
    },
    {
     "data": {
      "text/plain": [
       "<aif360.algorithms.inprocessing.adversarial_debiasing.AdversarialDebiasing at 0x7f1392f88a30>"
      ]
     },
     "execution_count": 111,
     "metadata": {},
     "output_type": "execute_result"
    }
   ],
   "source": [
    "debiased_model.fit(dataset_orig_train)"
   ]
  },
  {
   "cell_type": "code",
   "execution_count": 112,
   "metadata": {},
   "outputs": [],
   "source": [
    "# Apply the plain model to test data\n",
    "dataset_debiasing_train = debiased_model.predict(dataset_orig_train)\n",
    "dataset_debiasing_test = debiased_model.predict(dataset_orig_test)"
   ]
  },
  {
   "cell_type": "code",
   "execution_count": 113,
   "metadata": {},
   "outputs": [
    {
     "data": {
      "text/markdown": [
       "#### Plain model - without debiasing - dataset metrics"
      ],
      "text/plain": [
       "<IPython.core.display.Markdown object>"
      ]
     },
     "metadata": {},
     "output_type": "display_data"
    },
    {
     "name": "stdout",
     "output_type": "stream",
     "text": [
      "Train set: Difference in mean outcomes between unprivileged and privileged groups = 0.082386\n",
      "Test set: Difference in mean outcomes between unprivileged and privileged groups = 0.011212\n"
     ]
    },
    {
     "data": {
      "text/markdown": [
       "#### Model - with debiasing - dataset metrics"
      ],
      "text/plain": [
       "<IPython.core.display.Markdown object>"
      ]
     },
     "metadata": {},
     "output_type": "display_data"
    },
    {
     "name": "stdout",
     "output_type": "stream",
     "text": [
      "Train set: Difference in mean outcomes between unprivileged and privileged groups = 0.082957\n",
      "Test set: Difference in mean outcomes between unprivileged and privileged groups = 0.010330\n"
     ]
    },
    {
     "data": {
      "text/markdown": [
       "#### Plain model - without debiasing - classification metrics"
      ],
      "text/plain": [
       "<IPython.core.display.Markdown object>"
      ]
     },
     "metadata": {},
     "output_type": "display_data"
    },
    {
     "name": "stdout",
     "output_type": "stream",
     "text": [
      "Test set: Classification accuracy = 0.822887\n",
      "Test set: Balanced classification accuracy = 0.629412\n",
      "Test set: Disparate impact = 1.068230\n",
      "Test set: Equal opportunity difference = 0.051500\n",
      "Test set: Average odds difference = 0.033495\n",
      "Test set: Theil_index = 0.074225\n"
     ]
    },
    {
     "data": {
      "text/markdown": [
       "#### Model - with debiasing - classification metrics"
      ],
      "text/plain": [
       "<IPython.core.display.Markdown object>"
      ]
     },
     "metadata": {},
     "output_type": "display_data"
    },
    {
     "name": "stdout",
     "output_type": "stream",
     "text": [
      "Test set: Classification accuracy = 0.811279\n",
      "Test set: Balanced classification accuracy = 0.632437\n",
      "Test set: Disparate impact = 1.057924\n",
      "Test set: Equal opportunity difference = 0.074621\n",
      "Test set: Average odds difference = 0.044141\n",
      "Test set: Theil_index = 0.075338\n"
     ]
    }
   ],
   "source": [
    "# Metrics for the dataset from plain model (without debiasing)\n",
    "display(Markdown(\"#### Plain model - without debiasing - dataset metrics\"))\n",
    "print(\"Train set: Difference in mean outcomes between unprivileged and privileged groups = %f\" % metric_dataset_nodebiasing_train.mean_difference())\n",
    "print(\"Test set: Difference in mean outcomes between unprivileged and privileged groups = %f\" % metric_dataset_nodebiasing_test.mean_difference())\n",
    "\n",
    "# Metrics for the dataset from model with debiasing\n",
    "display(Markdown(\"#### Model - with debiasing - dataset metrics\"))\n",
    "metric_dataset_debiasing_train = BinaryLabelDatasetMetric(dataset_debiasing_train, \n",
    "                                             unprivileged_groups=unprivileged_groups,\n",
    "                                             privileged_groups=privileged_groups)\n",
    "\n",
    "print(\"Train set: Difference in mean outcomes between unprivileged and privileged groups = %f\" % metric_dataset_debiasing_train.mean_difference())\n",
    "\n",
    "metric_dataset_debiasing_test = BinaryLabelDatasetMetric(dataset_debiasing_test, \n",
    "                                             unprivileged_groups=unprivileged_groups,\n",
    "                                             privileged_groups=privileged_groups)\n",
    "\n",
    "print(\"Test set: Difference in mean outcomes between unprivileged and privileged groups = %f\" % metric_dataset_debiasing_test.mean_difference())\n",
    "\n",
    "\n",
    "\n",
    "display(Markdown(\"#### Plain model - without debiasing - classification metrics\"))\n",
    "print(\"Test set: Classification accuracy = %f\" % classified_metric_nodebiasing_test.accuracy())\n",
    "TPR = classified_metric_nodebiasing_test.true_positive_rate()\n",
    "TNR = classified_metric_nodebiasing_test.true_negative_rate()\n",
    "bal_acc_nodebiasing_test = 0.5*(TPR+TNR)\n",
    "print(\"Test set: Balanced classification accuracy = %f\" % bal_acc_nodebiasing_test)\n",
    "print(\"Test set: Disparate impact = %f\" % classified_metric_nodebiasing_test.disparate_impact())\n",
    "print(\"Test set: Equal opportunity difference = %f\" % classified_metric_nodebiasing_test.equal_opportunity_difference())\n",
    "print(\"Test set: Average odds difference = %f\" % classified_metric_nodebiasing_test.average_odds_difference())\n",
    "print(\"Test set: Theil_index = %f\" % classified_metric_nodebiasing_test.theil_index())\n",
    "\n",
    "\n",
    "\n",
    "display(Markdown(\"#### Model - with debiasing - classification metrics\"))\n",
    "classified_metric_debiasing_test = ClassificationMetric(dataset_orig_test, \n",
    "                                                 dataset_debiasing_test,\n",
    "                                                 unprivileged_groups=unprivileged_groups,\n",
    "                                                 privileged_groups=privileged_groups)\n",
    "print(\"Test set: Classification accuracy = %f\" % classified_metric_debiasing_test.accuracy())\n",
    "TPR = classified_metric_debiasing_test.true_positive_rate()\n",
    "TNR = classified_metric_debiasing_test.true_negative_rate()\n",
    "bal_acc_debiasing_test = 0.5*(TPR+TNR)\n",
    "print(\"Test set: Balanced classification accuracy = %f\" % bal_acc_debiasing_test)\n",
    "print(\"Test set: Disparate impact = %f\" % classified_metric_debiasing_test.disparate_impact())\n",
    "print(\"Test set: Equal opportunity difference = %f\" % classified_metric_debiasing_test.equal_opportunity_difference())\n",
    "print(\"Test set: Average odds difference = %f\" % classified_metric_debiasing_test.average_odds_difference())\n",
    "print(\"Test set: Theil_index = %f\" % classified_metric_debiasing_test.theil_index())"
   ]
  },
  {
   "cell_type": "code",
   "execution_count": null,
   "metadata": {},
   "outputs": [],
   "source": []
  }
 ],
 "metadata": {
  "kernelspec": {
   "display_name": "Python 3",
   "language": "python",
   "name": "python3"
  },
  "language_info": {
   "codemirror_mode": {
    "name": "ipython",
    "version": 3
   },
   "file_extension": ".py",
   "mimetype": "text/x-python",
   "name": "python",
   "nbconvert_exporter": "python",
   "pygments_lexer": "ipython3",
   "version": "3.10.12"
  }
 },
 "nbformat": 4,
 "nbformat_minor": 2
}
